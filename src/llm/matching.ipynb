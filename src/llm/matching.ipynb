{
 "cells": [
  {
   "cell_type": "code",
   "execution_count": 1,
   "metadata": {},
   "outputs": [
    {
     "name": "stdout",
     "output_type": "stream",
     "text": [
      "Requirement already satisfied: langchain in ./venv/lib/python3.10/site-packages (0.3.11)\n",
      "Requirement already satisfied: langchain-community in ./venv/lib/python3.10/site-packages (0.3.11)\n",
      "Requirement already satisfied: sentence-transformers in ./venv/lib/python3.10/site-packages (3.3.1)\n",
      "Requirement already satisfied: faiss-cpu in ./venv/lib/python3.10/site-packages (1.9.0.post1)\n",
      "Requirement already satisfied: langsmith<0.3,>=0.1.17 in ./venv/lib/python3.10/site-packages (from langchain) (0.2.3)\n",
      "Requirement already satisfied: numpy<2,>=1.22.4 in ./venv/lib/python3.10/site-packages (from langchain) (1.26.3)\n",
      "Requirement already satisfied: PyYAML>=5.3 in ./venv/lib/python3.10/site-packages (from langchain) (6.0.2)\n",
      "Requirement already satisfied: async-timeout<5.0.0,>=4.0.0 in ./venv/lib/python3.10/site-packages (from langchain) (4.0.3)\n",
      "Requirement already satisfied: aiohttp<4.0.0,>=3.8.3 in ./venv/lib/python3.10/site-packages (from langchain) (3.11.10)\n",
      "Requirement already satisfied: langchain-core<0.4.0,>=0.3.24 in ./venv/lib/python3.10/site-packages (from langchain) (0.3.24)\n",
      "Requirement already satisfied: pydantic<3.0.0,>=2.7.4 in ./venv/lib/python3.10/site-packages (from langchain) (2.10.3)\n",
      "Requirement already satisfied: langchain-text-splitters<0.4.0,>=0.3.0 in ./venv/lib/python3.10/site-packages (from langchain) (0.3.2)\n",
      "Requirement already satisfied: SQLAlchemy<3,>=1.4 in ./venv/lib/python3.10/site-packages (from langchain) (2.0.36)\n",
      "Requirement already satisfied: requests<3,>=2 in ./venv/lib/python3.10/site-packages (from langchain) (2.32.3)\n",
      "Requirement already satisfied: tenacity!=8.4.0,<10,>=8.1.0 in ./venv/lib/python3.10/site-packages (from langchain) (9.0.0)\n",
      "Requirement already satisfied: dataclasses-json<0.7,>=0.5.7 in ./venv/lib/python3.10/site-packages (from langchain-community) (0.6.7)\n",
      "Requirement already satisfied: pydantic-settings<3.0.0,>=2.4.0 in ./venv/lib/python3.10/site-packages (from langchain-community) (2.7.0)\n",
      "Requirement already satisfied: httpx-sse<0.5.0,>=0.4.0 in ./venv/lib/python3.10/site-packages (from langchain-community) (0.4.0)\n",
      "Requirement already satisfied: huggingface-hub>=0.20.0 in ./venv/lib/python3.10/site-packages (from sentence-transformers) (0.26.5)\n",
      "Requirement already satisfied: torch>=1.11.0 in ./venv/lib/python3.10/site-packages (from sentence-transformers) (2.5.1+cu121)\n",
      "Requirement already satisfied: scikit-learn in ./venv/lib/python3.10/site-packages (from sentence-transformers) (1.6.0)\n",
      "Requirement already satisfied: Pillow in ./venv/lib/python3.10/site-packages (from sentence-transformers) (10.2.0)\n",
      "Requirement already satisfied: scipy in ./venv/lib/python3.10/site-packages (from sentence-transformers) (1.14.1)\n",
      "Requirement already satisfied: transformers<5.0.0,>=4.41.0 in ./venv/lib/python3.10/site-packages (from sentence-transformers) (4.46.3)\n",
      "Requirement already satisfied: tqdm in ./venv/lib/python3.10/site-packages (from sentence-transformers) (4.67.1)\n",
      "Requirement already satisfied: packaging in ./venv/lib/python3.10/site-packages (from faiss-cpu) (24.2)\n",
      "Requirement already satisfied: yarl<2.0,>=1.17.0 in ./venv/lib/python3.10/site-packages (from aiohttp<4.0.0,>=3.8.3->langchain) (1.18.3)\n",
      "Requirement already satisfied: aiosignal>=1.1.2 in ./venv/lib/python3.10/site-packages (from aiohttp<4.0.0,>=3.8.3->langchain) (1.3.1)\n",
      "Requirement already satisfied: attrs>=17.3.0 in ./venv/lib/python3.10/site-packages (from aiohttp<4.0.0,>=3.8.3->langchain) (24.2.0)\n",
      "Requirement already satisfied: aiohappyeyeballs>=2.3.0 in ./venv/lib/python3.10/site-packages (from aiohttp<4.0.0,>=3.8.3->langchain) (2.4.4)\n",
      "Requirement already satisfied: multidict<7.0,>=4.5 in ./venv/lib/python3.10/site-packages (from aiohttp<4.0.0,>=3.8.3->langchain) (6.1.0)\n",
      "Requirement already satisfied: propcache>=0.2.0 in ./venv/lib/python3.10/site-packages (from aiohttp<4.0.0,>=3.8.3->langchain) (0.2.1)\n",
      "Requirement already satisfied: frozenlist>=1.1.1 in ./venv/lib/python3.10/site-packages (from aiohttp<4.0.0,>=3.8.3->langchain) (1.5.0)\n",
      "Requirement already satisfied: typing-inspect<1,>=0.4.0 in ./venv/lib/python3.10/site-packages (from dataclasses-json<0.7,>=0.5.7->langchain-community) (0.9.0)\n",
      "Requirement already satisfied: marshmallow<4.0.0,>=3.18.0 in ./venv/lib/python3.10/site-packages (from dataclasses-json<0.7,>=0.5.7->langchain-community) (3.23.1)\n",
      "Requirement already satisfied: filelock in ./venv/lib/python3.10/site-packages (from huggingface-hub>=0.20.0->sentence-transformers) (3.13.1)\n",
      "Requirement already satisfied: typing-extensions>=3.7.4.3 in ./venv/lib/python3.10/site-packages (from huggingface-hub>=0.20.0->sentence-transformers) (4.12.2)\n",
      "Requirement already satisfied: fsspec>=2023.5.0 in ./venv/lib/python3.10/site-packages (from huggingface-hub>=0.20.0->sentence-transformers) (2024.2.0)\n",
      "Requirement already satisfied: jsonpatch<2.0,>=1.33 in ./venv/lib/python3.10/site-packages (from langchain-core<0.4.0,>=0.3.24->langchain) (1.33)\n",
      "Requirement already satisfied: httpx<1,>=0.23.0 in ./venv/lib/python3.10/site-packages (from langsmith<0.3,>=0.1.17->langchain) (0.28.1)\n",
      "Requirement already satisfied: orjson<4.0.0,>=3.9.14 in ./venv/lib/python3.10/site-packages (from langsmith<0.3,>=0.1.17->langchain) (3.10.12)\n",
      "Requirement already satisfied: requests-toolbelt<2.0.0,>=1.0.0 in ./venv/lib/python3.10/site-packages (from langsmith<0.3,>=0.1.17->langchain) (1.0.0)\n",
      "Requirement already satisfied: pydantic-core==2.27.1 in ./venv/lib/python3.10/site-packages (from pydantic<3.0.0,>=2.7.4->langchain) (2.27.1)\n",
      "Requirement already satisfied: annotated-types>=0.6.0 in ./venv/lib/python3.10/site-packages (from pydantic<3.0.0,>=2.7.4->langchain) (0.7.0)\n",
      "Requirement already satisfied: python-dotenv>=0.21.0 in ./venv/lib/python3.10/site-packages (from pydantic-settings<3.0.0,>=2.4.0->langchain-community) (1.0.1)\n",
      "Requirement already satisfied: urllib3<3,>=1.21.1 in ./venv/lib/python3.10/site-packages (from requests<3,>=2->langchain) (2.2.3)\n",
      "Requirement already satisfied: charset-normalizer<4,>=2 in ./venv/lib/python3.10/site-packages (from requests<3,>=2->langchain) (3.4.0)\n",
      "Requirement already satisfied: idna<4,>=2.5 in ./venv/lib/python3.10/site-packages (from requests<3,>=2->langchain) (3.10)\n",
      "Requirement already satisfied: certifi>=2017.4.17 in ./venv/lib/python3.10/site-packages (from requests<3,>=2->langchain) (2024.8.30)\n",
      "Requirement already satisfied: greenlet!=0.4.17 in ./venv/lib/python3.10/site-packages (from SQLAlchemy<3,>=1.4->langchain) (3.1.1)\n",
      "Requirement already satisfied: nvidia-cudnn-cu12==9.1.0.70 in ./venv/lib/python3.10/site-packages (from torch>=1.11.0->sentence-transformers) (9.1.0.70)\n",
      "Requirement already satisfied: nvidia-cuda-runtime-cu12==12.1.105 in ./venv/lib/python3.10/site-packages (from torch>=1.11.0->sentence-transformers) (12.1.105)\n",
      "Requirement already satisfied: nvidia-cufft-cu12==11.0.2.54 in ./venv/lib/python3.10/site-packages (from torch>=1.11.0->sentence-transformers) (11.0.2.54)\n",
      "Requirement already satisfied: nvidia-cuda-nvrtc-cu12==12.1.105 in ./venv/lib/python3.10/site-packages (from torch>=1.11.0->sentence-transformers) (12.1.105)\n",
      "Requirement already satisfied: nvidia-curand-cu12==10.3.2.106 in ./venv/lib/python3.10/site-packages (from torch>=1.11.0->sentence-transformers) (10.3.2.106)\n",
      "Requirement already satisfied: nvidia-cusparse-cu12==12.1.0.106 in ./venv/lib/python3.10/site-packages (from torch>=1.11.0->sentence-transformers) (12.1.0.106)\n",
      "Requirement already satisfied: nvidia-cuda-cupti-cu12==12.1.105 in ./venv/lib/python3.10/site-packages (from torch>=1.11.0->sentence-transformers) (12.1.105)\n",
      "Requirement already satisfied: nvidia-cublas-cu12==12.1.3.1 in ./venv/lib/python3.10/site-packages (from torch>=1.11.0->sentence-transformers) (12.1.3.1)\n",
      "Requirement already satisfied: nvidia-cusolver-cu12==11.4.5.107 in ./venv/lib/python3.10/site-packages (from torch>=1.11.0->sentence-transformers) (11.4.5.107)\n",
      "Requirement already satisfied: nvidia-nvtx-cu12==12.1.105 in ./venv/lib/python3.10/site-packages (from torch>=1.11.0->sentence-transformers) (12.1.105)\n",
      "Requirement already satisfied: nvidia-nccl-cu12==2.21.5 in ./venv/lib/python3.10/site-packages (from torch>=1.11.0->sentence-transformers) (2.21.5)\n",
      "Requirement already satisfied: jinja2 in ./venv/lib/python3.10/site-packages (from torch>=1.11.0->sentence-transformers) (3.1.4)\n",
      "Requirement already satisfied: triton==3.1.0 in ./venv/lib/python3.10/site-packages (from torch>=1.11.0->sentence-transformers) (3.1.0)\n",
      "Requirement already satisfied: sympy==1.13.1 in ./venv/lib/python3.10/site-packages (from torch>=1.11.0->sentence-transformers) (1.13.1)\n",
      "Requirement already satisfied: networkx in ./venv/lib/python3.10/site-packages (from torch>=1.11.0->sentence-transformers) (3.2.1)\n",
      "Requirement already satisfied: nvidia-nvjitlink-cu12 in ./venv/lib/python3.10/site-packages (from nvidia-cusolver-cu12==11.4.5.107->torch>=1.11.0->sentence-transformers) (12.1.105)\n",
      "Requirement already satisfied: mpmath<1.4,>=1.1.0 in ./venv/lib/python3.10/site-packages (from sympy==1.13.1->torch>=1.11.0->sentence-transformers) (1.3.0)\n",
      "Requirement already satisfied: safetensors>=0.4.1 in ./venv/lib/python3.10/site-packages (from transformers<5.0.0,>=4.41.0->sentence-transformers) (0.4.5)\n",
      "Requirement already satisfied: tokenizers<0.21,>=0.20 in ./venv/lib/python3.10/site-packages (from transformers<5.0.0,>=4.41.0->sentence-transformers) (0.20.3)\n",
      "Requirement already satisfied: regex!=2019.12.17 in ./venv/lib/python3.10/site-packages (from transformers<5.0.0,>=4.41.0->sentence-transformers) (2024.11.6)\n",
      "Requirement already satisfied: threadpoolctl>=3.1.0 in ./venv/lib/python3.10/site-packages (from scikit-learn->sentence-transformers) (3.5.0)\n",
      "Requirement already satisfied: joblib>=1.2.0 in ./venv/lib/python3.10/site-packages (from scikit-learn->sentence-transformers) (1.4.2)\n",
      "Requirement already satisfied: anyio in ./venv/lib/python3.10/site-packages (from httpx<1,>=0.23.0->langsmith<0.3,>=0.1.17->langchain) (4.7.0)\n",
      "Requirement already satisfied: httpcore==1.* in ./venv/lib/python3.10/site-packages (from httpx<1,>=0.23.0->langsmith<0.3,>=0.1.17->langchain) (1.0.7)\n",
      "Requirement already satisfied: h11<0.15,>=0.13 in ./venv/lib/python3.10/site-packages (from httpcore==1.*->httpx<1,>=0.23.0->langsmith<0.3,>=0.1.17->langchain) (0.14.0)\n",
      "Requirement already satisfied: jsonpointer>=1.9 in ./venv/lib/python3.10/site-packages (from jsonpatch<2.0,>=1.33->langchain-core<0.4.0,>=0.3.24->langchain) (3.0.0)\n",
      "Requirement already satisfied: mypy-extensions>=0.3.0 in ./venv/lib/python3.10/site-packages (from typing-inspect<1,>=0.4.0->dataclasses-json<0.7,>=0.5.7->langchain-community) (1.0.0)\n",
      "Requirement already satisfied: MarkupSafe>=2.0 in ./venv/lib/python3.10/site-packages (from jinja2->torch>=1.11.0->sentence-transformers) (3.0.2)\n",
      "Requirement already satisfied: exceptiongroup>=1.0.2 in ./venv/lib/python3.10/site-packages (from anyio->httpx<1,>=0.23.0->langsmith<0.3,>=0.1.17->langchain) (1.2.2)\n",
      "Requirement already satisfied: sniffio>=1.1 in ./venv/lib/python3.10/site-packages (from anyio->httpx<1,>=0.23.0->langsmith<0.3,>=0.1.17->langchain) (1.3.1)\n"
     ]
    }
   ],
   "source": [
    "!pip install langchain langchain-community sentence-transformers faiss-cpu\n",
    "\n",
    "from langchain.vectorstores import FAISS\n",
    "from langchain.embeddings import HuggingFaceEmbeddings\n",
    "from langchain.schema import Document\n",
    "import pandas as pd\n",
    "from tqdm import tqdm"
   ]
  },
  {
   "cell_type": "code",
   "execution_count": 2,
   "metadata": {},
   "outputs": [],
   "source": [
    "# 1. Загрузка данных\n",
    "available_categories = ['Уход за волосами', 'Уход за лицом', 'Уход за телом', 'Макияж', 'Маникюр и педикюр', 'Парфюмерия', 'Загар и защита от солнца', 'Мужская косметика', 'Детская косметика и парфюмерия', 'Беременным и кормящим', 'Аппаратная косметология и массаж', 'Ароматерапия', 'Оборудование и материалы для тату-салона', 'Мебель и оборудование для салонов красоты', 'Для кошек', 'Для собак', 'Для грызунов и хорьков', 'Для птиц', 'Для рыб и рептилий', 'Для лошадей', 'Ветаптека', 'Фермерское хозяйство', 'Ветеринарное оборудование', 'Лекарственные средства', 'Витамины и БАДы', 'Парафармацевтика', 'Оптика', 'Медицинские приборы', 'Медицинское оборудование', 'Аксессуары и комплектующие', 'Медицинские изделия и расходные материалы', 'Одежда и текстиль медицинские', 'Медицинские инструменты', 'Материалы и средства стоматологические', 'Товары для гигиены', 'Товары для реабилитации', 'Ортопедия', 'Ручные массажеры и аппликаторы', 'Мебель медицинская', 'Женщинам', 'Мужчинам', 'Детям', 'Уход и аксессуары', 'Бытовая химия', 'Личная гигиена', 'Туризм и отдых на природе', 'Рыбалка', 'Охота и стрельба', 'Лодки и лодочные моторы', 'Одежда для рыбалки и охоты', 'Обувь для рыбалки и охоты', 'Тактическая одежда и аксессуары', 'Наборы для выживания', 'Автомобили новые', 'Климатическая техника', 'Техника для кухни', 'Техника для дома', 'Техника для красоты и здоровья', 'Крупная бытовая техника', 'Техника для общепита', 'Женщинам', 'Мужчинам', 'Детям', 'Униформа и рабочая одежда', 'Уход за одеждой', 'Электронные сертификаты', 'Онлайн-подписки', 'Игры и игровые подписки', 'Программное обеспечение', 'Облачные хранилища', 'Услуги', 'Садовая мебель', 'Компьютерная и офисная мебель', 'Мягкая мебель', 'Столы и стулья', 'Мебель для хранения', 'Мебель для спальни и комплектующие', 'Мебель для кухни', 'Мебель для ванной', 'Бескаркасная мебель', 'Детская мебель', 'Мебель для бизнеса', 'Сейфы и архивные шкафы', 'Телефоны и смарт-часы', 'Наушники и аудиотехника', 'Ноутбуки, планшеты и электронные книги', 'Телевизоры и видеотехника', 'Комплектующие для ПК', 'Компьютеры и периферия', 'Игровые приставки и ноутбуки', 'Офисная техника', 'Фото и видеокамеры', 'Охранные системы и видеонаблюдение', 'Умный дом', 'Квадрокоптеры и аксессуары', 'Навигаторы', 'Оптические приборы', 'Часы и электронные будильники', 'Аксессуары для электроники', 'Запчасти для легковых автомобилей', 'Автоаксессуары и принадлежности', 'Масла и автохимия', 'Шины и диски', 'Автозвук', 'Транспортные средства', 'Уход за автомобилем', 'Электроника для автомобиля', 'Инструменты и оборудование', 'Гараж и автосервис', 'Аккумуляторы и аксессуары', 'Мототовары', 'Запчасти для грузовиков и спецтехники', 'Автолитература', 'Коллекционирование', 'Посуда и утварь', 'Предметы военной истории', 'Предметы интерьера', 'Предметы быта', 'Мебель', 'Украшения', 'Часы наручные', 'Канцелярия', 'Приборы и инструменты', 'Живопись и графика', 'Виниловые пластинки', 'Галантерея', 'Товары для курения', 'Музыкальные инструменты', 'Религиозная атрибутика', 'Кольца', 'Серьги', 'Браслеты', 'Украшения на шею', 'Комплекты украшений', 'Шармы', 'Броши и значки', 'Пирсинг', 'Часы', 'Детские украшения', 'Запонки и зажимы', 'Сувениры', 'Шнурки', 'Аксессуары для волос', 'Религиозные украшения', 'Нехудожественная литература', 'Бизнес-литература', 'Художественная литература', 'Детям и родителям', 'Учебная литература', 'Электронные книги', 'Букинистика', 'Комиксы', 'Манга', 'Печать по требованию', 'Подарочные издания книг', 'Журналы и газеты', 'Литература на иностранных языках', 'Электронные аудиокниги', 'Подписки на электронные книги и аудиокниги', 'Антикварные книги', 'Книги б/у', 'Блокноты и ежедневники', 'Буклеты, листовки и брошюры', 'Товары для школы и обучения', 'Игрушки и игры', 'Спорт и игры на улице', 'Подгузники и гигиена', 'Детская комната', 'Коляски и автокресла', 'Детское питание', 'Товары для кормления', 'Товары для мам', 'Посуда и кухонные принадлежности', 'Текстиль', 'Освещение', 'Декор и интерьер', 'Дача и сад', 'Цветы, растения и горшки', 'Хозяйственные товары', 'Хранение вещей', 'Товары для бань и саун', 'Товары для праздников','Религия и эзотерика', 'Ритуальные товары', 'Женщинам', 'Мужчинам', 'Детям', 'Путешествия', 'Игровые жанры', 'PlayStation', 'Nintendo', 'Xbox', 'Игровые приставки', 'PC', 'Mobile gaming', 'Ретро-консоли', 'Игровые картриджи', 'Игровая атрибутика', 'Игровые наушники', 'Геймпады', 'Очки виртуальной реальности', 'Рули и педали', 'Аксессуары для игровых приставок', 'Аксессуары для киберспорта', 'Аккумуляторы и зарядки', 'Сумки и чехлы', 'Запчасти для игровых консолей', 'Музыка', 'Виниловые пластинки', 'Видео', 'Письменные принадлежности', 'Бумага', 'Бумажная продукция', 'Папки и файлы', 'Обложки', 'Демонстрационные доски', 'Офисные принадлежности', 'Подставки и визитницы', 'Печати и штампы', 'Калькуляторы', 'Картриджи для лазерных принтеров', 'Картриджи для струйных принтеров', 'Чертежные принадлежности', 'Оборудование и принадлежности для торговли', 'Полиграфическое оборудование', 'Сублимационная печать']"
   ]
  },
  {
   "cell_type": "code",
   "execution_count": 3,
   "metadata": {},
   "outputs": [
    {
     "name": "stdout",
     "output_type": "stream",
     "text": [
      "Using device: cuda\n"
     ]
    }
   ],
   "source": [
    "import torch\n",
    "device = torch.device(\"cuda\" if torch.cuda.is_available() else \"cpu\")\n",
    "print(f\"Using device: {device}\")"
   ]
  },
  {
   "cell_type": "code",
   "execution_count": 4,
   "metadata": {},
   "outputs": [
    {
     "name": "stderr",
     "output_type": "stream",
     "text": [
      "/tmp/ipykernel_147645/71589224.py:3: LangChainDeprecationWarning: The class `HuggingFaceEmbeddings` was deprecated in LangChain 0.2.2 and will be removed in 1.0. An updated version of the class exists in the :class:`~langchain-huggingface package and should be used instead. To use it run `pip install -U :class:`~langchain-huggingface` and import as `from :class:`~langchain_huggingface import HuggingFaceEmbeddings``.\n",
      "  embedding_model = HuggingFaceEmbeddings(model_name=\"BAAI/bge-m3\", model_kwargs=model_kwargs)\n"
     ]
    }
   ],
   "source": [
    "model_kwargs = {'device': device}\n",
    "# 2. Создание векторных представлений\n",
    "embedding_model = HuggingFaceEmbeddings(model_name=\"BAAI/bge-m3\", model_kwargs=model_kwargs)"
   ]
  },
  {
   "cell_type": "code",
   "execution_count": 5,
   "metadata": {},
   "outputs": [],
   "source": [
    "# Создаём векторы для available_categories\n",
    "available_category_vectors = embedding_model.embed_documents(available_categories)"
   ]
  },
  {
   "cell_type": "code",
   "execution_count": 6,
   "metadata": {},
   "outputs": [],
   "source": [
    "# 3. Создание векторной базы данных\n",
    "faiss_index = FAISS.from_texts(available_categories, embedding_model)"
   ]
  },
  {
   "cell_type": "code",
   "execution_count": 7,
   "metadata": {},
   "outputs": [],
   "source": [
    "# # 5. Вывод результатов\n",
    "# matched_df = pd.DataFrame(matches)\n",
    "# matched_df.to_csv(\"matched_categories.csv\", index=False)\n",
    "# print(matched_df.head())"
   ]
  },
  {
   "cell_type": "code",
   "execution_count": 8,
   "metadata": {},
   "outputs": [],
   "source": [
    "# df[\"matched_categories\"] = pd.Series([m['matched_category'] for m in matches])"
   ]
  },
  {
   "cell_type": "code",
   "execution_count": 9,
   "metadata": {},
   "outputs": [],
   "source": [
    "# df.to_csv(\"predicted_matched_categories.csv\", index=False, sep=';')"
   ]
  },
  {
   "cell_type": "code",
   "execution_count": 10,
   "metadata": {},
   "outputs": [],
   "source": [
    "# matched_categories = pd.read_csv(\"matched_categories.csv\")\n",
    "# matched_categories.head()"
   ]
  },
  {
   "cell_type": "code",
   "execution_count": 11,
   "metadata": {},
   "outputs": [],
   "source": [
    "# def func(el):\n",
    "#     # Filter the DataFrame\n",
    "#     filtered = matched_categories[matched_categories['predicted_category'] == el]\n",
    "    \n",
    "#     # Check if the filtered DataFrame is empty\n",
    "#     if filtered.empty:\n",
    "#         return \"No Match\"  # Default value for unmatched categories\n",
    "\n",
    "#     # Return the first unique match\n",
    "#     return filtered['matched_category'].unique()[0]\n"
   ]
  },
  {
   "cell_type": "code",
   "execution_count": 12,
   "metadata": {},
   "outputs": [],
   "source": [
    "# matched_categories['predicted_category'][:10]"
   ]
  },
  {
   "cell_type": "code",
   "execution_count": 13,
   "metadata": {},
   "outputs": [],
   "source": [
    "# list(map(func, matched_categories['predicted_category'][:10]))"
   ]
  },
  {
   "cell_type": "code",
   "execution_count": 14,
   "metadata": {},
   "outputs": [
    {
     "name": "stderr",
     "output_type": "stream",
     "text": [
      "\n",
      "IOPub data rate exceeded.\n",
      "The Jupyter server will temporarily stop sending output\n",
      "to the client in order to avoid crashing it.\n",
      "To change this limit, set the config variable\n",
      "`--ServerApp.iopub_data_rate_limit`.\n",
      "\n",
      "Current values:\n",
      "ServerApp.iopub_data_rate_limit=1000000.0 (bytes/sec)\n",
      "ServerApp.rate_limit_window=3.0 (secs)\n",
      "\n"
     ]
    }
   ],
   "source": [
    "import json\n",
    "\n",
    "predictions_path = \"pairs_final.json\"\n",
    "new_predictions_path = \"predicted_categories.json\"\n",
    "predicted_categories_map = {}\n",
    "\n",
    "# Load predictions\n",
    "with open(predictions_path, \"r\", encoding=\"utf-8\") as f:\n",
    "    predictions = json.load(f)\n",
    "\n",
    "# Process predictions\n",
    "for i, prediction in tqdm(enumerate(predictions), total=len(predictions), desc=\"Processing Predictions\"):\n",
    "    categories_to_match = prediction[2].split(\"; \")\n",
    "    prediction[-1] = categories_to_match\n",
    "    arr = []\n",
    "    for cat in categories_to_match:\n",
    "        arr.append(faiss_index.similarity_search(cat, k=1)[0].page_content)\n",
    "    # prediction.append(list(map(func, arr)))\n",
    "    prediction.append(arr)\n",
    "    predictions[i] = prediction\n",
    "\n",
    "# Save updated predictions\n",
    "with open(new_predictions_path, \"w\", encoding=\"utf-8\") as file:\n",
    "    json.dump(predictions, file, ensure_ascii=False, indent=4)\n",
    "\n",
    "\n",
    "print(predictions)\n"
   ]
  }
 ],
 "metadata": {
  "kaggle": {
   "accelerator": "gpu",
   "dataSources": [
    {
     "datasetId": 6291542,
     "sourceId": 10184408,
     "sourceType": "datasetVersion"
    },
    {
     "datasetId": 6298324,
     "sourceId": 10193457,
     "sourceType": "datasetVersion"
    }
   ],
   "dockerImageVersionId": 30804,
   "isGpuEnabled": true,
   "isInternetEnabled": true,
   "language": "python",
   "sourceType": "notebook"
  },
  "kernelspec": {
   "display_name": "Python 3 (ipykernel)",
   "language": "python",
   "name": "python3"
  },
  "language_info": {
   "codemirror_mode": {
    "name": "ipython",
    "version": 3
   },
   "file_extension": ".py",
   "mimetype": "text/x-python",
   "name": "python",
   "nbconvert_exporter": "python",
   "pygments_lexer": "ipython3",
   "version": "3.10.12"
  }
 },
 "nbformat": 4,
 "nbformat_minor": 4
}
