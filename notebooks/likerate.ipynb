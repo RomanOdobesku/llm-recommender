{
 "cells": [
  {
   "cell_type": "code",
   "execution_count": 1,
   "metadata": {},
   "outputs": [],
   "source": [
    "import pandas as pd\n",
    "import plotly.graph_objects as go"
   ]
  },
  {
   "cell_type": "code",
   "execution_count": 2,
   "metadata": {},
   "outputs": [],
   "source": [
    "# def replace_csv_separator(input_csv_path: str, output_csv_path: str):\n",
    "#     \"\"\"\n",
    "#     Replace the separator in a CSV file from ',' to ';'.\n",
    "\n",
    "#     :param input_csv_path: Path to the input CSV file with ',' separator.\n",
    "#     :param output_csv_path: Path to the output CSV file with ';' separator.\n",
    "#     \"\"\"\n",
    "#     # Read the input CSV file\n",
    "#     df = pd.read_csv(input_csv_path)\n",
    "\n",
    "#     # Write to a new CSV file with ';' as the separator\n",
    "#     df.to_csv(output_csv_path, sep=\";\", index=False)"
   ]
  },
  {
   "cell_type": "code",
   "execution_count": 3,
   "metadata": {},
   "outputs": [],
   "source": [
    "# Example usage\n",
    "# replace_csv_separator(\"input.csv\", \"output.csv\")"
   ]
  },
  {
   "cell_type": "code",
   "execution_count": 4,
   "metadata": {},
   "outputs": [],
   "source": [
    "def get_sessions(\n",
    "    interactions_path: str, eps: int, start_time: str = None, end_time: str = None\n",
    ") -> pd.DataFrame:\n",
    "    \"\"\"\n",
    "    Get a DataFrame with session IDs assigned to each interaction based on a time threshold.\n",
    "\n",
    "    :param interactions_path: Path to the CSV file containing user interactions data.\n",
    "    :param eps: The time difference (in seconds) threshold to define a new session.\n",
    "    :param start_time: Optional. Start of the time interval as a string.\n",
    "    :param end_time: Optional. End of the time interval as a string.\n",
    "    :return: A DataFrame with a new column \"session_id\" indicating\n",
    "             the session each interaction belongs to.\n",
    "    \"\"\"\n",
    "    interactions_df = pd.read_csv(interactions_path, sep=\";\")\n",
    "\n",
    "    if interactions_df.empty:\n",
    "        print(\"No interactions data available.\")\n",
    "        return pd.DataFrame()\n",
    "\n",
    "    interactions_df[\"time\"] = pd.to_datetime(interactions_df[\"time\"])\n",
    "\n",
    "    # Filter by time range if start_time and end_time are provided\n",
    "    if start_time:\n",
    "        start_time = pd.to_datetime(start_time)\n",
    "        interactions_df = interactions_df[interactions_df[\"time\"] >= start_time]\n",
    "    if end_time:\n",
    "        end_time = pd.to_datetime(end_time)\n",
    "        interactions_df = interactions_df[interactions_df[\"time\"] <= end_time]\n",
    "\n",
    "    interactions_df = interactions_df.sort_values(by=[\"user_id\", \"time\"])\n",
    "\n",
    "    # Calculate time differences between consecutive interactions for each user\n",
    "    interactions_df[\"time_diff\"] = (\n",
    "        interactions_df.groupby(\"user_id\")[\"time\"].diff().dt.total_seconds()\n",
    "    )\n",
    "\n",
    "    # Identify new sessions based on the time difference threshold\n",
    "    interactions_df[\"new_session\"] = (interactions_df[\"time_diff\"] > eps).fillna(True)\n",
    "\n",
    "    # Assign a session ID for each interaction\n",
    "    interactions_df[\"session_id\"] = interactions_df.groupby(\"user_id\")[\n",
    "        \"new_session\"\n",
    "    ].cumsum()\n",
    "\n",
    "    return interactions_df"
   ]
  },
  {
   "cell_type": "code",
   "execution_count": 5,
   "metadata": {},
   "outputs": [],
   "source": [
    "def compute_mean_ratios(\n",
    "    interactions_path: str, eps: int, start_time: str = None, end_time: str = None\n",
    ") -> float:\n",
    "    \"\"\"\n",
    "    Compute the mean ratio of likes to total interactions per session.\n",
    "\n",
    "    :param interactions_path: Path to the CSV file containing user interactions data.\n",
    "    :param eps: The time difference (in seconds) threshold to define a new session.\n",
    "    :param start_time: Optional. Start of the time interval as a string.\n",
    "    :param end_time: Optional. End of the time interval as a string.\n",
    "    :return: The mean ratio of likes (likes / (likes + dislikes)) as a float.\n",
    "    \"\"\"\n",
    "    interactions_df = get_sessions(interactions_path, eps, start_time, end_time)\n",
    "\n",
    "    if interactions_df.empty:\n",
    "        print(\"No data available for the specified time range.\")\n",
    "        return 0\n",
    "\n",
    "    # Calculate the like ratio per session for each user\n",
    "    session_ratios = (\n",
    "        interactions_df.groupby([\"user_id\", \"session_id\"])[\"interaction\"]\n",
    "        .mean()\n",
    "        .reset_index(name=\"like_ratio\")\n",
    "    )\n",
    "    # Calculate mean ratio per user\n",
    "    user_mean_ratios = (\n",
    "        session_ratios.groupby(\"user_id\")[\"like_ratio\"]\n",
    "        .mean()\n",
    "        .reset_index(name=\"user_mean_ratio\")\n",
    "    )\n",
    "    global_mean_ratio = user_mean_ratios[\"user_mean_ratio\"].mean()\n",
    "\n",
    "    return global_mean_ratio"
   ]
  },
  {
   "cell_type": "code",
   "execution_count": 6,
   "metadata": {},
   "outputs": [],
   "source": [
    "def plot_global_like_rate(\n",
    "    interactions_path: str,\n",
    "    delta: int,\n",
    "    manual_timestamps: list = None,\n",
    "    config: dict = None,\n",
    "):\n",
    "    \"\"\"\n",
    "    Plot the average like-rate over global sessions.\n",
    "\n",
    "    :param interactions_path: Path to the CSV file containing interactions data.\n",
    "    :param delta: Time gap (in seconds) to define a new global session.\n",
    "    :param manual_timestamps: List of manual timestamps (as strings) to define additional session splits.\n",
    "    :param config: Dictionary with configuration options:\n",
    "                   - start_time: Start of the time range as a string (default: None)\n",
    "                   - end_time: End of the time range as a string (default: None)\n",
    "                   - save_path: File path to save the generated plot (default: None)\n",
    "    \"\"\"\n",
    "    # Default configuration\n",
    "    config = config or {}\n",
    "    start_time = config.get(\"start_time\")\n",
    "    end_time = config.get(\"end_time\")\n",
    "    save_path = config.get(\"save_path\")\n",
    "\n",
    "    # Load the interactions data\n",
    "    interactions = pd.read_csv(interactions_path, sep=\";\")\n",
    "    interactions[\"time\"] = pd.to_datetime(interactions[\"time\"], errors=\"coerce\")\n",
    "    interactions = interactions.dropna(subset=[\"time\"])\n",
    "\n",
    "    # Convert start_time and end_time to datetime if provided\n",
    "    if start_time:\n",
    "        start_time = pd.to_datetime(start_time, errors=\"coerce\")\n",
    "        interactions = interactions[interactions[\"time\"] >= start_time]\n",
    "    if end_time:\n",
    "        end_time = pd.to_datetime(end_time, errors=\"coerce\")\n",
    "        interactions = interactions[interactions[\"time\"] <= end_time]\n",
    "\n",
    "    if interactions.empty:\n",
    "        print(\"No valid data available for the specified time range.\")\n",
    "        return\n",
    "\n",
    "    # Sort interactions by time\n",
    "    interactions = interactions.sort_values(by=\"time\")\n",
    "\n",
    "    # Convert manual_timestamps to datetime\n",
    "    if manual_timestamps:\n",
    "        manual_timestamps = sorted(pd.to_datetime(manual_timestamps, errors=\"coerce\"))\n",
    "    else:\n",
    "        manual_timestamps = []\n",
    "\n",
    "    # Define global sessions based on delta and manual timestamps\n",
    "    session_id = 1\n",
    "    session_ids = []\n",
    "    last_time = None\n",
    "\n",
    "    for idx, row in interactions.iterrows():\n",
    "        if last_time is None:\n",
    "            # Start of the first session\n",
    "            session_ids.append(session_id)\n",
    "        else:\n",
    "            # Check for session split\n",
    "            time_diff = (row[\"time\"] - last_time).total_seconds()\n",
    "            if time_diff > delta or any(\n",
    "                row[\"time\"] >= ts for ts in manual_timestamps if ts > last_time\n",
    "            ):\n",
    "                session_id += 1\n",
    "            session_ids.append(session_id)\n",
    "        last_time = row[\"time\"]\n",
    "\n",
    "    interactions[\"session_id\"] = session_ids\n",
    "\n",
    "    # Compute mean ratios for each\n",
    "    session_like_rates = []\n",
    "    session_labels = []\n",
    "    session_interactions_counts = []\n",
    "\n",
    "    for session_id in interactions[\"session_id\"].unique():\n",
    "        session_data = interactions[interactions[\"session_id\"] == session_id]\n",
    "        session_start = session_data[\"time\"].min()\n",
    "        session_end = session_data[\"time\"].max()\n",
    "        interaction_count = len(session_data)\n",
    "\n",
    "        like_rate = compute_mean_ratios(\n",
    "            interactions_path=interactions_path,\n",
    "            eps=delta,\n",
    "            start_time=str(session_start),\n",
    "            end_time=str(session_end),\n",
    "        )\n",
    "        session_like_rates.append(like_rate)\n",
    "        session_labels.append(\n",
    "            f\"{session_start.strftime('%b %d')}<br>{session_start.strftime('%H:%M')} - {session_end.strftime('%H:%M')}<br>{interaction_count} interactions\"\n",
    "        )\n",
    "        session_interactions_counts.append(interaction_count)\n",
    "\n",
    "    # Prepare the data for Plotly\n",
    "    fig = go.Figure()\n",
    "\n",
    "    # Add the line plot\n",
    "    fig.add_trace(\n",
    "        go.Scatter(\n",
    "            x=list(range(1, len(session_like_rates) + 1)),\n",
    "            y=session_like_rates,\n",
    "            mode=\"lines+markers\",\n",
    "            marker=dict(color=\"blue\", size=8),\n",
    "            line=dict(color=\"blue\", width=2),\n",
    "            name=f\"Global Like Rate (delta={delta // 3600}h)\",\n",
    "        )\n",
    "    )\n",
    "\n",
    "    # Update x-axis labels with session start and end times\n",
    "    fig.update_layout(\n",
    "        title=\"Like Rate Across Global Sessions\",\n",
    "        xaxis_title=\"Session ID (Start - End Times)\",\n",
    "        yaxis_title=\"Average Like Rate\",\n",
    "        template=\"plotly_white\",\n",
    "        legend=dict(title=\"Legend\"),\n",
    "        font=dict(size=12),\n",
    "        xaxis=dict(\n",
    "            tickmode=\"array\",\n",
    "            tickvals=list(range(1, len(session_like_rates) + 1)),\n",
    "            ticktext=session_labels,\n",
    "        ),\n",
    "        width=800,  # Adjust width here to make the plot narrower\n",
    "    )\n",
    "\n",
    "    if save_path:\n",
    "        fig.write_image(save_path)\n",
    "        print(f\"Graph saved at: {save_path}\")\n",
    "    else:\n",
    "        fig.show()\n",
    "\n",
    "\n",
    "# Example usage\n",
    "# plot_global_like_rate(\"interactions.csv\", delta=3600, manual_timestamps=[\"2024-12-01T12:00:00\", \"2024-12-01T18:00:00\"], config={\"save_path\": \"like_rate.png\"})"
   ]
  },
  {
   "cell_type": "markdown",
   "metadata": {},
   "source": [
    "### Like-rate graph with easter-eggs interactions (we did not clear easter-eggs from interactions). Cleared version is lower."
   ]
  },
  {
   "cell_type": "code",
   "execution_count": 7,
   "metadata": {},
   "outputs": [
    {
     "data": {
      "application/vnd.plotly.v1+json": {
       "config": {
        "plotlyServerURL": "https://plot.ly"
       },
       "data": [
        {
         "line": {
          "color": "blue",
          "width": 2
         },
         "marker": {
          "color": "blue",
          "size": 8
         },
         "mode": "lines+markers",
         "name": "Global Like Rate (delta=6h)",
         "type": "scatter",
         "x": [
          1,
          2,
          3,
          4,
          5,
          6
         ],
         "y": [
          0.3214045685831388,
          0.31546231546231546,
          0.5172631531941528,
          0.6225639161841101,
          0.6141051793254422,
          0.6632123753023434
         ]
        }
       ],
       "layout": {
        "font": {
         "size": 12
        },
        "legend": {
         "title": {
          "text": "Legend"
         }
        },
        "template": {
         "data": {
          "bar": [
           {
            "error_x": {
             "color": "#2a3f5f"
            },
            "error_y": {
             "color": "#2a3f5f"
            },
            "marker": {
             "line": {
              "color": "white",
              "width": 0.5
             },
             "pattern": {
              "fillmode": "overlay",
              "size": 10,
              "solidity": 0.2
             }
            },
            "type": "bar"
           }
          ],
          "barpolar": [
           {
            "marker": {
             "line": {
              "color": "white",
              "width": 0.5
             },
             "pattern": {
              "fillmode": "overlay",
              "size": 10,
              "solidity": 0.2
             }
            },
            "type": "barpolar"
           }
          ],
          "carpet": [
           {
            "aaxis": {
             "endlinecolor": "#2a3f5f",
             "gridcolor": "#C8D4E3",
             "linecolor": "#C8D4E3",
             "minorgridcolor": "#C8D4E3",
             "startlinecolor": "#2a3f5f"
            },
            "baxis": {
             "endlinecolor": "#2a3f5f",
             "gridcolor": "#C8D4E3",
             "linecolor": "#C8D4E3",
             "minorgridcolor": "#C8D4E3",
             "startlinecolor": "#2a3f5f"
            },
            "type": "carpet"
           }
          ],
          "choropleth": [
           {
            "colorbar": {
             "outlinewidth": 0,
             "ticks": ""
            },
            "type": "choropleth"
           }
          ],
          "contour": [
           {
            "colorbar": {
             "outlinewidth": 0,
             "ticks": ""
            },
            "colorscale": [
             [
              0,
              "#0d0887"
             ],
             [
              0.1111111111111111,
              "#46039f"
             ],
             [
              0.2222222222222222,
              "#7201a8"
             ],
             [
              0.3333333333333333,
              "#9c179e"
             ],
             [
              0.4444444444444444,
              "#bd3786"
             ],
             [
              0.5555555555555556,
              "#d8576b"
             ],
             [
              0.6666666666666666,
              "#ed7953"
             ],
             [
              0.7777777777777778,
              "#fb9f3a"
             ],
             [
              0.8888888888888888,
              "#fdca26"
             ],
             [
              1,
              "#f0f921"
             ]
            ],
            "type": "contour"
           }
          ],
          "contourcarpet": [
           {
            "colorbar": {
             "outlinewidth": 0,
             "ticks": ""
            },
            "type": "contourcarpet"
           }
          ],
          "heatmap": [
           {
            "colorbar": {
             "outlinewidth": 0,
             "ticks": ""
            },
            "colorscale": [
             [
              0,
              "#0d0887"
             ],
             [
              0.1111111111111111,
              "#46039f"
             ],
             [
              0.2222222222222222,
              "#7201a8"
             ],
             [
              0.3333333333333333,
              "#9c179e"
             ],
             [
              0.4444444444444444,
              "#bd3786"
             ],
             [
              0.5555555555555556,
              "#d8576b"
             ],
             [
              0.6666666666666666,
              "#ed7953"
             ],
             [
              0.7777777777777778,
              "#fb9f3a"
             ],
             [
              0.8888888888888888,
              "#fdca26"
             ],
             [
              1,
              "#f0f921"
             ]
            ],
            "type": "heatmap"
           }
          ],
          "heatmapgl": [
           {
            "colorbar": {
             "outlinewidth": 0,
             "ticks": ""
            },
            "colorscale": [
             [
              0,
              "#0d0887"
             ],
             [
              0.1111111111111111,
              "#46039f"
             ],
             [
              0.2222222222222222,
              "#7201a8"
             ],
             [
              0.3333333333333333,
              "#9c179e"
             ],
             [
              0.4444444444444444,
              "#bd3786"
             ],
             [
              0.5555555555555556,
              "#d8576b"
             ],
             [
              0.6666666666666666,
              "#ed7953"
             ],
             [
              0.7777777777777778,
              "#fb9f3a"
             ],
             [
              0.8888888888888888,
              "#fdca26"
             ],
             [
              1,
              "#f0f921"
             ]
            ],
            "type": "heatmapgl"
           }
          ],
          "histogram": [
           {
            "marker": {
             "pattern": {
              "fillmode": "overlay",
              "size": 10,
              "solidity": 0.2
             }
            },
            "type": "histogram"
           }
          ],
          "histogram2d": [
           {
            "colorbar": {
             "outlinewidth": 0,
             "ticks": ""
            },
            "colorscale": [
             [
              0,
              "#0d0887"
             ],
             [
              0.1111111111111111,
              "#46039f"
             ],
             [
              0.2222222222222222,
              "#7201a8"
             ],
             [
              0.3333333333333333,
              "#9c179e"
             ],
             [
              0.4444444444444444,
              "#bd3786"
             ],
             [
              0.5555555555555556,
              "#d8576b"
             ],
             [
              0.6666666666666666,
              "#ed7953"
             ],
             [
              0.7777777777777778,
              "#fb9f3a"
             ],
             [
              0.8888888888888888,
              "#fdca26"
             ],
             [
              1,
              "#f0f921"
             ]
            ],
            "type": "histogram2d"
           }
          ],
          "histogram2dcontour": [
           {
            "colorbar": {
             "outlinewidth": 0,
             "ticks": ""
            },
            "colorscale": [
             [
              0,
              "#0d0887"
             ],
             [
              0.1111111111111111,
              "#46039f"
             ],
             [
              0.2222222222222222,
              "#7201a8"
             ],
             [
              0.3333333333333333,
              "#9c179e"
             ],
             [
              0.4444444444444444,
              "#bd3786"
             ],
             [
              0.5555555555555556,
              "#d8576b"
             ],
             [
              0.6666666666666666,
              "#ed7953"
             ],
             [
              0.7777777777777778,
              "#fb9f3a"
             ],
             [
              0.8888888888888888,
              "#fdca26"
             ],
             [
              1,
              "#f0f921"
             ]
            ],
            "type": "histogram2dcontour"
           }
          ],
          "mesh3d": [
           {
            "colorbar": {
             "outlinewidth": 0,
             "ticks": ""
            },
            "type": "mesh3d"
           }
          ],
          "parcoords": [
           {
            "line": {
             "colorbar": {
              "outlinewidth": 0,
              "ticks": ""
             }
            },
            "type": "parcoords"
           }
          ],
          "pie": [
           {
            "automargin": true,
            "type": "pie"
           }
          ],
          "scatter": [
           {
            "fillpattern": {
             "fillmode": "overlay",
             "size": 10,
             "solidity": 0.2
            },
            "type": "scatter"
           }
          ],
          "scatter3d": [
           {
            "line": {
             "colorbar": {
              "outlinewidth": 0,
              "ticks": ""
             }
            },
            "marker": {
             "colorbar": {
              "outlinewidth": 0,
              "ticks": ""
             }
            },
            "type": "scatter3d"
           }
          ],
          "scattercarpet": [
           {
            "marker": {
             "colorbar": {
              "outlinewidth": 0,
              "ticks": ""
             }
            },
            "type": "scattercarpet"
           }
          ],
          "scattergeo": [
           {
            "marker": {
             "colorbar": {
              "outlinewidth": 0,
              "ticks": ""
             }
            },
            "type": "scattergeo"
           }
          ],
          "scattergl": [
           {
            "marker": {
             "colorbar": {
              "outlinewidth": 0,
              "ticks": ""
             }
            },
            "type": "scattergl"
           }
          ],
          "scattermapbox": [
           {
            "marker": {
             "colorbar": {
              "outlinewidth": 0,
              "ticks": ""
             }
            },
            "type": "scattermapbox"
           }
          ],
          "scatterpolar": [
           {
            "marker": {
             "colorbar": {
              "outlinewidth": 0,
              "ticks": ""
             }
            },
            "type": "scatterpolar"
           }
          ],
          "scatterpolargl": [
           {
            "marker": {
             "colorbar": {
              "outlinewidth": 0,
              "ticks": ""
             }
            },
            "type": "scatterpolargl"
           }
          ],
          "scatterternary": [
           {
            "marker": {
             "colorbar": {
              "outlinewidth": 0,
              "ticks": ""
             }
            },
            "type": "scatterternary"
           }
          ],
          "surface": [
           {
            "colorbar": {
             "outlinewidth": 0,
             "ticks": ""
            },
            "colorscale": [
             [
              0,
              "#0d0887"
             ],
             [
              0.1111111111111111,
              "#46039f"
             ],
             [
              0.2222222222222222,
              "#7201a8"
             ],
             [
              0.3333333333333333,
              "#9c179e"
             ],
             [
              0.4444444444444444,
              "#bd3786"
             ],
             [
              0.5555555555555556,
              "#d8576b"
             ],
             [
              0.6666666666666666,
              "#ed7953"
             ],
             [
              0.7777777777777778,
              "#fb9f3a"
             ],
             [
              0.8888888888888888,
              "#fdca26"
             ],
             [
              1,
              "#f0f921"
             ]
            ],
            "type": "surface"
           }
          ],
          "table": [
           {
            "cells": {
             "fill": {
              "color": "#EBF0F8"
             },
             "line": {
              "color": "white"
             }
            },
            "header": {
             "fill": {
              "color": "#C8D4E3"
             },
             "line": {
              "color": "white"
             }
            },
            "type": "table"
           }
          ]
         },
         "layout": {
          "annotationdefaults": {
           "arrowcolor": "#2a3f5f",
           "arrowhead": 0,
           "arrowwidth": 1
          },
          "autotypenumbers": "strict",
          "coloraxis": {
           "colorbar": {
            "outlinewidth": 0,
            "ticks": ""
           }
          },
          "colorscale": {
           "diverging": [
            [
             0,
             "#8e0152"
            ],
            [
             0.1,
             "#c51b7d"
            ],
            [
             0.2,
             "#de77ae"
            ],
            [
             0.3,
             "#f1b6da"
            ],
            [
             0.4,
             "#fde0ef"
            ],
            [
             0.5,
             "#f7f7f7"
            ],
            [
             0.6,
             "#e6f5d0"
            ],
            [
             0.7,
             "#b8e186"
            ],
            [
             0.8,
             "#7fbc41"
            ],
            [
             0.9,
             "#4d9221"
            ],
            [
             1,
             "#276419"
            ]
           ],
           "sequential": [
            [
             0,
             "#0d0887"
            ],
            [
             0.1111111111111111,
             "#46039f"
            ],
            [
             0.2222222222222222,
             "#7201a8"
            ],
            [
             0.3333333333333333,
             "#9c179e"
            ],
            [
             0.4444444444444444,
             "#bd3786"
            ],
            [
             0.5555555555555556,
             "#d8576b"
            ],
            [
             0.6666666666666666,
             "#ed7953"
            ],
            [
             0.7777777777777778,
             "#fb9f3a"
            ],
            [
             0.8888888888888888,
             "#fdca26"
            ],
            [
             1,
             "#f0f921"
            ]
           ],
           "sequentialminus": [
            [
             0,
             "#0d0887"
            ],
            [
             0.1111111111111111,
             "#46039f"
            ],
            [
             0.2222222222222222,
             "#7201a8"
            ],
            [
             0.3333333333333333,
             "#9c179e"
            ],
            [
             0.4444444444444444,
             "#bd3786"
            ],
            [
             0.5555555555555556,
             "#d8576b"
            ],
            [
             0.6666666666666666,
             "#ed7953"
            ],
            [
             0.7777777777777778,
             "#fb9f3a"
            ],
            [
             0.8888888888888888,
             "#fdca26"
            ],
            [
             1,
             "#f0f921"
            ]
           ]
          },
          "colorway": [
           "#636efa",
           "#EF553B",
           "#00cc96",
           "#ab63fa",
           "#FFA15A",
           "#19d3f3",
           "#FF6692",
           "#B6E880",
           "#FF97FF",
           "#FECB52"
          ],
          "font": {
           "color": "#2a3f5f"
          },
          "geo": {
           "bgcolor": "white",
           "lakecolor": "white",
           "landcolor": "white",
           "showlakes": true,
           "showland": true,
           "subunitcolor": "#C8D4E3"
          },
          "hoverlabel": {
           "align": "left"
          },
          "hovermode": "closest",
          "mapbox": {
           "style": "light"
          },
          "paper_bgcolor": "white",
          "plot_bgcolor": "white",
          "polar": {
           "angularaxis": {
            "gridcolor": "#EBF0F8",
            "linecolor": "#EBF0F8",
            "ticks": ""
           },
           "bgcolor": "white",
           "radialaxis": {
            "gridcolor": "#EBF0F8",
            "linecolor": "#EBF0F8",
            "ticks": ""
           }
          },
          "scene": {
           "xaxis": {
            "backgroundcolor": "white",
            "gridcolor": "#DFE8F3",
            "gridwidth": 2,
            "linecolor": "#EBF0F8",
            "showbackground": true,
            "ticks": "",
            "zerolinecolor": "#EBF0F8"
           },
           "yaxis": {
            "backgroundcolor": "white",
            "gridcolor": "#DFE8F3",
            "gridwidth": 2,
            "linecolor": "#EBF0F8",
            "showbackground": true,
            "ticks": "",
            "zerolinecolor": "#EBF0F8"
           },
           "zaxis": {
            "backgroundcolor": "white",
            "gridcolor": "#DFE8F3",
            "gridwidth": 2,
            "linecolor": "#EBF0F8",
            "showbackground": true,
            "ticks": "",
            "zerolinecolor": "#EBF0F8"
           }
          },
          "shapedefaults": {
           "line": {
            "color": "#2a3f5f"
           }
          },
          "ternary": {
           "aaxis": {
            "gridcolor": "#DFE8F3",
            "linecolor": "#A2B1C6",
            "ticks": ""
           },
           "baxis": {
            "gridcolor": "#DFE8F3",
            "linecolor": "#A2B1C6",
            "ticks": ""
           },
           "bgcolor": "white",
           "caxis": {
            "gridcolor": "#DFE8F3",
            "linecolor": "#A2B1C6",
            "ticks": ""
           }
          },
          "title": {
           "x": 0.05
          },
          "xaxis": {
           "automargin": true,
           "gridcolor": "#EBF0F8",
           "linecolor": "#EBF0F8",
           "ticks": "",
           "title": {
            "standoff": 15
           },
           "zerolinecolor": "#EBF0F8",
           "zerolinewidth": 2
          },
          "yaxis": {
           "automargin": true,
           "gridcolor": "#EBF0F8",
           "linecolor": "#EBF0F8",
           "ticks": "",
           "title": {
            "standoff": 15
           },
           "zerolinecolor": "#EBF0F8",
           "zerolinewidth": 2
          }
         }
        },
        "title": {
         "text": "Like Rate Across Global Sessions"
        },
        "width": 800,
        "xaxis": {
         "tickmode": "array",
         "ticktext": [
          "Dec 10<br>12:25 - 21:03<br>1780 interactions",
          "Dec 11<br>07:01 - 18:06<br>94 interactions",
          "Dec 12<br>06:39 - 16:00<br>2928 interactions",
          "Dec 13<br>08:00 - 04:34<br>7867 interactions",
          "Dec 14<br>07:02 - 09:00<br>5572 interactions",
          "Dec 14<br>09:00 - 11:10<br>5823 interactions"
         ],
         "tickvals": [
          1,
          2,
          3,
          4,
          5,
          6
         ],
         "title": {
          "text": "Session ID (Start - End Times)"
         }
        },
        "yaxis": {
         "title": {
          "text": "Average Like Rate"
         }
        }
       }
      }
     },
     "metadata": {},
     "output_type": "display_data"
    }
   ],
   "source": [
    "# Example usage\n",
    "plot_global_like_rate(\n",
    "    \"../data/interactions5.csv\",\n",
    "    delta=6 * 60 * 60,\n",
    "    manual_timestamps=[\n",
    "        \"2024-12-14T7:00:00\",  # boot with LLM2 + TopPop ...\n",
    "        \"2024-12-14T9:00:34\",\n",
    "    ],\n",
    ")"
   ]
  },
  {
   "cell_type": "markdown",
   "metadata": {},
   "source": [
    "### Masking easter-eggs from interactions because they affect (negatively) on like-rate"
   ]
  },
  {
   "cell_type": "code",
   "execution_count": 8,
   "metadata": {},
   "outputs": [],
   "source": [
    "def merge_item_cat2(\n",
    "    interactions_df: pd.DataFrame,\n",
    "    items_path: str,\n",
    ") -> pd.DataFrame:\n",
    "    \"\"\"\n",
    "    Merge items from interactions_df with their item_id from items file.\n",
    "    \"\"\"\n",
    "    # Load data\n",
    "    items_df = pd.read_csv(items_path, sep=\",\")\n",
    "\n",
    "    # Ensure 'cat2' is mapped from items.csv where missing\n",
    "    interactions_df = interactions_df.merge(\n",
    "        items_df[[\"item_id\", \"cat2\"]],\n",
    "        on=\"item_id\",\n",
    "        how=\"left\",\n",
    "        suffixes=(\"\", \"_from_items\"),\n",
    "    )\n",
    "\n",
    "    # Fill missing 'cat2' from items.csv\n",
    "    if \"cat2_from_items\" in interactions_df.columns:\n",
    "        interactions_df[\"cat2\"] = interactions_df[\"cat2\"].combine_first(\n",
    "            interactions_df[\"cat2_from_items\"]\n",
    "        )\n",
    "        interactions_df.drop(columns=[\"cat2_from_items\"], inplace=True, errors=\"ignore\")\n",
    "\n",
    "    return interactions_df"
   ]
  },
  {
   "cell_type": "code",
   "execution_count": 9,
   "metadata": {},
   "outputs": [],
   "source": [
    "def merge_item_cat2_without_sirius(\n",
    "    interactions_df: pd.DataFrame,\n",
    "    items_path: str,\n",
    ") -> pd.DataFrame:\n",
    "    \"\"\"\n",
    "    Merge items from interactions_df with their item_id from items file,\n",
    "    and remove interactions where cat2 == \"sirius\".\n",
    "\n",
    "    :param interactions_df: DataFrame with interactions data.\n",
    "    :param items_path: Path to the items CSV file.\n",
    "    :return: Filtered and merged DataFrame.\n",
    "    \"\"\"\n",
    "    # Load data\n",
    "    items_df = pd.read_csv(items_path, sep=\",\")\n",
    "\n",
    "    # Ensure 'cat2' is mapped from items.csv where missing\n",
    "    interactions_df = interactions_df.merge(\n",
    "        items_df[[\"item_id\", \"cat2\"]],\n",
    "        on=\"item_id\",\n",
    "        how=\"left\",\n",
    "        suffixes=(\"\", \"_from_items\"),\n",
    "    )\n",
    "\n",
    "    # Fill missing 'cat2' from items.csv\n",
    "    if \"cat2_from_items\" in interactions_df.columns:\n",
    "        interactions_df[\"cat2\"] = interactions_df[\"cat2\"].combine_first(\n",
    "            interactions_df[\"cat2_from_items\"]\n",
    "        )\n",
    "        interactions_df.drop(columns=[\"cat2_from_items\"], inplace=True, errors=\"ignore\")\n",
    "\n",
    "    # Remove rows where cat2 == \"sirius\"\n",
    "    interactions_df = interactions_df[interactions_df[\"cat2\"] != \"sirius\"]\n",
    "\n",
    "    return interactions_df\n"
   ]
  },
  {
   "cell_type": "code",
   "execution_count": 10,
   "metadata": {},
   "outputs": [],
   "source": [
    "all_interactions = pd.read_csv(\"../data/interactions5.csv\", sep=\";\")\n",
    "all_interactions_no_eggs = merge_item_cat2_without_sirius(\n",
    "    all_interactions, items_path=\"../data/items.csv\"\n",
    ")\n",
    "no_eggs_filepath = \"../data/interactions5_no_sirius.csv\"\n",
    "all_interactions_no_eggs.to_csv(no_eggs_filepath, sep=\";\")"
   ]
  },
  {
   "cell_type": "markdown",
   "metadata": {},
   "source": [
    "### Like-rate graph without easter-eggs interactions (we cleared easter-eggs from interactions)"
   ]
  },
  {
   "cell_type": "code",
   "execution_count": 11,
   "metadata": {},
   "outputs": [
    {
     "data": {
      "application/vnd.plotly.v1+json": {
       "config": {
        "plotlyServerURL": "https://plot.ly"
       },
       "data": [
        {
         "line": {
          "color": "blue",
          "width": 2
         },
         "marker": {
          "color": "blue",
          "size": 8
         },
         "mode": "lines+markers",
         "name": "Global Like Rate (delta=6h)",
         "type": "scatter",
         "x": [
          1,
          2,
          3,
          4,
          5,
          6
         ],
         "y": [
          0.3214045685831388,
          0.31546231546231546,
          0.5172631531941528,
          0.6227905501528331,
          0.6471649142449765,
          0.6909502628243194
         ]
        }
       ],
       "layout": {
        "font": {
         "size": 12
        },
        "legend": {
         "title": {
          "text": "Legend"
         }
        },
        "template": {
         "data": {
          "bar": [
           {
            "error_x": {
             "color": "#2a3f5f"
            },
            "error_y": {
             "color": "#2a3f5f"
            },
            "marker": {
             "line": {
              "color": "white",
              "width": 0.5
             },
             "pattern": {
              "fillmode": "overlay",
              "size": 10,
              "solidity": 0.2
             }
            },
            "type": "bar"
           }
          ],
          "barpolar": [
           {
            "marker": {
             "line": {
              "color": "white",
              "width": 0.5
             },
             "pattern": {
              "fillmode": "overlay",
              "size": 10,
              "solidity": 0.2
             }
            },
            "type": "barpolar"
           }
          ],
          "carpet": [
           {
            "aaxis": {
             "endlinecolor": "#2a3f5f",
             "gridcolor": "#C8D4E3",
             "linecolor": "#C8D4E3",
             "minorgridcolor": "#C8D4E3",
             "startlinecolor": "#2a3f5f"
            },
            "baxis": {
             "endlinecolor": "#2a3f5f",
             "gridcolor": "#C8D4E3",
             "linecolor": "#C8D4E3",
             "minorgridcolor": "#C8D4E3",
             "startlinecolor": "#2a3f5f"
            },
            "type": "carpet"
           }
          ],
          "choropleth": [
           {
            "colorbar": {
             "outlinewidth": 0,
             "ticks": ""
            },
            "type": "choropleth"
           }
          ],
          "contour": [
           {
            "colorbar": {
             "outlinewidth": 0,
             "ticks": ""
            },
            "colorscale": [
             [
              0,
              "#0d0887"
             ],
             [
              0.1111111111111111,
              "#46039f"
             ],
             [
              0.2222222222222222,
              "#7201a8"
             ],
             [
              0.3333333333333333,
              "#9c179e"
             ],
             [
              0.4444444444444444,
              "#bd3786"
             ],
             [
              0.5555555555555556,
              "#d8576b"
             ],
             [
              0.6666666666666666,
              "#ed7953"
             ],
             [
              0.7777777777777778,
              "#fb9f3a"
             ],
             [
              0.8888888888888888,
              "#fdca26"
             ],
             [
              1,
              "#f0f921"
             ]
            ],
            "type": "contour"
           }
          ],
          "contourcarpet": [
           {
            "colorbar": {
             "outlinewidth": 0,
             "ticks": ""
            },
            "type": "contourcarpet"
           }
          ],
          "heatmap": [
           {
            "colorbar": {
             "outlinewidth": 0,
             "ticks": ""
            },
            "colorscale": [
             [
              0,
              "#0d0887"
             ],
             [
              0.1111111111111111,
              "#46039f"
             ],
             [
              0.2222222222222222,
              "#7201a8"
             ],
             [
              0.3333333333333333,
              "#9c179e"
             ],
             [
              0.4444444444444444,
              "#bd3786"
             ],
             [
              0.5555555555555556,
              "#d8576b"
             ],
             [
              0.6666666666666666,
              "#ed7953"
             ],
             [
              0.7777777777777778,
              "#fb9f3a"
             ],
             [
              0.8888888888888888,
              "#fdca26"
             ],
             [
              1,
              "#f0f921"
             ]
            ],
            "type": "heatmap"
           }
          ],
          "heatmapgl": [
           {
            "colorbar": {
             "outlinewidth": 0,
             "ticks": ""
            },
            "colorscale": [
             [
              0,
              "#0d0887"
             ],
             [
              0.1111111111111111,
              "#46039f"
             ],
             [
              0.2222222222222222,
              "#7201a8"
             ],
             [
              0.3333333333333333,
              "#9c179e"
             ],
             [
              0.4444444444444444,
              "#bd3786"
             ],
             [
              0.5555555555555556,
              "#d8576b"
             ],
             [
              0.6666666666666666,
              "#ed7953"
             ],
             [
              0.7777777777777778,
              "#fb9f3a"
             ],
             [
              0.8888888888888888,
              "#fdca26"
             ],
             [
              1,
              "#f0f921"
             ]
            ],
            "type": "heatmapgl"
           }
          ],
          "histogram": [
           {
            "marker": {
             "pattern": {
              "fillmode": "overlay",
              "size": 10,
              "solidity": 0.2
             }
            },
            "type": "histogram"
           }
          ],
          "histogram2d": [
           {
            "colorbar": {
             "outlinewidth": 0,
             "ticks": ""
            },
            "colorscale": [
             [
              0,
              "#0d0887"
             ],
             [
              0.1111111111111111,
              "#46039f"
             ],
             [
              0.2222222222222222,
              "#7201a8"
             ],
             [
              0.3333333333333333,
              "#9c179e"
             ],
             [
              0.4444444444444444,
              "#bd3786"
             ],
             [
              0.5555555555555556,
              "#d8576b"
             ],
             [
              0.6666666666666666,
              "#ed7953"
             ],
             [
              0.7777777777777778,
              "#fb9f3a"
             ],
             [
              0.8888888888888888,
              "#fdca26"
             ],
             [
              1,
              "#f0f921"
             ]
            ],
            "type": "histogram2d"
           }
          ],
          "histogram2dcontour": [
           {
            "colorbar": {
             "outlinewidth": 0,
             "ticks": ""
            },
            "colorscale": [
             [
              0,
              "#0d0887"
             ],
             [
              0.1111111111111111,
              "#46039f"
             ],
             [
              0.2222222222222222,
              "#7201a8"
             ],
             [
              0.3333333333333333,
              "#9c179e"
             ],
             [
              0.4444444444444444,
              "#bd3786"
             ],
             [
              0.5555555555555556,
              "#d8576b"
             ],
             [
              0.6666666666666666,
              "#ed7953"
             ],
             [
              0.7777777777777778,
              "#fb9f3a"
             ],
             [
              0.8888888888888888,
              "#fdca26"
             ],
             [
              1,
              "#f0f921"
             ]
            ],
            "type": "histogram2dcontour"
           }
          ],
          "mesh3d": [
           {
            "colorbar": {
             "outlinewidth": 0,
             "ticks": ""
            },
            "type": "mesh3d"
           }
          ],
          "parcoords": [
           {
            "line": {
             "colorbar": {
              "outlinewidth": 0,
              "ticks": ""
             }
            },
            "type": "parcoords"
           }
          ],
          "pie": [
           {
            "automargin": true,
            "type": "pie"
           }
          ],
          "scatter": [
           {
            "fillpattern": {
             "fillmode": "overlay",
             "size": 10,
             "solidity": 0.2
            },
            "type": "scatter"
           }
          ],
          "scatter3d": [
           {
            "line": {
             "colorbar": {
              "outlinewidth": 0,
              "ticks": ""
             }
            },
            "marker": {
             "colorbar": {
              "outlinewidth": 0,
              "ticks": ""
             }
            },
            "type": "scatter3d"
           }
          ],
          "scattercarpet": [
           {
            "marker": {
             "colorbar": {
              "outlinewidth": 0,
              "ticks": ""
             }
            },
            "type": "scattercarpet"
           }
          ],
          "scattergeo": [
           {
            "marker": {
             "colorbar": {
              "outlinewidth": 0,
              "ticks": ""
             }
            },
            "type": "scattergeo"
           }
          ],
          "scattergl": [
           {
            "marker": {
             "colorbar": {
              "outlinewidth": 0,
              "ticks": ""
             }
            },
            "type": "scattergl"
           }
          ],
          "scattermapbox": [
           {
            "marker": {
             "colorbar": {
              "outlinewidth": 0,
              "ticks": ""
             }
            },
            "type": "scattermapbox"
           }
          ],
          "scatterpolar": [
           {
            "marker": {
             "colorbar": {
              "outlinewidth": 0,
              "ticks": ""
             }
            },
            "type": "scatterpolar"
           }
          ],
          "scatterpolargl": [
           {
            "marker": {
             "colorbar": {
              "outlinewidth": 0,
              "ticks": ""
             }
            },
            "type": "scatterpolargl"
           }
          ],
          "scatterternary": [
           {
            "marker": {
             "colorbar": {
              "outlinewidth": 0,
              "ticks": ""
             }
            },
            "type": "scatterternary"
           }
          ],
          "surface": [
           {
            "colorbar": {
             "outlinewidth": 0,
             "ticks": ""
            },
            "colorscale": [
             [
              0,
              "#0d0887"
             ],
             [
              0.1111111111111111,
              "#46039f"
             ],
             [
              0.2222222222222222,
              "#7201a8"
             ],
             [
              0.3333333333333333,
              "#9c179e"
             ],
             [
              0.4444444444444444,
              "#bd3786"
             ],
             [
              0.5555555555555556,
              "#d8576b"
             ],
             [
              0.6666666666666666,
              "#ed7953"
             ],
             [
              0.7777777777777778,
              "#fb9f3a"
             ],
             [
              0.8888888888888888,
              "#fdca26"
             ],
             [
              1,
              "#f0f921"
             ]
            ],
            "type": "surface"
           }
          ],
          "table": [
           {
            "cells": {
             "fill": {
              "color": "#EBF0F8"
             },
             "line": {
              "color": "white"
             }
            },
            "header": {
             "fill": {
              "color": "#C8D4E3"
             },
             "line": {
              "color": "white"
             }
            },
            "type": "table"
           }
          ]
         },
         "layout": {
          "annotationdefaults": {
           "arrowcolor": "#2a3f5f",
           "arrowhead": 0,
           "arrowwidth": 1
          },
          "autotypenumbers": "strict",
          "coloraxis": {
           "colorbar": {
            "outlinewidth": 0,
            "ticks": ""
           }
          },
          "colorscale": {
           "diverging": [
            [
             0,
             "#8e0152"
            ],
            [
             0.1,
             "#c51b7d"
            ],
            [
             0.2,
             "#de77ae"
            ],
            [
             0.3,
             "#f1b6da"
            ],
            [
             0.4,
             "#fde0ef"
            ],
            [
             0.5,
             "#f7f7f7"
            ],
            [
             0.6,
             "#e6f5d0"
            ],
            [
             0.7,
             "#b8e186"
            ],
            [
             0.8,
             "#7fbc41"
            ],
            [
             0.9,
             "#4d9221"
            ],
            [
             1,
             "#276419"
            ]
           ],
           "sequential": [
            [
             0,
             "#0d0887"
            ],
            [
             0.1111111111111111,
             "#46039f"
            ],
            [
             0.2222222222222222,
             "#7201a8"
            ],
            [
             0.3333333333333333,
             "#9c179e"
            ],
            [
             0.4444444444444444,
             "#bd3786"
            ],
            [
             0.5555555555555556,
             "#d8576b"
            ],
            [
             0.6666666666666666,
             "#ed7953"
            ],
            [
             0.7777777777777778,
             "#fb9f3a"
            ],
            [
             0.8888888888888888,
             "#fdca26"
            ],
            [
             1,
             "#f0f921"
            ]
           ],
           "sequentialminus": [
            [
             0,
             "#0d0887"
            ],
            [
             0.1111111111111111,
             "#46039f"
            ],
            [
             0.2222222222222222,
             "#7201a8"
            ],
            [
             0.3333333333333333,
             "#9c179e"
            ],
            [
             0.4444444444444444,
             "#bd3786"
            ],
            [
             0.5555555555555556,
             "#d8576b"
            ],
            [
             0.6666666666666666,
             "#ed7953"
            ],
            [
             0.7777777777777778,
             "#fb9f3a"
            ],
            [
             0.8888888888888888,
             "#fdca26"
            ],
            [
             1,
             "#f0f921"
            ]
           ]
          },
          "colorway": [
           "#636efa",
           "#EF553B",
           "#00cc96",
           "#ab63fa",
           "#FFA15A",
           "#19d3f3",
           "#FF6692",
           "#B6E880",
           "#FF97FF",
           "#FECB52"
          ],
          "font": {
           "color": "#2a3f5f"
          },
          "geo": {
           "bgcolor": "white",
           "lakecolor": "white",
           "landcolor": "white",
           "showlakes": true,
           "showland": true,
           "subunitcolor": "#C8D4E3"
          },
          "hoverlabel": {
           "align": "left"
          },
          "hovermode": "closest",
          "mapbox": {
           "style": "light"
          },
          "paper_bgcolor": "white",
          "plot_bgcolor": "white",
          "polar": {
           "angularaxis": {
            "gridcolor": "#EBF0F8",
            "linecolor": "#EBF0F8",
            "ticks": ""
           },
           "bgcolor": "white",
           "radialaxis": {
            "gridcolor": "#EBF0F8",
            "linecolor": "#EBF0F8",
            "ticks": ""
           }
          },
          "scene": {
           "xaxis": {
            "backgroundcolor": "white",
            "gridcolor": "#DFE8F3",
            "gridwidth": 2,
            "linecolor": "#EBF0F8",
            "showbackground": true,
            "ticks": "",
            "zerolinecolor": "#EBF0F8"
           },
           "yaxis": {
            "backgroundcolor": "white",
            "gridcolor": "#DFE8F3",
            "gridwidth": 2,
            "linecolor": "#EBF0F8",
            "showbackground": true,
            "ticks": "",
            "zerolinecolor": "#EBF0F8"
           },
           "zaxis": {
            "backgroundcolor": "white",
            "gridcolor": "#DFE8F3",
            "gridwidth": 2,
            "linecolor": "#EBF0F8",
            "showbackground": true,
            "ticks": "",
            "zerolinecolor": "#EBF0F8"
           }
          },
          "shapedefaults": {
           "line": {
            "color": "#2a3f5f"
           }
          },
          "ternary": {
           "aaxis": {
            "gridcolor": "#DFE8F3",
            "linecolor": "#A2B1C6",
            "ticks": ""
           },
           "baxis": {
            "gridcolor": "#DFE8F3",
            "linecolor": "#A2B1C6",
            "ticks": ""
           },
           "bgcolor": "white",
           "caxis": {
            "gridcolor": "#DFE8F3",
            "linecolor": "#A2B1C6",
            "ticks": ""
           }
          },
          "title": {
           "x": 0.05
          },
          "xaxis": {
           "automargin": true,
           "gridcolor": "#EBF0F8",
           "linecolor": "#EBF0F8",
           "ticks": "",
           "title": {
            "standoff": 15
           },
           "zerolinecolor": "#EBF0F8",
           "zerolinewidth": 2
          },
          "yaxis": {
           "automargin": true,
           "gridcolor": "#EBF0F8",
           "linecolor": "#EBF0F8",
           "ticks": "",
           "title": {
            "standoff": 15
           },
           "zerolinecolor": "#EBF0F8",
           "zerolinewidth": 2
          }
         }
        },
        "title": {
         "text": "Like Rate Across Global Sessions"
        },
        "width": 800,
        "xaxis": {
         "tickmode": "array",
         "ticktext": [
          "Dec 10<br>12:25 - 21:03<br>1780 interactions",
          "Dec 11<br>07:01 - 18:06<br>94 interactions",
          "Dec 12<br>06:39 - 16:00<br>2928 interactions",
          "Dec 13<br>08:00 - 04:34<br>7849 interactions",
          "Dec 14<br>07:02 - 09:00<br>4998 interactions",
          "Dec 14<br>09:00 - 11:10<br>5268 interactions"
         ],
         "tickvals": [
          1,
          2,
          3,
          4,
          5,
          6
         ],
         "title": {
          "text": "Session ID (Start - End Times)"
         }
        },
        "yaxis": {
         "title": {
          "text": "Average Like Rate"
         }
        }
       }
      }
     },
     "metadata": {},
     "output_type": "display_data"
    }
   ],
   "source": [
    "# Example usage\n",
    "plot_global_like_rate(\n",
    "    no_eggs_filepath,\n",
    "    delta=6 * 60 * 60,\n",
    "    manual_timestamps=[\n",
    "        \"2024-12-14T7:00:00\",  # boot with LLM2 + TopPop ...\n",
    "        \"2024-12-14T9:00:34\",  # boot with LLM2 + TopPop + dislikes + ...\n",
    "    ],\n",
    ")"
   ]
  }
 ],
 "metadata": {
  "kernelspec": {
   "display_name": "Python 3",
   "language": "python",
   "name": "python3"
  },
  "language_info": {
   "codemirror_mode": {
    "name": "ipython",
    "version": 3
   },
   "file_extension": ".py",
   "mimetype": "text/x-python",
   "name": "python",
   "nbconvert_exporter": "python",
   "pygments_lexer": "ipython3",
   "version": "3.10.12"
  }
 },
 "nbformat": 4,
 "nbformat_minor": 2
}
