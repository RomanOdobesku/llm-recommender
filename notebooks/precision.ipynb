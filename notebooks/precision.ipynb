{
 "cells": [
  {
   "cell_type": "code",
   "execution_count": 1,
   "metadata": {},
   "outputs": [],
   "source": [
    "import json\n",
    "\n",
    "import pandas as pd"
   ]
  },
  {
   "cell_type": "code",
   "execution_count": 2,
   "metadata": {},
   "outputs": [
    {
     "name": "stdout",
     "output_type": "stream",
     "text": [
      "<bound method DataFrame.__len__ of          user_category_1                             user_category_2  \\\n",
      "0          Игровые жанры                                   Освещение   \n",
      "1            PlayStation                     Медицинские инструменты   \n",
      "2            PlayStation             Автоаксессуары и принадлежности   \n",
      "3               Nintendo  Оборудование и принадлежности для торговли   \n",
      "4               Nintendo    Оборудование и материалы для тату-салона   \n",
      "..                   ...                                         ...   \n",
      "160       Столы и стулья                           Бизнес-литература   \n",
      "161       Столы и стулья   Мебель и оборудование для салонов красоты   \n",
      "162       Столы и стулья                                      Мебель   \n",
      "163  Мебель для хранения                             Печати и штампы   \n",
      "164  Мебель для хранения   Медицинские изделия и расходные материалы   \n",
      "\n",
      "                                    predicted_category  \n",
      "0           Игрушки и игры; Неизвестно; Игрушки и игры  \n",
      "1    Компьютеры и периферия; Музыкальные инструмент...  \n",
      "2    Игровые наушники; Неизвестно; Музыкальные инст...  \n",
      "3    Игрушки и игры; Наушники и аудиотехника; Компь...  \n",
      "4    Игровые приставки; Умный дом; Электроника для ...  \n",
      "..                                                 ...  \n",
      "160                     Неизвестно; Умный дом; Комиксы  \n",
      "161  Офисная техника; Мебель для хранения; Декор и ...  \n",
      "162  Туризм и отдых на природе; Мебель для хранения...  \n",
      "163   Канцелярия; Мебель для хранения; Офисная техника  \n",
      "164  Компьютеры и периферия; Декор и интерьер; Умны...  \n",
      "\n",
      "[165 rows x 3 columns]>\n"
     ]
    },
    {
     "data": {
      "text/html": [
       "<div>\n",
       "<style scoped>\n",
       "    .dataframe tbody tr th:only-of-type {\n",
       "        vertical-align: middle;\n",
       "    }\n",
       "\n",
       "    .dataframe tbody tr th {\n",
       "        vertical-align: top;\n",
       "    }\n",
       "\n",
       "    .dataframe thead th {\n",
       "        text-align: right;\n",
       "    }\n",
       "</style>\n",
       "<table border=\"1\" class=\"dataframe\">\n",
       "  <thead>\n",
       "    <tr style=\"text-align: right;\">\n",
       "      <th></th>\n",
       "      <th>user_category_1</th>\n",
       "      <th>user_category_2</th>\n",
       "      <th>predicted_category</th>\n",
       "    </tr>\n",
       "  </thead>\n",
       "  <tbody>\n",
       "    <tr>\n",
       "      <th>0</th>\n",
       "      <td>Игровые жанры</td>\n",
       "      <td>Освещение</td>\n",
       "      <td>Игрушки и игры; Неизвестно; Игрушки и игры</td>\n",
       "    </tr>\n",
       "    <tr>\n",
       "      <th>1</th>\n",
       "      <td>PlayStation</td>\n",
       "      <td>Медицинские инструменты</td>\n",
       "      <td>Компьютеры и периферия; Музыкальные инструмент...</td>\n",
       "    </tr>\n",
       "    <tr>\n",
       "      <th>2</th>\n",
       "      <td>PlayStation</td>\n",
       "      <td>Автоаксессуары и принадлежности</td>\n",
       "      <td>Игровые наушники; Неизвестно; Музыкальные инст...</td>\n",
       "    </tr>\n",
       "    <tr>\n",
       "      <th>3</th>\n",
       "      <td>Nintendo</td>\n",
       "      <td>Оборудование и принадлежности для торговли</td>\n",
       "      <td>Игрушки и игры; Наушники и аудиотехника; Компь...</td>\n",
       "    </tr>\n",
       "    <tr>\n",
       "      <th>4</th>\n",
       "      <td>Nintendo</td>\n",
       "      <td>Оборудование и материалы для тату-салона</td>\n",
       "      <td>Игровые приставки; Умный дом; Электроника для ...</td>\n",
       "    </tr>\n",
       "  </tbody>\n",
       "</table>\n",
       "</div>"
      ],
      "text/plain": [
       "  user_category_1                             user_category_2  \\\n",
       "0   Игровые жанры                                   Освещение   \n",
       "1     PlayStation                     Медицинские инструменты   \n",
       "2     PlayStation             Автоаксессуары и принадлежности   \n",
       "3        Nintendo  Оборудование и принадлежности для торговли   \n",
       "4        Nintendo    Оборудование и материалы для тату-салона   \n",
       "\n",
       "                                  predicted_category  \n",
       "0         Игрушки и игры; Неизвестно; Игрушки и игры  \n",
       "1  Компьютеры и периферия; Музыкальные инструмент...  \n",
       "2  Игровые наушники; Неизвестно; Музыкальные инст...  \n",
       "3  Игрушки и игры; Наушники и аудиотехника; Компь...  \n",
       "4  Игровые приставки; Умный дом; Электроника для ...  "
      ]
     },
     "execution_count": 2,
     "metadata": {},
     "output_type": "execute_result"
    }
   ],
   "source": [
    "# json_path = \"/home/temochka2005/Documents/VScodeProjects/TbankSirius/projectrep/llm-recommender/data/pairs_test_real.json\"\n",
    "# csv_path = \"/home/temochka2005/Documents/VScodeProjects/TbankSirius/projectrep/llm-recommender/data/category_triplets.csv\"\n",
    "\n",
    "json_path = \"/home/temochka2005/Documents/VScodeProjects/TbankSirius/projectrep/llm-recommender/data/pairs_test_synth (2).json\"\n",
    "csv_path = \"/home/temochka2005/Documents/VScodeProjects/TbankSirius/projectrep/llm-recommender/data/new_categories_34_percent.csv\"\n",
    "\n",
    "\n",
    "# Step 1: Load the JSON file\n",
    "with open(json_path, \"r\", encoding=\"utf-8\") as f:\n",
    "    json_data = json.load(f)\n",
    "\n",
    "# Convert JSON into a DataFrame\n",
    "predicted_data = pd.DataFrame(\n",
    "    json_data, columns=[\"user_category_1\", \"user_category_2\", \"predicted_category\"]\n",
    ")\n",
    "\n",
    "print(predicted_data.__len__)\n",
    "predicted_data.head()\n",
    "# Step 2: Load the CSV file\n"
   ]
  },
  {
   "cell_type": "code",
   "execution_count": 3,
   "metadata": {},
   "outputs": [
    {
     "data": {
      "text/html": [
       "<div>\n",
       "<style scoped>\n",
       "    .dataframe tbody tr th:only-of-type {\n",
       "        vertical-align: middle;\n",
       "    }\n",
       "\n",
       "    .dataframe tbody tr th {\n",
       "        vertical-align: top;\n",
       "    }\n",
       "\n",
       "    .dataframe thead th {\n",
       "        text-align: right;\n",
       "    }\n",
       "</style>\n",
       "<table border=\"1\" class=\"dataframe\">\n",
       "  <thead>\n",
       "    <tr style=\"text-align: right;\">\n",
       "      <th></th>\n",
       "      <th>user_category_1</th>\n",
       "      <th>user_category_2</th>\n",
       "      <th>predicted_category</th>\n",
       "    </tr>\n",
       "  </thead>\n",
       "  <tbody>\n",
       "  </tbody>\n",
       "</table>\n",
       "</div>"
      ],
      "text/plain": [
       "Empty DataFrame\n",
       "Columns: [user_category_1, user_category_2, predicted_category]\n",
       "Index: []"
      ]
     },
     "execution_count": 3,
     "metadata": {},
     "output_type": "execute_result"
    }
   ],
   "source": [
    "predicted_data[\n",
    "    (predicted_data[\"user_category_1\"] == \"Детям\")\n",
    "    & (predicted_data[\"user_category_2\"] == \"Уход за волосами\")\n",
    "]"
   ]
  },
  {
   "cell_type": "code",
   "execution_count": 4,
   "metadata": {},
   "outputs": [
    {
     "data": {
      "text/html": [
       "<div>\n",
       "<style scoped>\n",
       "    .dataframe tbody tr th:only-of-type {\n",
       "        vertical-align: middle;\n",
       "    }\n",
       "\n",
       "    .dataframe tbody tr th {\n",
       "        vertical-align: top;\n",
       "    }\n",
       "\n",
       "    .dataframe thead th {\n",
       "        text-align: right;\n",
       "    }\n",
       "</style>\n",
       "<table border=\"1\" class=\"dataframe\">\n",
       "  <thead>\n",
       "    <tr style=\"text-align: right;\">\n",
       "      <th></th>\n",
       "      <th>user_category_1</th>\n",
       "      <th>user_category_2</th>\n",
       "      <th>predicted_category</th>\n",
       "      <th>explanation</th>\n",
       "    </tr>\n",
       "  </thead>\n",
       "  <tbody>\n",
       "    <tr>\n",
       "      <th>0</th>\n",
       "      <td>Смартфоны</td>\n",
       "      <td>PC</td>\n",
       "      <td>Наушники и аудиотехника</td>\n",
       "      <td>As the user values both smartphones and PCs, e...</td>\n",
       "    </tr>\n",
       "    <tr>\n",
       "      <th>1</th>\n",
       "      <td>Смартфоны</td>\n",
       "      <td>PC</td>\n",
       "      <td>Умный дом</td>\n",
       "      <td>Interest in advanced tech like smartphones and...</td>\n",
       "    </tr>\n",
       "    <tr>\n",
       "      <th>2</th>\n",
       "      <td>Смартфоны</td>\n",
       "      <td>PC</td>\n",
       "      <td>Игровые консоли</td>\n",
       "      <td>Interest in PCs implies a penchant for gaming,...</td>\n",
       "    </tr>\n",
       "    <tr>\n",
       "      <th>3</th>\n",
       "      <td>Смартфоны</td>\n",
       "      <td>PC</td>\n",
       "      <td>Ноутбуки, планшеты и электронные книги</td>\n",
       "      <td>Complementing their use of PCs and smartphones...</td>\n",
       "    </tr>\n",
       "    <tr>\n",
       "      <th>4</th>\n",
       "      <td>Смартфоны</td>\n",
       "      <td>PC</td>\n",
       "      <td>Комплектующие для ПК</td>\n",
       "      <td>Since the user is interested in PCs, they migh...</td>\n",
       "    </tr>\n",
       "    <tr>\n",
       "      <th>...</th>\n",
       "      <td>...</td>\n",
       "      <td>...</td>\n",
       "      <td>...</td>\n",
       "      <td>...</td>\n",
       "    </tr>\n",
       "    <tr>\n",
       "      <th>4019</th>\n",
       "      <td>Мебель для хранения</td>\n",
       "      <td>Медицинские инструменты</td>\n",
       "      <td>Медицинские приборы</td>\n",
       "      <td>Combines interest in storage and medical tools...</td>\n",
       "    </tr>\n",
       "    <tr>\n",
       "      <th>4020</th>\n",
       "      <td>Мебель для хранения</td>\n",
       "      <td>Медицинские инструменты</td>\n",
       "      <td>Умный дом</td>\n",
       "      <td>Interest in organized storage can extend to sm...</td>\n",
       "    </tr>\n",
       "    <tr>\n",
       "      <th>4021</th>\n",
       "      <td>Мебель для хранения</td>\n",
       "      <td>Медицинские инструменты</td>\n",
       "      <td>Организация вещей</td>\n",
       "      <td>A natural extension of storage interests with ...</td>\n",
       "    </tr>\n",
       "    <tr>\n",
       "      <th>4022</th>\n",
       "      <td>Мебель для хранения</td>\n",
       "      <td>Медицинские инструменты</td>\n",
       "      <td>Комплектующие для ПК</td>\n",
       "      <td>Interest in storage could translate to organiz...</td>\n",
       "    </tr>\n",
       "    <tr>\n",
       "      <th>4023</th>\n",
       "      <td>Мебель для хранения</td>\n",
       "      <td>Медицинские инструменты</td>\n",
       "      <td>Аксессуары для электронной техники</td>\n",
       "      <td>Combines storage solutions with safeguarding a...</td>\n",
       "    </tr>\n",
       "  </tbody>\n",
       "</table>\n",
       "<p>4024 rows × 4 columns</p>\n",
       "</div>"
      ],
      "text/plain": [
       "          user_category_1          user_category_2  \\\n",
       "0               Смартфоны                       PC   \n",
       "1               Смартфоны                       PC   \n",
       "2               Смартфоны                       PC   \n",
       "3               Смартфоны                       PC   \n",
       "4               Смартфоны                       PC   \n",
       "...                   ...                      ...   \n",
       "4019  Мебель для хранения  Медицинские инструменты   \n",
       "4020  Мебель для хранения  Медицинские инструменты   \n",
       "4021  Мебель для хранения  Медицинские инструменты   \n",
       "4022  Мебель для хранения  Медицинские инструменты   \n",
       "4023  Мебель для хранения  Медицинские инструменты   \n",
       "\n",
       "                          predicted_category  \\\n",
       "0                    Наушники и аудиотехника   \n",
       "1                                  Умный дом   \n",
       "2                            Игровые консоли   \n",
       "3     Ноутбуки, планшеты и электронные книги   \n",
       "4                       Комплектующие для ПК   \n",
       "...                                      ...   \n",
       "4019                     Медицинские приборы   \n",
       "4020                               Умный дом   \n",
       "4021                       Организация вещей   \n",
       "4022                    Комплектующие для ПК   \n",
       "4023      Аксессуары для электронной техники   \n",
       "\n",
       "                                            explanation  \n",
       "0     As the user values both smartphones and PCs, e...  \n",
       "1     Interest in advanced tech like smartphones and...  \n",
       "2     Interest in PCs implies a penchant for gaming,...  \n",
       "3     Complementing their use of PCs and smartphones...  \n",
       "4     Since the user is interested in PCs, they migh...  \n",
       "...                                                 ...  \n",
       "4019  Combines interest in storage and medical tools...  \n",
       "4020  Interest in organized storage can extend to sm...  \n",
       "4021  A natural extension of storage interests with ...  \n",
       "4022  Interest in storage could translate to organiz...  \n",
       "4023  Combines storage solutions with safeguarding a...  \n",
       "\n",
       "[4024 rows x 4 columns]"
      ]
     },
     "execution_count": 4,
     "metadata": {},
     "output_type": "execute_result"
    }
   ],
   "source": [
    "actual_data = pd.read_csv(csv_path, sep=\",\")\n",
    "actual_data"
   ]
  },
  {
   "cell_type": "code",
   "execution_count": 5,
   "metadata": {},
   "outputs": [
    {
     "data": {
      "text/html": [
       "<div>\n",
       "<style scoped>\n",
       "    .dataframe tbody tr th:only-of-type {\n",
       "        vertical-align: middle;\n",
       "    }\n",
       "\n",
       "    .dataframe tbody tr th {\n",
       "        vertical-align: top;\n",
       "    }\n",
       "\n",
       "    .dataframe thead th {\n",
       "        text-align: right;\n",
       "    }\n",
       "</style>\n",
       "<table border=\"1\" class=\"dataframe\">\n",
       "  <thead>\n",
       "    <tr style=\"text-align: right;\">\n",
       "      <th></th>\n",
       "      <th>user_category_1</th>\n",
       "      <th>user_category_2</th>\n",
       "      <th>predicted_category_x</th>\n",
       "      <th>explanation</th>\n",
       "      <th>predicted_category_y</th>\n",
       "    </tr>\n",
       "  </thead>\n",
       "  <tbody>\n",
       "    <tr>\n",
       "      <th>0</th>\n",
       "      <td>Игровые жанры</td>\n",
       "      <td>Освещение</td>\n",
       "      <td>Оборудование и принадлежности для торговли</td>\n",
       "      <td>Combining an interest in immersive gaming expe...</td>\n",
       "      <td>Игрушки и игры; Неизвестно; Игрушки и игры</td>\n",
       "    </tr>\n",
       "    <tr>\n",
       "      <th>1</th>\n",
       "      <td>Игровые жанры</td>\n",
       "      <td>Освещение</td>\n",
       "      <td>Компьютеры и периферия</td>\n",
       "      <td>This category merges the gaming interest with ...</td>\n",
       "      <td>Игрушки и игры; Неизвестно; Игрушки и игры</td>\n",
       "    </tr>\n",
       "    <tr>\n",
       "      <th>2</th>\n",
       "      <td>Игровые жанры</td>\n",
       "      <td>Освещение</td>\n",
       "      <td>Крутая бытовая техника</td>\n",
       "      <td>An interest in modern gaming and lighting may ...</td>\n",
       "      <td>Игрушки и игры; Неизвестно; Игрушки и игры</td>\n",
       "    </tr>\n",
       "    <tr>\n",
       "      <th>3</th>\n",
       "      <td>Игровые жанры</td>\n",
       "      <td>Освещение</td>\n",
       "      <td>Умный дом</td>\n",
       "      <td>This combines an interest in lighting with a t...</td>\n",
       "      <td>Игрушки и игры; Неизвестно; Игрушки и игры</td>\n",
       "    </tr>\n",
       "    <tr>\n",
       "      <th>4</th>\n",
       "      <td>Игровые жанры</td>\n",
       "      <td>Освещение</td>\n",
       "      <td>Аксессуары для киберспорта</td>\n",
       "      <td>A gaming passion paired with a knack for light...</td>\n",
       "      <td>Игрушки и игры; Неизвестно; Игрушки и игры</td>\n",
       "    </tr>\n",
       "    <tr>\n",
       "      <th>...</th>\n",
       "      <td>...</td>\n",
       "      <td>...</td>\n",
       "      <td>...</td>\n",
       "      <td>...</td>\n",
       "      <td>...</td>\n",
       "    </tr>\n",
       "    <tr>\n",
       "      <th>760</th>\n",
       "      <td>Мебель для хранения</td>\n",
       "      <td>Медицинские изделия и расходные материалы</td>\n",
       "      <td>Техника для дома</td>\n",
       "      <td>С удобной техникой они могут повысить функцион...</td>\n",
       "      <td>Компьютеры и периферия; Декор и интерьер; Умны...</td>\n",
       "    </tr>\n",
       "    <tr>\n",
       "      <th>761</th>\n",
       "      <td>Мебель для хранения</td>\n",
       "      <td>Медицинские изделия и расходные материалы</td>\n",
       "      <td>Аксессуары для электроники</td>\n",
       "      <td>Организация и оптимизация техники и аксессуаро...</td>\n",
       "      <td>Компьютеры и периферия; Декор и интерьер; Умны...</td>\n",
       "    </tr>\n",
       "    <tr>\n",
       "      <th>762</th>\n",
       "      <td>Мебель для хранения</td>\n",
       "      <td>Медицинские изделия и расходные материалы</td>\n",
       "      <td>Офисная техника</td>\n",
       "      <td>Эта категория поможет эффективно управлять как...</td>\n",
       "      <td>Компьютеры и периферия; Декор и интерьер; Умны...</td>\n",
       "    </tr>\n",
       "    <tr>\n",
       "      <th>763</th>\n",
       "      <td>Мебель для хранения</td>\n",
       "      <td>Медицинские изделия и расходные материалы</td>\n",
       "      <td>Климатическая техника</td>\n",
       "      <td>Это улучшит обстановку в комнате хранения и об...</td>\n",
       "      <td>Компьютеры и периферия; Декор и интерьер; Умны...</td>\n",
       "    </tr>\n",
       "    <tr>\n",
       "      <th>764</th>\n",
       "      <td>Мебель для хранения</td>\n",
       "      <td>Медицинские изделия и расходные материалы</td>\n",
       "      <td>Медицинское оборудование</td>\n",
       "      <td>Развивая интерес к медицинским товарам, они мо...</td>\n",
       "      <td>Компьютеры и периферия; Декор и интерьер; Умны...</td>\n",
       "    </tr>\n",
       "  </tbody>\n",
       "</table>\n",
       "<p>765 rows × 5 columns</p>\n",
       "</div>"
      ],
      "text/plain": [
       "         user_category_1                            user_category_2  \\\n",
       "0          Игровые жанры                                  Освещение   \n",
       "1          Игровые жанры                                  Освещение   \n",
       "2          Игровые жанры                                  Освещение   \n",
       "3          Игровые жанры                                  Освещение   \n",
       "4          Игровые жанры                                  Освещение   \n",
       "..                   ...                                        ...   \n",
       "760  Мебель для хранения  Медицинские изделия и расходные материалы   \n",
       "761  Мебель для хранения  Медицинские изделия и расходные материалы   \n",
       "762  Мебель для хранения  Медицинские изделия и расходные материалы   \n",
       "763  Мебель для хранения  Медицинские изделия и расходные материалы   \n",
       "764  Мебель для хранения  Медицинские изделия и расходные материалы   \n",
       "\n",
       "                           predicted_category_x  \\\n",
       "0    Оборудование и принадлежности для торговли   \n",
       "1                        Компьютеры и периферия   \n",
       "2                        Крутая бытовая техника   \n",
       "3                                     Умный дом   \n",
       "4                    Аксессуары для киберспорта   \n",
       "..                                          ...   \n",
       "760                            Техника для дома   \n",
       "761                  Аксессуары для электроники   \n",
       "762                             Офисная техника   \n",
       "763                       Климатическая техника   \n",
       "764                    Медицинское оборудование   \n",
       "\n",
       "                                           explanation  \\\n",
       "0    Combining an interest in immersive gaming expe...   \n",
       "1    This category merges the gaming interest with ...   \n",
       "2    An interest in modern gaming and lighting may ...   \n",
       "3    This combines an interest in lighting with a t...   \n",
       "4    A gaming passion paired with a knack for light...   \n",
       "..                                                 ...   \n",
       "760  С удобной техникой они могут повысить функцион...   \n",
       "761  Организация и оптимизация техники и аксессуаро...   \n",
       "762  Эта категория поможет эффективно управлять как...   \n",
       "763  Это улучшит обстановку в комнате хранения и об...   \n",
       "764  Развивая интерес к медицинским товарам, они мо...   \n",
       "\n",
       "                                  predicted_category_y  \n",
       "0           Игрушки и игры; Неизвестно; Игрушки и игры  \n",
       "1           Игрушки и игры; Неизвестно; Игрушки и игры  \n",
       "2           Игрушки и игры; Неизвестно; Игрушки и игры  \n",
       "3           Игрушки и игры; Неизвестно; Игрушки и игры  \n",
       "4           Игрушки и игры; Неизвестно; Игрушки и игры  \n",
       "..                                                 ...  \n",
       "760  Компьютеры и периферия; Декор и интерьер; Умны...  \n",
       "761  Компьютеры и периферия; Декор и интерьер; Умны...  \n",
       "762  Компьютеры и периферия; Декор и интерьер; Умны...  \n",
       "763  Компьютеры и периферия; Декор и интерьер; Умны...  \n",
       "764  Компьютеры и периферия; Декор и интерьер; Умны...  \n",
       "\n",
       "[765 rows x 5 columns]"
      ]
     },
     "execution_count": 5,
     "metadata": {},
     "output_type": "execute_result"
    }
   ],
   "source": [
    "# Step 3: Merge data on user_category_1 and user_category_2\n",
    "actual_test_data = pd.merge(\n",
    "    actual_data,\n",
    "    predicted_data,\n",
    "    on=[\"user_category_1\", \"user_category_2\"],\n",
    "    how=\"inner\",\n",
    ")\n",
    "actual_test_data"
   ]
  },
  {
   "cell_type": "code",
   "execution_count": 6,
   "metadata": {},
   "outputs": [
    {
     "ename": "KeyError",
     "evalue": "\"Column(s) ['predicted_category', 'user_category_3'] do not exist\"",
     "output_type": "error",
     "traceback": [
      "\u001b[0;31m---------------------------------------------------------------------------\u001b[0m",
      "\u001b[0;31mKeyError\u001b[0m                                  Traceback (most recent call last)",
      "Cell \u001b[0;32mIn[6], line 4\u001b[0m\n\u001b[1;32m      1\u001b[0m \u001b[38;5;66;03m# Convert user_category_3 into list for the same pairs without lambda\u001b[39;00m\n\u001b[1;32m      2\u001b[0m actual_test_data \u001b[38;5;241m=\u001b[39m \u001b[43mactual_test_data\u001b[49m\u001b[38;5;241;43m.\u001b[39;49m\u001b[43mgroupby\u001b[49m\u001b[43m(\u001b[49m\n\u001b[1;32m      3\u001b[0m \u001b[43m    \u001b[49m\u001b[43m[\u001b[49m\u001b[38;5;124;43m\"\u001b[39;49m\u001b[38;5;124;43muser_category_1\u001b[39;49m\u001b[38;5;124;43m\"\u001b[39;49m\u001b[43m,\u001b[49m\u001b[43m \u001b[49m\u001b[38;5;124;43m\"\u001b[39;49m\u001b[38;5;124;43muser_category_2\u001b[39;49m\u001b[38;5;124;43m\"\u001b[39;49m\u001b[43m]\u001b[49m\u001b[43m,\u001b[49m\u001b[43m \u001b[49m\u001b[43mas_index\u001b[49m\u001b[38;5;241;43m=\u001b[39;49m\u001b[38;5;28;43;01mFalse\u001b[39;49;00m\n\u001b[0;32m----> 4\u001b[0m \u001b[43m)\u001b[49m\u001b[38;5;241;43m.\u001b[39;49m\u001b[43magg\u001b[49m\u001b[43m(\u001b[49m\u001b[43m{\u001b[49m\u001b[38;5;124;43m\"\u001b[39;49m\u001b[38;5;124;43muser_category_3\u001b[39;49m\u001b[38;5;124;43m\"\u001b[39;49m\u001b[43m:\u001b[49m\u001b[43m \u001b[49m\u001b[38;5;28;43mlist\u001b[39;49m\u001b[43m,\u001b[49m\u001b[43m \u001b[49m\u001b[38;5;124;43m\"\u001b[39;49m\u001b[38;5;124;43mpredicted_category\u001b[39;49m\u001b[38;5;124;43m\"\u001b[39;49m\u001b[43m:\u001b[49m\u001b[43m \u001b[49m\u001b[38;5;124;43m\"\u001b[39;49m\u001b[38;5;124;43mfirst\u001b[39;49m\u001b[38;5;124;43m\"\u001b[39;49m\u001b[43m}\u001b[49m\u001b[43m)\u001b[49m\n\u001b[1;32m      6\u001b[0m actual_test_data\n",
      "File \u001b[0;32m~/.local/lib/python3.10/site-packages/pandas/core/groupby/generic.py:1432\u001b[0m, in \u001b[0;36mDataFrameGroupBy.aggregate\u001b[0;34m(self, func, engine, engine_kwargs, *args, **kwargs)\u001b[0m\n\u001b[1;32m   1429\u001b[0m     kwargs[\u001b[38;5;124m\"\u001b[39m\u001b[38;5;124mengine_kwargs\u001b[39m\u001b[38;5;124m\"\u001b[39m] \u001b[38;5;241m=\u001b[39m engine_kwargs\n\u001b[1;32m   1431\u001b[0m op \u001b[38;5;241m=\u001b[39m GroupByApply(\u001b[38;5;28mself\u001b[39m, func, args\u001b[38;5;241m=\u001b[39margs, kwargs\u001b[38;5;241m=\u001b[39mkwargs)\n\u001b[0;32m-> 1432\u001b[0m result \u001b[38;5;241m=\u001b[39m \u001b[43mop\u001b[49m\u001b[38;5;241;43m.\u001b[39;49m\u001b[43magg\u001b[49m\u001b[43m(\u001b[49m\u001b[43m)\u001b[49m\n\u001b[1;32m   1433\u001b[0m \u001b[38;5;28;01mif\u001b[39;00m \u001b[38;5;129;01mnot\u001b[39;00m is_dict_like(func) \u001b[38;5;129;01mand\u001b[39;00m result \u001b[38;5;129;01mis\u001b[39;00m \u001b[38;5;129;01mnot\u001b[39;00m \u001b[38;5;28;01mNone\u001b[39;00m:\n\u001b[1;32m   1434\u001b[0m     \u001b[38;5;66;03m# GH #52849\u001b[39;00m\n\u001b[1;32m   1435\u001b[0m     \u001b[38;5;28;01mif\u001b[39;00m \u001b[38;5;129;01mnot\u001b[39;00m \u001b[38;5;28mself\u001b[39m\u001b[38;5;241m.\u001b[39mas_index \u001b[38;5;129;01mand\u001b[39;00m is_list_like(func):\n",
      "File \u001b[0;32m~/.local/lib/python3.10/site-packages/pandas/core/apply.py:190\u001b[0m, in \u001b[0;36mApply.agg\u001b[0;34m(self)\u001b[0m\n\u001b[1;32m    187\u001b[0m     \u001b[38;5;28;01mreturn\u001b[39;00m \u001b[38;5;28mself\u001b[39m\u001b[38;5;241m.\u001b[39mapply_str()\n\u001b[1;32m    189\u001b[0m \u001b[38;5;28;01mif\u001b[39;00m is_dict_like(func):\n\u001b[0;32m--> 190\u001b[0m     \u001b[38;5;28;01mreturn\u001b[39;00m \u001b[38;5;28;43mself\u001b[39;49m\u001b[38;5;241;43m.\u001b[39;49m\u001b[43magg_dict_like\u001b[49m\u001b[43m(\u001b[49m\u001b[43m)\u001b[49m\n\u001b[1;32m    191\u001b[0m \u001b[38;5;28;01melif\u001b[39;00m is_list_like(func):\n\u001b[1;32m    192\u001b[0m     \u001b[38;5;66;03m# we require a list, but not a 'str'\u001b[39;00m\n\u001b[1;32m    193\u001b[0m     \u001b[38;5;28;01mreturn\u001b[39;00m \u001b[38;5;28mself\u001b[39m\u001b[38;5;241m.\u001b[39magg_list_like()\n",
      "File \u001b[0;32m~/.local/lib/python3.10/site-packages/pandas/core/apply.py:423\u001b[0m, in \u001b[0;36mApply.agg_dict_like\u001b[0;34m(self)\u001b[0m\n\u001b[1;32m    415\u001b[0m \u001b[38;5;28;01mdef\u001b[39;00m \u001b[38;5;21magg_dict_like\u001b[39m(\u001b[38;5;28mself\u001b[39m) \u001b[38;5;241m-\u001b[39m\u001b[38;5;241m>\u001b[39m DataFrame \u001b[38;5;241m|\u001b[39m Series:\n\u001b[1;32m    416\u001b[0m \u001b[38;5;250m    \u001b[39m\u001b[38;5;124;03m\"\"\"\u001b[39;00m\n\u001b[1;32m    417\u001b[0m \u001b[38;5;124;03m    Compute aggregation in the case of a dict-like argument.\u001b[39;00m\n\u001b[1;32m    418\u001b[0m \n\u001b[0;32m   (...)\u001b[0m\n\u001b[1;32m    421\u001b[0m \u001b[38;5;124;03m    Result of aggregation.\u001b[39;00m\n\u001b[1;32m    422\u001b[0m \u001b[38;5;124;03m    \"\"\"\u001b[39;00m\n\u001b[0;32m--> 423\u001b[0m     \u001b[38;5;28;01mreturn\u001b[39;00m \u001b[38;5;28;43mself\u001b[39;49m\u001b[38;5;241;43m.\u001b[39;49m\u001b[43magg_or_apply_dict_like\u001b[49m\u001b[43m(\u001b[49m\u001b[43mop_name\u001b[49m\u001b[38;5;241;43m=\u001b[39;49m\u001b[38;5;124;43m\"\u001b[39;49m\u001b[38;5;124;43magg\u001b[39;49m\u001b[38;5;124;43m\"\u001b[39;49m\u001b[43m)\u001b[49m\n",
      "File \u001b[0;32m~/.local/lib/python3.10/site-packages/pandas/core/apply.py:1608\u001b[0m, in \u001b[0;36mGroupByApply.agg_or_apply_dict_like\u001b[0;34m(self, op_name)\u001b[0m\n\u001b[1;32m   1603\u001b[0m     kwargs\u001b[38;5;241m.\u001b[39mupdate({\u001b[38;5;124m\"\u001b[39m\u001b[38;5;124mengine\u001b[39m\u001b[38;5;124m\"\u001b[39m: engine, \u001b[38;5;124m\"\u001b[39m\u001b[38;5;124mengine_kwargs\u001b[39m\u001b[38;5;124m\"\u001b[39m: engine_kwargs})\n\u001b[1;32m   1605\u001b[0m \u001b[38;5;28;01mwith\u001b[39;00m com\u001b[38;5;241m.\u001b[39mtemp_setattr(\n\u001b[1;32m   1606\u001b[0m     obj, \u001b[38;5;124m\"\u001b[39m\u001b[38;5;124mas_index\u001b[39m\u001b[38;5;124m\"\u001b[39m, \u001b[38;5;28;01mTrue\u001b[39;00m, condition\u001b[38;5;241m=\u001b[39m\u001b[38;5;28mhasattr\u001b[39m(obj, \u001b[38;5;124m\"\u001b[39m\u001b[38;5;124mas_index\u001b[39m\u001b[38;5;124m\"\u001b[39m)\n\u001b[1;32m   1607\u001b[0m ):\n\u001b[0;32m-> 1608\u001b[0m     result_index, result_data \u001b[38;5;241m=\u001b[39m \u001b[38;5;28;43mself\u001b[39;49m\u001b[38;5;241;43m.\u001b[39;49m\u001b[43mcompute_dict_like\u001b[49m\u001b[43m(\u001b[49m\n\u001b[1;32m   1609\u001b[0m \u001b[43m        \u001b[49m\u001b[43mop_name\u001b[49m\u001b[43m,\u001b[49m\u001b[43m \u001b[49m\u001b[43mselected_obj\u001b[49m\u001b[43m,\u001b[49m\u001b[43m \u001b[49m\u001b[43mselection\u001b[49m\u001b[43m,\u001b[49m\u001b[43m \u001b[49m\u001b[43mkwargs\u001b[49m\n\u001b[1;32m   1610\u001b[0m \u001b[43m    \u001b[49m\u001b[43m)\u001b[49m\n\u001b[1;32m   1611\u001b[0m result \u001b[38;5;241m=\u001b[39m \u001b[38;5;28mself\u001b[39m\u001b[38;5;241m.\u001b[39mwrap_results_dict_like(selected_obj, result_index, result_data)\n\u001b[1;32m   1612\u001b[0m \u001b[38;5;28;01mreturn\u001b[39;00m result\n",
      "File \u001b[0;32m~/.local/lib/python3.10/site-packages/pandas/core/apply.py:462\u001b[0m, in \u001b[0;36mApply.compute_dict_like\u001b[0;34m(self, op_name, selected_obj, selection, kwargs)\u001b[0m\n\u001b[1;32m    460\u001b[0m is_groupby \u001b[38;5;241m=\u001b[39m \u001b[38;5;28misinstance\u001b[39m(obj, (DataFrameGroupBy, SeriesGroupBy))\n\u001b[1;32m    461\u001b[0m func \u001b[38;5;241m=\u001b[39m cast(AggFuncTypeDict, \u001b[38;5;28mself\u001b[39m\u001b[38;5;241m.\u001b[39mfunc)\n\u001b[0;32m--> 462\u001b[0m func \u001b[38;5;241m=\u001b[39m \u001b[38;5;28;43mself\u001b[39;49m\u001b[38;5;241;43m.\u001b[39;49m\u001b[43mnormalize_dictlike_arg\u001b[49m\u001b[43m(\u001b[49m\u001b[43mop_name\u001b[49m\u001b[43m,\u001b[49m\u001b[43m \u001b[49m\u001b[43mselected_obj\u001b[49m\u001b[43m,\u001b[49m\u001b[43m \u001b[49m\u001b[43mfunc\u001b[49m\u001b[43m)\u001b[49m\n\u001b[1;32m    464\u001b[0m is_non_unique_col \u001b[38;5;241m=\u001b[39m (\n\u001b[1;32m    465\u001b[0m     selected_obj\u001b[38;5;241m.\u001b[39mndim \u001b[38;5;241m==\u001b[39m \u001b[38;5;241m2\u001b[39m\n\u001b[1;32m    466\u001b[0m     \u001b[38;5;129;01mand\u001b[39;00m selected_obj\u001b[38;5;241m.\u001b[39mcolumns\u001b[38;5;241m.\u001b[39mnunique() \u001b[38;5;241m<\u001b[39m \u001b[38;5;28mlen\u001b[39m(selected_obj\u001b[38;5;241m.\u001b[39mcolumns)\n\u001b[1;32m    467\u001b[0m )\n\u001b[1;32m    469\u001b[0m \u001b[38;5;28;01mif\u001b[39;00m selected_obj\u001b[38;5;241m.\u001b[39mndim \u001b[38;5;241m==\u001b[39m \u001b[38;5;241m1\u001b[39m:\n\u001b[1;32m    470\u001b[0m     \u001b[38;5;66;03m# key only used for output\u001b[39;00m\n",
      "File \u001b[0;32m~/.local/lib/python3.10/site-packages/pandas/core/apply.py:663\u001b[0m, in \u001b[0;36mApply.normalize_dictlike_arg\u001b[0;34m(self, how, obj, func)\u001b[0m\n\u001b[1;32m    661\u001b[0m     cols \u001b[38;5;241m=\u001b[39m Index(\u001b[38;5;28mlist\u001b[39m(func\u001b[38;5;241m.\u001b[39mkeys()))\u001b[38;5;241m.\u001b[39mdifference(obj\u001b[38;5;241m.\u001b[39mcolumns, sort\u001b[38;5;241m=\u001b[39m\u001b[38;5;28;01mTrue\u001b[39;00m)\n\u001b[1;32m    662\u001b[0m     \u001b[38;5;28;01mif\u001b[39;00m \u001b[38;5;28mlen\u001b[39m(cols) \u001b[38;5;241m>\u001b[39m \u001b[38;5;241m0\u001b[39m:\n\u001b[0;32m--> 663\u001b[0m         \u001b[38;5;28;01mraise\u001b[39;00m \u001b[38;5;167;01mKeyError\u001b[39;00m(\u001b[38;5;124mf\u001b[39m\u001b[38;5;124m\"\u001b[39m\u001b[38;5;124mColumn(s) \u001b[39m\u001b[38;5;132;01m{\u001b[39;00m\u001b[38;5;28mlist\u001b[39m(cols)\u001b[38;5;132;01m}\u001b[39;00m\u001b[38;5;124m do not exist\u001b[39m\u001b[38;5;124m\"\u001b[39m)\n\u001b[1;32m    665\u001b[0m aggregator_types \u001b[38;5;241m=\u001b[39m (\u001b[38;5;28mlist\u001b[39m, \u001b[38;5;28mtuple\u001b[39m, \u001b[38;5;28mdict\u001b[39m)\n\u001b[1;32m    667\u001b[0m \u001b[38;5;66;03m# if we have a dict of any non-scalars\u001b[39;00m\n\u001b[1;32m    668\u001b[0m \u001b[38;5;66;03m# eg. {'A' : ['mean']}, normalize all to\u001b[39;00m\n\u001b[1;32m    669\u001b[0m \u001b[38;5;66;03m# be list-likes\u001b[39;00m\n\u001b[1;32m    670\u001b[0m \u001b[38;5;66;03m# Cannot use func.values() because arg may be a Series\u001b[39;00m\n",
      "\u001b[0;31mKeyError\u001b[0m: \"Column(s) ['predicted_category', 'user_category_3'] do not exist\""
     ]
    }
   ],
   "source": [
    "# Convert user_category_3 into list for the same pairs without lambda\n",
    "actual_test_data = actual_test_data.groupby(\n",
    "    [\"user_category_1\", \"user_category_2\"], as_index=False\n",
    ").agg({\"user_category_3\": list, \"predicted_category\": \"first\"})\n",
    "\n",
    "actual_test_data"
   ]
  },
  {
   "cell_type": "code",
   "execution_count": null,
   "metadata": {},
   "outputs": [],
   "source": [
    "# Filter rows where the length of user_category_3 list is greater than or equal to 1\n",
    "actual_test_data[actual_test_data[\"user_category_3\"].apply(len) == 5]"
   ]
  },
  {
   "cell_type": "code",
   "execution_count": null,
   "metadata": {},
   "outputs": [],
   "source": [
    "actual_test_data[\n",
    "    (actual_test_data[\"user_category_1\"] == \"Детям\")\n",
    "    & (actual_test_data[\"user_category_2\"] == \"Уход за волосами\")\n",
    "]"
   ]
  },
  {
   "cell_type": "code",
   "execution_count": null,
   "metadata": {},
   "outputs": [],
   "source": [
    "# Step 4: Compare user_category_3 and predicted_category\n",
    "\n",
    "# actual_test_data[\"is_correct\"] = actual_test_data.apply(\n",
    "#     lambda row: row[\"predicted_category\"] in row[\"user_category_3\"], axis=1\n",
    "# )\n",
    "\n",
    "# Convert semicolon-separated predicted_category into a list\n",
    "actual_test_data[\"predicted_category\"] = actual_test_data[\"predicted_category\"].apply(\n",
    "    lambda x: x.split(\"; \")\n",
    ")\n",
    "\n",
    "# Compare user_category_3 (list) and predicted_category (list)\n",
    "actual_test_data[\"is_correct\"] = actual_test_data.apply(\n",
    "    lambda row: any(\n",
    "        pred in row[\"user_category_3\"] for pred in row[\"predicted_category\"]\n",
    "    ),\n",
    "    axis=1,\n",
    ")\n",
    "\n",
    "\n",
    "actual_test_data"
   ]
  },
  {
   "cell_type": "code",
   "execution_count": 10,
   "metadata": {},
   "outputs": [],
   "source": [
    "# Step 5: Compute Precision\n",
    "true_positives = actual_test_data[\"is_correct\"].sum()\n",
    "false_positive = (~actual_test_data[\"is_correct\"]).sum()\n",
    "# Avoid division by zero\n",
    "precision_value = (\n",
    "    true_positives / (true_positives + false_positive)\n",
    "    if (true_positives + false_positive) > 0\n",
    "    else 0\n",
    ")"
   ]
  },
  {
   "cell_type": "code",
   "execution_count": null,
   "metadata": {},
   "outputs": [],
   "source": [
    "print(f\"True Positives: {true_positives}\")\n",
    "print(f\"False Negatives: {false_positive}\")\n",
    "print(f\"Precision: {precision_value}\")\n"
   ]
  },
  {
   "cell_type": "code",
   "execution_count": null,
   "metadata": {},
   "outputs": [],
   "source": []
  },
  {
   "cell_type": "code",
   "execution_count": null,
   "metadata": {},
   "outputs": [],
   "source": []
  },
  {
   "cell_type": "code",
   "execution_count": null,
   "metadata": {},
   "outputs": [],
   "source": []
  },
  {
   "cell_type": "code",
   "execution_count": null,
   "metadata": {},
   "outputs": [],
   "source": []
  },
  {
   "cell_type": "code",
   "execution_count": 5,
   "metadata": {},
   "outputs": [],
   "source": [
    "import json\n",
    "\n",
    "\n",
    "def match_rate(predictions_path: str, cluster_descriptions_path: str) -> float:\n",
    "    \"\"\"\n",
    "    Calculate the match rate of predictions with cluster descriptions.\n",
    "    Match rate is calculated as the proportion of predicted categories\n",
    "    that exist in the cluster descriptions.\n",
    "\n",
    "    :param predictions_path: Path to a JSON file containing predictions in the specified format.\n",
    "                             Format: [\n",
    "                                 [\"category_1\", \"category_2\", \"predicted_category; ...\"],\n",
    "                                 ...\n",
    "                             ]\n",
    "    :param cluster_descriptions_path: Path to a JSON file containing valid cluster descriptions.\n",
    "                                       Format: [\"description_1\", \"description_2\", ...]\n",
    "    :return: Match rate as a float (between 0 and 1).\n",
    "    \"\"\"\n",
    "    # Load predictions\n",
    "    with open(predictions_path, \"r\", encoding=\"utf-8\") as f:\n",
    "        predictions = json.load(f)\n",
    "\n",
    "    # Load cluster descriptions\n",
    "    with open(cluster_descriptions_path, \"r\", encoding=\"utf-8\") as f:\n",
    "        cluster_descriptions = set(json.load(f))  # Convert to set for faster lookups\n",
    "\n",
    "    # Initialize match counters\n",
    "    total_matches = 0  # Total number of matches\n",
    "    total_categories = 0  # Total number of predicted categories\n",
    "\n",
    "    # Process predictions\n",
    "    for prediction in predictions:\n",
    "        # Extract the predicted categories and split by semicolon\n",
    "        predicted_categories = prediction[2].split(\"; \")\n",
    "\n",
    "        # Count matches and total predicted categories\n",
    "        total_matches += sum(\n",
    "            1 for pred in predicted_categories if pred in cluster_descriptions\n",
    "        )\n",
    "        total_categories += len(predicted_categories)\n",
    "\n",
    "    # Calculate match rate\n",
    "    match_rate = total_matches / total_categories if total_categories > 0 else 0.0\n",
    "\n",
    "    return match_rate\n"
   ]
  },
  {
   "cell_type": "code",
   "execution_count": null,
   "metadata": {},
   "outputs": [],
   "source": [
    "match_rate(\n",
    "    predictions_path=\"../data/pairs_test_synth (2).json\",\n",
    "    cluster_descriptions_path=\"../data/cat2list.json\",\n",
    ")"
   ]
  },
  {
   "cell_type": "markdown",
   "metadata": {},
   "source": []
  },
  {
   "cell_type": "code",
   "execution_count": 6,
   "metadata": {},
   "outputs": [],
   "source": [
    "import numpy as np\n",
    "import pandas as pd\n",
    "\n",
    "\n",
    "def novelty_metric(interactions_path: str) -> float:\n",
    "    \"\"\"\n",
    "    Calculate the novelty metric for recommendations based on interaction data.\n",
    "\n",
    "    :param interactions_path: Path to the CSV file containing user interactions data.\n",
    "    :return: Novelty metric as a float, where a higher value indicates more novel\n",
    "             recommendations based on item popularity.\n",
    "    \"\"\"\n",
    "\n",
    "    interactions_df = pd.read_csv(interactions_path)\n",
    "\n",
    "    if interactions_df.empty:\n",
    "        print(\"No interaction data available for novelty calculation.\")\n",
    "        return 0\n",
    "\n",
    "    # Compute item popularity based on interaction frequencies\n",
    "    item_popularity = interactions_df[\"item_id\"].value_counts(normalize=True)\n",
    "\n",
    "    # Filter the popularity for recommended items\n",
    "    recommended_popularities = item_popularity.reindex(\n",
    "        set(interactions_df[\"item_id\"]), fill_value=0\n",
    "    )\n",
    "\n",
    "    novelty = (\n",
    "        -recommended_popularities.mean() * np.log(recommended_popularities.mean())\n",
    "        if not recommended_popularities.empty\n",
    "        else 0\n",
    "    )\n",
    "\n",
    "    return novelty"
   ]
  },
  {
   "cell_type": "code",
   "execution_count": null,
   "metadata": {},
   "outputs": [],
   "source": [
    "novelty_metric(\n",
    "    \"/home/temochka2005/Documents/VScodeProjects/TbankSirius/projectrep/llm-recommender/data/interactions.csv\"\n",
    ")"
   ]
  },
  {
   "cell_type": "code",
   "execution_count": null,
   "metadata": {},
   "outputs": [],
   "source": []
  },
  {
   "cell_type": "code",
   "execution_count": null,
   "metadata": {},
   "outputs": [],
   "source": [
    "from collections import Counter\n",
    "\n",
    "import pandas as pd\n",
    "\n",
    "\n",
    "def generate_triplets(\n",
    "    interactions_path,\n",
    "    items_path,\n",
    "    start_date=None,\n",
    "    end_date=None,\n",
    "    min_count=1,\n",
    "    output_path=\"category_triplets.csv\",\n",
    "):\n",
    "    \"\"\"\n",
    "    Generate triplets of categories with counts, filtered by date range and minimum count.\n",
    "\n",
    "    :param interactions_path: Path to the interactions CSV file.\n",
    "    :param items_path: Path to the items CSV file.\n",
    "    :param start_date: Start date for filtering interactions (inclusive, format: 'YYYY-MM-DD').\n",
    "    :param end_date: End date for filtering interactions (inclusive, format: 'YYYY-MM-DD').\n",
    "    :param min_count: Minimum count of triplets to include in the output.\n",
    "    :param output_path: Path to save the resulting CSV file.\n",
    "    \"\"\"\n",
    "    # Load datasets\n",
    "    interactions = pd.read_csv(\n",
    "        interactions_path, usecols=[\"time\", \"user_id\", \"item_id\", \"interaction\"]\n",
    "    )\n",
    "    items = pd.read_csv(items_path, usecols=[\"item_id\", \"cat2\"])\n",
    "\n",
    "    # Map item_id to cat2 category\n",
    "    items_mapping = items.set_index(\"item_id\")[\"cat2\"]\n",
    "    interactions[\"cat2\"] = interactions[\"item_id\"].map(items_mapping)\n",
    "\n",
    "    # Filter by date range if specified\n",
    "    if start_date:\n",
    "        interactions = interactions[interactions[\"time\"] >= start_date]\n",
    "    if end_date:\n",
    "        interactions = interactions[interactions[\"time\"] <= end_date]\n",
    "\n",
    "    # Filter interactions (interaction == 1)\n",
    "    like_interactions = interactions[interactions[\"interaction\"] == 1].copy()\n",
    "\n",
    "    # Sort by user_id and time for sequential processing\n",
    "    like_interactions = like_interactions.sort_values(by=[\"user_id\", \"time\"])\n",
    "\n",
    "    # Generate triplets for each user\n",
    "    triplets = (\n",
    "        (categories[i], categories[i + 1], categories[i + 2])\n",
    "        for user_id, group in like_interactions.groupby(\"user_id\")\n",
    "        for categories in [group[\"cat2\"].dropna().tolist()]\n",
    "        for i in range(len(categories) - 2)\n",
    "        if categories[i] != categories[i + 1] != categories[i + 2] != categories[i]\n",
    "    )\n",
    "\n",
    "    # Count occurrences of each triplet\n",
    "    triplet_counter = Counter(triplets)\n",
    "\n",
    "    # Create a DataFrame with counts, filtered by min_count\n",
    "    result_df = pd.DataFrame.from_records(\n",
    "        (\n",
    "            (t[0], t[1], t[2], count)\n",
    "            for t, count in triplet_counter.items()\n",
    "            if count >= min_count\n",
    "        ),\n",
    "        columns=[\"user_category_1\", \"user_category_2\", \"predicted_category\", \"count\"],\n",
    "    ).sort_values(by=\"count\", ascending=False)\n",
    "\n",
    "    # Save the sorted triplets with counts to a CSV file\n",
    "    result_df.to_csv(output_path, index=False)\n",
    "\n",
    "    print(f\"Output saved to '{output_path}'.\")\n",
    "\n",
    "\n",
    "# Example usage\n",
    "generate_triplets(\n",
    "    interactions_path=\"../data/interactions.csv\",\n",
    "    items_path=\"../data/items.csv\",\n",
    "    start_date=\"2024-12-10 12:25:29.44654\",\n",
    "    end_date=\"2024-12-12 12:17:16.115381\",\n",
    "    min_count=1,\n",
    "    output_path=\"../data/category_triplets_15_25.csv\",\n",
    ")"
   ]
  },
  {
   "cell_type": "code",
   "execution_count": null,
   "metadata": {},
   "outputs": [],
   "source": []
  },
  {
   "cell_type": "code",
   "execution_count": 3,
   "metadata": {},
   "outputs": [],
   "source": [
    "def precision(predictions_path: str, interactions_path: str):\n",
    "    \"\"\"\n",
    "    Calculate the precision of predictions based on actual user interactions.\n",
    "\n",
    "    Precision is defined as the ratio of true positive predictions to the total number\n",
    "    of predictions made (true positives + false positives).\n",
    "\n",
    "    :param predictions_path: Path to the JSON file containing predictions.\n",
    "                             The file should be in the format:\n",
    "                             [\n",
    "                                 [\"user_category_1\", \"user_category_2\", \"predicted_category\"],\n",
    "                                 ...\n",
    "                             ]\n",
    "                             where `predicted_category` is a semicolon-separated string.\n",
    "\n",
    "    :param interactions_path: Path to the CSV file containing actual user interactions.\n",
    "                              The file should contain columns:\n",
    "                              - \"user_category_1\"\n",
    "                              - \"user_category_2\"\n",
    "                              - \"user_category_3\"\n",
    "                              where `user_category_3` represents the ground truth categories\n",
    "                              as a single value per row.\n",
    "\n",
    "    :return: Precision as a float value [0, 1].\n",
    "    \"\"\"\n",
    "    # Step 1: Load the JSON file\n",
    "    with open(predictions_path, \"r\", encoding=\"utf-8\") as f:\n",
    "        json_data = json.load(f)\n",
    "\n",
    "    # Convert JSON into a DataFrame\n",
    "    predicted_data = pd.DataFrame(\n",
    "        json_data, columns=[\"user_category_1\", \"user_category_2\", \"predicted_category\"]\n",
    "    )\n",
    "\n",
    "    actual_data = pd.read_csv(interactions_path, sep=\",\")\n",
    "\n",
    "    # Step 3: Merge data on user_category_1 and user_category_2\n",
    "\n",
    "    actual_test_data = pd.merge(\n",
    "        actual_data,\n",
    "        predicted_data,\n",
    "        on=[\"user_category_1\", \"user_category_2\"],\n",
    "        how=\"inner\",\n",
    "    )\n",
    "    # Convert user_category_3 into list for the same pairs\n",
    "    actual_test_data = actual_test_data.groupby(\n",
    "        [\"user_category_1\", \"user_category_2\"], as_index=False\n",
    "    ).agg({\"user_category_3\": list, \"predicted_category\": \"first\"})\n",
    "\n",
    "    # Convert semicolon-separated predicted_category into a list\n",
    "    actual_test_data[\"predicted_category\"] = actual_test_data[\n",
    "        \"predicted_category\"\n",
    "    ].apply(lambda x: x.split(\"; \"))\n",
    "\n",
    "    # Compare user_category_3 (list) and predicted_category (list)\n",
    "    actual_test_data[\"is_correct\"] = actual_test_data.apply(\n",
    "        lambda row: any(\n",
    "            pred in row[\"user_category_3\"] for pred in row[\"predicted_category\"]\n",
    "        ),\n",
    "        axis=1,\n",
    "    )\n",
    "    # Step 5: Compute Precision\n",
    "    true_positives = actual_test_data[\"is_correct\"].sum()\n",
    "    false_positive = (~actual_test_data[\"is_correct\"]).sum()\n",
    "\n",
    "    # Avoid division by zero\n",
    "    precision_value = (\n",
    "        true_positives / (true_positives + false_positive)\n",
    "        if (true_positives + false_positive) > 0\n",
    "        else 0\n",
    "    )\n",
    "\n",
    "    return precision_value\n"
   ]
  },
  {
   "cell_type": "code",
   "execution_count": null,
   "metadata": {},
   "outputs": [],
   "source": [
    "print(precision(\"../data/pairs50.json\", \"../data/new_categories.csv\"))\n",
    "print(precision(\"../data/pairs100.json\", \"../data/new_categories.csv\"))\n",
    "print(precision(\"../data/pairs200.json\", \"../data/new_categories.csv\"))\n",
    "print(precision(\"../data/pairs300.json\", \"../data/new_categories.csv\"))\n",
    "print(precision(\"../data/pairs400.json\", \"../data/new_categories.csv\"))\n",
    "print(precision(\"../data/pairs500.json\", \"../data/new_categories.csv\"))"
   ]
  },
  {
   "cell_type": "code",
   "execution_count": null,
   "metadata": {},
   "outputs": [],
   "source": [
    "print(match_rate(\"../data/pairs50.json\", \"../data/cat2list.json\"))\n",
    "print(match_rate(\"../data/pairs100.json\", \"../data/cat2list.json\"))\n",
    "print(match_rate(\"../data/pairs200.json\", \"../data/cat2list.json\"))\n",
    "print(match_rate(\"../data/pairs300.json\", \"../data/cat2list.json\"))\n",
    "print(match_rate(\"../data/pairs400.json\", \"../data/cat2list.json\"))\n",
    "print(match_rate(\"../data/pairs500.json\", \"../data/cat2list.json\"))"
   ]
  },
  {
   "cell_type": "code",
   "execution_count": null,
   "metadata": {},
   "outputs": [],
   "source": [
    "import pandas as pd\n",
    "\n",
    "\n",
    "def generate_triplets(\n",
    "    interactions_path,\n",
    "    items_path,\n",
    "    start_date=None,\n",
    "    end_date=None,\n",
    "    min_count=1,\n",
    "    output_path=\"category_triplets.csv\",\n",
    "):\n",
    "    \"\"\"\n",
    "    Generate triplets of categories with counts, filtered by date range and minimum count.\n",
    "\n",
    "    :param interactions_path: Path to the interactions CSV file.\n",
    "    :param items_path: Path to the items CSV file.\n",
    "    :param start_date: Start date for filtering interactions (inclusive, format: 'YYYY-MM-DD').\n",
    "    :param end_date: End date for filtering interactions (inclusive, format: 'YYYY-MM-DD').\n",
    "    :param min_count: Minimum count of triplets to include in the output.\n",
    "    :param output_path: Path to save the resulting CSV file.\n",
    "    \"\"\"\n",
    "    # Load datasets\n",
    "    interactions = pd.read_csv(\n",
    "        interactions_path, usecols=[\"time\", \"user_id\", \"item_id\", \"interaction\"]\n",
    "    )\n",
    "    items = pd.read_csv(items_path, usecols=[\"item_id\", \"cat2\"])\n",
    "\n",
    "    # Map item_id to cat2 category\n",
    "    items_mapping = items.set_index(\"item_id\")[\"cat2\"]\n",
    "    interactions[\"cat2\"] = interactions[\"item_id\"].map(items_mapping)\n",
    "\n",
    "    # Filter by date range if specified\n",
    "    if start_date:\n",
    "        interactions = interactions[interactions[\"time\"] >= start_date]\n",
    "    if end_date:\n",
    "        interactions = interactions[interactions[\"time\"] <= end_date]\n",
    "\n",
    "    # Filter interactions (interaction == 1)\n",
    "    like_interactions = interactions[interactions[\"interaction\"] == 1].copy()\n",
    "\n",
    "    # Sort by user_id and time for sequential processing\n",
    "    like_interactions = like_interactions.sort_values(by=[\"user_id\", \"time\"])\n",
    "\n",
    "    # Generate triplets for each user\n",
    "    triplets = (\n",
    "        (categories[i], categories[i + 1], categories[i + 2])\n",
    "        for user_id, group in like_interactions.groupby(\"user_id\")\n",
    "        for categories in [group[\"cat2\"].dropna().tolist()]\n",
    "        for i in range(len(categories) - 2)\n",
    "        if categories[i] != categories[i + 1] != categories[i + 2] != categories[i]\n",
    "    )\n",
    "\n",
    "    # Count occurrences of each triplet\n",
    "    triplet_counter = Counter(triplets)\n",
    "\n",
    "    # Create a DataFrame with counts, filtered by min_count\n",
    "    result_df = pd.DataFrame.from_records(\n",
    "        (\n",
    "            (t[0], t[1], t[2], count)\n",
    "            for t, count in triplet_counter.items()\n",
    "            if count >= min_count\n",
    "        ),\n",
    "        columns=[\"user_category_1\", \"user_category_2\", \"predicted_category\", \"count\"],\n",
    "    ).sort_values(by=\"count\", ascending=False)\n",
    "\n",
    "    # Save the sorted triplets with counts to a CSV file\n",
    "    result_df.to_csv(output_path, index=False)\n",
    "\n",
    "    print(f\"Output saved to '{output_path}'.\")\n",
    "\n",
    "\n",
    "# Example usage\n",
    "generate_triplets(\n",
    "    interactions_path=\"../data/interactions.csv\",\n",
    "    items_path=\"../data/items.csv\",\n",
    "    start_date=\"2024-12-10\",\n",
    "    end_date=\"2024-12-14\",\n",
    "    min_count=1,\n",
    "    output_path=\"../data/category_triplets_latest_with_lmm.csv\",\n",
    ")"
   ]
  },
  {
   "cell_type": "code",
   "execution_count": null,
   "metadata": {},
   "outputs": [],
   "source": [
    "print(precision(\"../data/predicted_categories.json\", \"../data/interactions.csv\"))\n",
    "print(match_rate(\"../ddata/predicted_categories.json\", \"../data/cat2list.json\"))\n"
   ]
  },
  {
   "cell_type": "code",
   "execution_count": null,
   "metadata": {},
   "outputs": [],
   "source": [
    "def coverage_metrics(interactions_path: str, items_path: str) -> float:\n",
    "    \"\"\"\n",
    "    Calculate the coverage metric for recommendations.\n",
    "\n",
    "    :param interactions_path: Path to the CSV file containing user interactions data.\n",
    "    :param items_path: Path to the CSV file containing the catalog of all items.\n",
    "    :return: Coverage metric as a float between 0 and 1, indicating the proportion\n",
    "             of catalog items covered by the recommendations.\n",
    "    \"\"\"\n",
    "    interactions_df = pd.read_csv(interactions_path)\n",
    "    items_df = pd.read_csv(items_path)\n",
    "    recommended_items = set(interactions_df[\"item_id\"])\n",
    "    total_items = set(items_df[\"item_id\"])\n",
    "\n",
    "    coverage = (\n",
    "        len(recommended_items & total_items) / len(total_items) if total_items else 0\n",
    "    )\n",
    "    return coverage\n"
   ]
  },
  {
   "cell_type": "code",
   "execution_count": 7,
   "metadata": {},
   "outputs": [
    {
     "data": {
      "text/html": [
       "<div>\n",
       "<style scoped>\n",
       "    .dataframe tbody tr th:only-of-type {\n",
       "        vertical-align: middle;\n",
       "    }\n",
       "\n",
       "    .dataframe tbody tr th {\n",
       "        vertical-align: top;\n",
       "    }\n",
       "\n",
       "    .dataframe thead th {\n",
       "        text-align: right;\n",
       "    }\n",
       "</style>\n",
       "<table border=\"1\" class=\"dataframe\">\n",
       "  <thead>\n",
       "    <tr style=\"text-align: right;\">\n",
       "      <th></th>\n",
       "      <th>time</th>\n",
       "      <th>user_id</th>\n",
       "      <th>item_id</th>\n",
       "      <th>interaction</th>\n",
       "      <th>cat2</th>\n",
       "    </tr>\n",
       "  </thead>\n",
       "  <tbody>\n",
       "    <tr>\n",
       "      <th>0</th>\n",
       "      <td>2024-12-10 12:25:29.446542</td>\n",
       "      <td>621459934</td>\n",
       "      <td>10</td>\n",
       "      <td>1</td>\n",
       "      <td>Уход за волосами</td>\n",
       "    </tr>\n",
       "    <tr>\n",
       "      <th>1</th>\n",
       "      <td>2024-12-10 12:25:31.183529</td>\n",
       "      <td>621459934</td>\n",
       "      <td>6</td>\n",
       "      <td>0</td>\n",
       "      <td>Уход за волосами</td>\n",
       "    </tr>\n",
       "    <tr>\n",
       "      <th>2</th>\n",
       "      <td>2024-12-10 12:25:33.161214</td>\n",
       "      <td>621459934</td>\n",
       "      <td>8</td>\n",
       "      <td>1</td>\n",
       "      <td>Уход за волосами</td>\n",
       "    </tr>\n",
       "    <tr>\n",
       "      <th>3</th>\n",
       "      <td>2024-12-10 12:25:35.448148</td>\n",
       "      <td>621459934</td>\n",
       "      <td>3</td>\n",
       "      <td>0</td>\n",
       "      <td>Уход за волосами</td>\n",
       "    </tr>\n",
       "    <tr>\n",
       "      <th>4</th>\n",
       "      <td>2024-12-10 12:25:37.159775</td>\n",
       "      <td>621459934</td>\n",
       "      <td>10</td>\n",
       "      <td>1</td>\n",
       "      <td>Уход за волосами</td>\n",
       "    </tr>\n",
       "    <tr>\n",
       "      <th>...</th>\n",
       "      <td>...</td>\n",
       "      <td>...</td>\n",
       "      <td>...</td>\n",
       "      <td>...</td>\n",
       "      <td>...</td>\n",
       "    </tr>\n",
       "    <tr>\n",
       "      <th>11223</th>\n",
       "      <td>2024-12-13 11:33:32.005313</td>\n",
       "      <td>5298482518</td>\n",
       "      <td>5371</td>\n",
       "      <td>1</td>\n",
       "      <td>Электронные сертификаты</td>\n",
       "    </tr>\n",
       "    <tr>\n",
       "      <th>11224</th>\n",
       "      <td>2024-12-13 11:33:36.607003</td>\n",
       "      <td>5298482518</td>\n",
       "      <td>6764</td>\n",
       "      <td>1</td>\n",
       "      <td>Компьютеры и периферия</td>\n",
       "    </tr>\n",
       "    <tr>\n",
       "      <th>11225</th>\n",
       "      <td>2024-12-13 11:33:40.636143</td>\n",
       "      <td>5298482518</td>\n",
       "      <td>7070</td>\n",
       "      <td>1</td>\n",
       "      <td>Умный дом</td>\n",
       "    </tr>\n",
       "    <tr>\n",
       "      <th>11226</th>\n",
       "      <td>2024-12-13 11:33:43.256738</td>\n",
       "      <td>5298482518</td>\n",
       "      <td>9387</td>\n",
       "      <td>0</td>\n",
       "      <td>Религиозная атрибутика</td>\n",
       "    </tr>\n",
       "    <tr>\n",
       "      <th>11227</th>\n",
       "      <td>2024-12-13 11:35:31.905053</td>\n",
       "      <td>621459934</td>\n",
       "      <td>6754</td>\n",
       "      <td>1</td>\n",
       "      <td>Компьютеры и периферия</td>\n",
       "    </tr>\n",
       "  </tbody>\n",
       "</table>\n",
       "<p>11228 rows × 5 columns</p>\n",
       "</div>"
      ],
      "text/plain": [
       "                             time     user_id  item_id  interaction  \\\n",
       "0      2024-12-10 12:25:29.446542   621459934       10            1   \n",
       "1      2024-12-10 12:25:31.183529   621459934        6            0   \n",
       "2      2024-12-10 12:25:33.161214   621459934        8            1   \n",
       "3      2024-12-10 12:25:35.448148   621459934        3            0   \n",
       "4      2024-12-10 12:25:37.159775   621459934       10            1   \n",
       "...                           ...         ...      ...          ...   \n",
       "11223  2024-12-13 11:33:32.005313  5298482518     5371            1   \n",
       "11224  2024-12-13 11:33:36.607003  5298482518     6764            1   \n",
       "11225  2024-12-13 11:33:40.636143  5298482518     7070            1   \n",
       "11226  2024-12-13 11:33:43.256738  5298482518     9387            0   \n",
       "11227  2024-12-13 11:35:31.905053   621459934     6754            1   \n",
       "\n",
       "                          cat2  \n",
       "0             Уход за волосами  \n",
       "1             Уход за волосами  \n",
       "2             Уход за волосами  \n",
       "3             Уход за волосами  \n",
       "4             Уход за волосами  \n",
       "...                        ...  \n",
       "11223  Электронные сертификаты  \n",
       "11224   Компьютеры и периферия  \n",
       "11225                Умный дом  \n",
       "11226   Религиозная атрибутика  \n",
       "11227   Компьютеры и периферия  \n",
       "\n",
       "[11228 rows x 5 columns]"
      ]
     },
     "execution_count": 7,
     "metadata": {},
     "output_type": "execute_result"
    }
   ],
   "source": [
    "def merge_item_cat2(\n",
    "    interactions_df: pd.DataFrame,\n",
    "    items_path: str,\n",
    ") -> pd.DataFrame:\n",
    "    \"\"\"\n",
    "    Merge items from interactions_df with their item_id from items file.\n",
    "    \"\"\"\n",
    "    # Load data\n",
    "    items_df = pd.read_csv(items_path, sep=\",\")\n",
    "\n",
    "    # Ensure 'cat2' is mapped from items.csv where missing\n",
    "    interactions_df = interactions_df.merge(\n",
    "        items_df[[\"item_id\", \"cat2\"]],\n",
    "        on=\"item_id\",\n",
    "        how=\"left\",\n",
    "        suffixes=(\"\", \"_from_items\"),\n",
    "    )\n",
    "\n",
    "    # Fill missing 'cat2' from items.csv\n",
    "    if \"cat2_from_items\" in interactions_df.columns:\n",
    "        interactions_df[\"cat2\"] = interactions_df[\"cat2\"].combine_first(\n",
    "            interactions_df[\"cat2_from_items\"]\n",
    "        )\n",
    "        interactions_df.drop(columns=[\"cat2_from_items\"], inplace=True, errors=\"ignore\")\n",
    "\n",
    "    return interactions_df\n",
    "\n",
    "\n",
    "interactions_path = \"../data/interactions.csv\"\n",
    "interactions_df = pd.read_csv(interactions_path)\n",
    "interactions_df = merge_item_cat2(interactions_df, \"../data/items.csv\")\n",
    "interactions_df"
   ]
  },
  {
   "cell_type": "code",
   "execution_count": 46,
   "metadata": {},
   "outputs": [],
   "source": [
    "def categories_coverage_metrics(interactions_path: str, items_path: str) -> float:\n",
    "    \"\"\"\n",
    "    Calculate the coverage metric for recommendations.\n",
    "\n",
    "    :param interactions_path: Path to the CSV file containing user interactions data.\n",
    "    :param items_path: Path to the CSV file containing the catalog of all items.\n",
    "    :return: Coverage metric as a float between 0 and 1, indicating the proportion\n",
    "             of catalog items covered by the recommendations.\n",
    "    \"\"\"\n",
    "    interactions_df = pd.read_csv(interactions_path)\n",
    "    interactions_df = merge_item_cat2(interactions_df, \"../data/items.csv\")\n",
    "    items_df = pd.read_csv(items_path)\n",
    "    recommended_cat2 = set(interactions_df[\"cat2\"])\n",
    "    total_cat2 = set(items_df[\"cat2\"])\n",
    "    coverage = len(recommended_cat2 & total_cat2) / len(total_cat2) if total_cat2 else 0\n",
    "    return coverage\n"
   ]
  },
  {
   "cell_type": "code",
   "execution_count": null,
   "metadata": {},
   "outputs": [],
   "source": [
    "categories_coverage_metrics(\"../data/interactions.csv\", \"../data/items.csv\")"
   ]
  },
  {
   "cell_type": "code",
   "execution_count": 15,
   "metadata": {},
   "outputs": [
    {
     "ename": "NameError",
     "evalue": "name 'merge_item_cat2' is not defined",
     "output_type": "error",
     "traceback": [
      "\u001b[0;31m---------------------------------------------------------------------------\u001b[0m",
      "\u001b[0;31mNameError\u001b[0m                                 Traceback (most recent call last)",
      "Cell \u001b[0;32mIn[15], line 51\u001b[0m\n\u001b[1;32m     47\u001b[0m     \u001b[38;5;28;01mreturn\u001b[39;00m session_coverage\n\u001b[1;32m     50\u001b[0m \u001b[38;5;66;03m# Example usage\u001b[39;00m\n\u001b[0;32m---> 51\u001b[0m coverage_list \u001b[38;5;241m=\u001b[39m \u001b[43mcategories_coverage_metrics\u001b[49m\u001b[43m(\u001b[49m\n\u001b[1;32m     52\u001b[0m \u001b[43m    \u001b[49m\u001b[43minteractions_path\u001b[49m\u001b[38;5;241;43m=\u001b[39;49m\u001b[38;5;124;43m\"\u001b[39;49m\u001b[38;5;124;43m../data/interactions.csv\u001b[39;49m\u001b[38;5;124;43m\"\u001b[39;49m\u001b[43m,\u001b[49m\n\u001b[1;32m     53\u001b[0m \u001b[43m    \u001b[49m\u001b[43mitems_path\u001b[49m\u001b[38;5;241;43m=\u001b[39;49m\u001b[38;5;124;43m\"\u001b[39;49m\u001b[38;5;124;43m../data/items.csv\u001b[39;49m\u001b[38;5;124;43m\"\u001b[39;49m\u001b[43m,\u001b[49m\n\u001b[1;32m     54\u001b[0m \u001b[43m    \u001b[49m\u001b[43mdelta\u001b[49m\u001b[38;5;241;43m=\u001b[39;49m\u001b[38;5;241;43m8\u001b[39;49m\u001b[43m \u001b[49m\u001b[38;5;241;43m*\u001b[39;49m\u001b[43m \u001b[49m\u001b[38;5;241;43m60\u001b[39;49m\u001b[43m \u001b[49m\u001b[38;5;241;43m*\u001b[39;49m\u001b[43m \u001b[49m\u001b[38;5;241;43m60\u001b[39;49m\u001b[43m,\u001b[49m\n\u001b[1;32m     55\u001b[0m \u001b[43m)\u001b[49m\n\u001b[1;32m     56\u001b[0m \u001b[38;5;28mprint\u001b[39m(\u001b[38;5;124mf\u001b[39m\u001b[38;5;124m\"\u001b[39m\u001b[38;5;124mCoverage Metrics per Session: \u001b[39m\u001b[38;5;132;01m{\u001b[39;00mcoverage_list\u001b[38;5;132;01m}\u001b[39;00m\u001b[38;5;124m\"\u001b[39m)\n",
      "Cell \u001b[0;32mIn[15], line 19\u001b[0m, in \u001b[0;36mcategories_coverage_metrics\u001b[0;34m(interactions_path, items_path, delta)\u001b[0m\n\u001b[1;32m     17\u001b[0m \u001b[38;5;66;03m# Load the interactions and items data\u001b[39;00m\n\u001b[1;32m     18\u001b[0m interactions_df \u001b[38;5;241m=\u001b[39m pd\u001b[38;5;241m.\u001b[39mread_csv(interactions_path)\n\u001b[0;32m---> 19\u001b[0m interactions_df \u001b[38;5;241m=\u001b[39m \u001b[43mmerge_item_cat2\u001b[49m(interactions_df, items_path)\n\u001b[1;32m     20\u001b[0m interactions_df[\u001b[38;5;124m\"\u001b[39m\u001b[38;5;124mtime\u001b[39m\u001b[38;5;124m\"\u001b[39m] \u001b[38;5;241m=\u001b[39m pd\u001b[38;5;241m.\u001b[39mto_datetime(interactions_df[\u001b[38;5;124m\"\u001b[39m\u001b[38;5;124mtime\u001b[39m\u001b[38;5;124m\"\u001b[39m], errors\u001b[38;5;241m=\u001b[39m\u001b[38;5;124m\"\u001b[39m\u001b[38;5;124mcoerce\u001b[39m\u001b[38;5;124m\"\u001b[39m)\n\u001b[1;32m     21\u001b[0m interactions_df \u001b[38;5;241m=\u001b[39m interactions_df\u001b[38;5;241m.\u001b[39mdropna(subset\u001b[38;5;241m=\u001b[39m[\u001b[38;5;124m\"\u001b[39m\u001b[38;5;124mtime\u001b[39m\u001b[38;5;124m\"\u001b[39m])\n",
      "\u001b[0;31mNameError\u001b[0m: name 'merge_item_cat2' is not defined"
     ]
    }
   ],
   "source": [
    "import pandas as pd\n",
    "\n",
    "from metrics import compute_mean_ratios\n",
    "\n",
    "\n",
    "def categories_coverage_metrics(\n",
    "    interactions_path: str, items_path: str, delta: int\n",
    ") -> list:\n",
    "    \"\"\"\n",
    "    Calculate the coverage metric for recommendations within sessions defined by delta.\n",
    "\n",
    "    :param interactions_path: Path to the CSV file containing user interactions data.\n",
    "    :param items_path: Path to the CSV file containing the catalog of all items.\n",
    "    :param delta: Time gap (in seconds) to define a new session.\n",
    "    :return: List of coverage metrics for each session as floats between 0 and 1.\n",
    "    \"\"\"\n",
    "    # Load the interactions and items data\n",
    "    interactions_df = pd.read_csv(interactions_path)\n",
    "    interactions_df = merge_item_cat2(interactions_df, items_path)\n",
    "    interactions_df[\"time\"] = pd.to_datetime(interactions_df[\"time\"], errors=\"coerce\")\n",
    "    interactions_df = interactions_df.dropna(subset=[\"time\"])\n",
    "    interactions_df = interactions_df.sort_values(by=\"time\")\n",
    "\n",
    "    items_df = pd.read_csv(items_path)\n",
    "\n",
    "    # Define sessions based on the delta threshold\n",
    "    interactions_df[\"session_id\"] = (\n",
    "        interactions_df[\"time\"].diff().dt.total_seconds() > delta\n",
    "    ).cumsum()\n",
    "\n",
    "    # Initialize variables to compute coverage\n",
    "    total_categories = set(items_df[\"cat2\"])\n",
    "    session_coverage = []\n",
    "\n",
    "    # Iterate through sessions to compute coverage\n",
    "    session_ids = interactions_df[\"session_id\"].unique()\n",
    "    for session_id in session_ids:\n",
    "        session_data = interactions_df[interactions_df[\"session_id\"] == session_id]\n",
    "        recommended_cat2 = set(session_data[\"cat2\"])\n",
    "        coverage = (\n",
    "            len(recommended_cat2 & total_categories) / len(total_categories)\n",
    "            if total_categories\n",
    "            else 0\n",
    "        )\n",
    "        session_coverage.append(coverage)\n",
    "\n",
    "    return session_coverage\n",
    "\n",
    "\n",
    "# Example usage\n",
    "coverage_list = categories_coverage_metrics(\n",
    "    interactions_path=\"../data/interactions.csv\",\n",
    "    items_path=\"../data/items.csv\",\n",
    "    delta=8 * 60 * 60,\n",
    ")\n",
    "print(f\"Coverage Metrics per Session: {coverage_list}\")\n"
   ]
  },
  {
   "cell_type": "code",
   "execution_count": 16,
   "metadata": {},
   "outputs": [
    {
     "name": "stdout",
     "output_type": "stream",
     "text": [
      "total categories =  219\n",
      "len(recommended_cat2) = 219 in case 0\n",
      "len(recommended_cat2) = 75 in case 1\n",
      "len(recommended_cat2) = 219 in case 2\n",
      "len(recommended_cat2) = 219 in case 3\n",
      "Graph saved at: coverage_metrics.png\n"
     ]
    },
    {
     "data": {
      "image/png": "[encoded data removed]",
      "text/plain": [
       "<Figure size 1200x600 with 1 Axes>"
      ]
     },
     "metadata": {},
     "output_type": "display_data"
    }
   ],
   "source": [
    "import matplotlib.pyplot as plt\n",
    "import pandas as pd\n",
    "\n",
    "\n",
    "def plot_coverage_metrics(\n",
    "    interactions_path: str, items_path: str, delta: int, save_path: str = None\n",
    "):\n",
    "    \"\"\"\n",
    "    Plot the coverage metrics for each session.\n",
    "\n",
    "    :param interactions_path: Path to the CSV file containing user interactions data.\n",
    "    :param items_path: Path to the CSV file containing the catalog of all items.\n",
    "    :param delta: Time gap (in seconds) to define a new session.\n",
    "    :param save_path: Optional. File path to save the generated plot (default: None).\n",
    "    \"\"\"\n",
    "    # Calculate coverage metrics\n",
    "    coverage_metrics = categories_coverage_metrics(interactions_path, items_path, delta)\n",
    "\n",
    "    # Load interactions to get session times\n",
    "    interactions_df = pd.read_csv(interactions_path)\n",
    "    interactions_df = merge_item_cat2(interactions_df, items_path)\n",
    "    interactions_df[\"time\"] = pd.to_datetime(interactions_df[\"time\"], errors=\"coerce\")\n",
    "    interactions_df = interactions_df.dropna(subset=[\"time\"])\n",
    "    interactions_df = interactions_df.sort_values(by=\"time\")\n",
    "    interactions_df[\"session_id\"] = (\n",
    "        interactions_df[\"time\"].diff().dt.total_seconds() > delta\n",
    "    ).cumsum()\n",
    "\n",
    "    session_times = interactions_df.groupby(\"session_id\")[\"time\"].min()\n",
    "\n",
    "    # Plot the coverage metrics\n",
    "    plt.figure(figsize=(12, 6))\n",
    "    plt.plot(\n",
    "        session_times,\n",
    "        coverage_metrics,\n",
    "        label=f\"Coverage Metrics (delta={delta // 3600}h)\",\n",
    "        marker=\"o\",\n",
    "    )\n",
    "    plt.xlabel(\"Session Start Time\")\n",
    "    plt.ylabel(\"Coverage Metric\")\n",
    "    plt.title(\"Coverage Metrics Across Sessions\")\n",
    "    plt.grid()\n",
    "    plt.legend()\n",
    "    plt.tight_layout()\n",
    "\n",
    "    if save_path:\n",
    "        plt.savefig(save_path, format=\"png\")\n",
    "        print(f\"Graph saved at: {save_path}\")\n",
    "    else:\n",
    "        plt.show()\n",
    "\n",
    "\n",
    "# Example usage\n",
    "plot_coverage_metrics(\n",
    "    interactions_path=\"../data/interactions.csv\",\n",
    "    items_path=\"../data/items.csv\",\n",
    "    delta=8 * 60 * 60,\n",
    "    save_path=\"coverage_metrics.png\",\n",
    ")\n"
   ]
  },
  {
   "cell_type": "code",
   "execution_count": null,
   "metadata": {},
   "outputs": [],
   "source": []
  },
  {
   "cell_type": "code",
   "execution_count": null,
   "metadata": {},
   "outputs": [],
   "source": [
    "import pandas as pd\n",
    "\n",
    "\n",
    "def replace_csv_separator(input_csv_path: str, output_csv_path: str):\n",
    "    \"\"\"\n",
    "    Replace the separator in a CSV file from ',' to ';'.\n",
    "\n",
    "    :param input_csv_path: Path to the input CSV file with ',' separator.\n",
    "    :param output_csv_path: Path to the output CSV file with ';' separator.\n",
    "    \"\"\"\n",
    "    # Read the input CSV file\n",
    "    df = pd.read_csv(input_csv_path)\n",
    "\n",
    "    # Write to a new CSV file with ';' as the separator\n",
    "    df.to_csv(output_csv_path, sep=\";\", index=False)\n",
    "\n",
    "\n",
    "# Example usage\n",
    "replace_csv_separator(\"input.csv\", \"output.csv\")\n"
   ]
  },
  {
   "cell_type": "code",
   "execution_count": null,
   "metadata": {},
   "outputs": [],
   "source": []
  },
  {
   "cell_type": "code",
   "execution_count": null,
   "metadata": {},
   "outputs": [],
   "source": []
  },
  {
   "cell_type": "code",
   "execution_count": null,
   "metadata": {},
   "outputs": [],
   "source": []
  },
  {
   "cell_type": "code",
   "execution_count": null,
   "metadata": {},
   "outputs": [],
   "source": []
  },
  {
   "cell_type": "code",
   "execution_count": 19,
   "metadata": {},
   "outputs": [
    {
     "name": "stdout",
     "output_type": "stream",
     "text": [
      "total categories =  219\n",
      "len(recommended_cat2) = 219 in case 0\n",
      "len(recommended_cat2) = 75 in case 1\n",
      "len(recommended_cat2) = 219 in case 2\n",
      "len(recommended_cat2) = 219 in case 3\n",
      "Graph saved at: combined_metrics.png\n"
     ]
    },
    {
     "data": {
      "image/png": "[encoded data removed]",
      "text/plain": [
       "<Figure size 1200x600 with 1 Axes>"
      ]
     },
     "metadata": {},
     "output_type": "display_data"
    }
   ],
   "source": [
    "import pandas as pd\n",
    "\n",
    "\n",
    "def categories_coverage_metrics(\n",
    "    interactions_path: str, items_path: str, delta: int\n",
    ") -> list:\n",
    "    \"\"\"\n",
    "    Calculate the coverage metric for recommendations within sessions defined by delta.\n",
    "\n",
    "    :param interactions_path: Path to the CSV file containing user interactions data.\n",
    "    :param items_path: Path to the CSV file containing the catalog of all items.\n",
    "    :param delta: Time gap (in seconds) to define a new session.\n",
    "    :return: List of coverage metrics for each session as floats between 0 and 1.\n",
    "    \"\"\"\n",
    "    # Load the interactions and items data\n",
    "    interactions_df = pd.read_csv(interactions_path)\n",
    "\n",
    "    interactions_df = merge_item_cat2(interactions_df, items_path)\n",
    "    interactions_df[\"time\"] = pd.to_datetime(interactions_df[\"time\"], errors=\"coerce\")\n",
    "    interactions_df = interactions_df.dropna(subset=[\"time\"])\n",
    "    interactions_df = interactions_df.sort_values(by=\"time\")\n",
    "\n",
    "    items_df = pd.read_csv(items_path)\n",
    "\n",
    "    # Define sessions based on the delta threshold\n",
    "    interactions_df[\"session_id\"] = (\n",
    "        interactions_df[\"time\"].diff().dt.total_seconds() > delta\n",
    "    ).cumsum()\n",
    "\n",
    "    # Initialize variables to compute coverage\n",
    "    total_categories = set(items_df[\"cat2\"])\n",
    "    print(\"total categories = \", len(total_categories))\n",
    "    session_coverage = []\n",
    "\n",
    "    # Iterate through sessions to compute coverage\n",
    "    session_ids = interactions_df[\"session_id\"].unique()\n",
    "    for session_id in session_ids:\n",
    "        session_data = interactions_df[interactions_df[\"session_id\"] == session_id]\n",
    "        recommended_cat2 = set(session_data[\"cat2\"])\n",
    "        print(f\"len(recommended_cat2) = {len(recommended_cat2)} in case {session_id}\")\n",
    "\n",
    "        coverage = (\n",
    "            len(recommended_cat2 & total_categories) / len(total_categories)\n",
    "            if total_categories\n",
    "            else 0\n",
    "        )\n",
    "        session_coverage.append(coverage)\n",
    "\n",
    "    return session_coverage\n",
    "\n",
    "\n",
    "def plot_combined_metrics(\n",
    "    interactions_path: str,\n",
    "    items_path: str,\n",
    "    delta: int,\n",
    "    save_path: str = None,\n",
    "):\n",
    "    \"\"\"\n",
    "    Plot both coverage and like-rate metrics for each session on the same graph with a single y-axis.\n",
    "\n",
    "    :param interactions_path: Path to the CSV file containing user interactions data.\n",
    "    :param items_path: Path to the CSV file containing the catalog of all items.\n",
    "    :param delta: Time gap (in seconds) to define a new session.\n",
    "    :param save_path: Optional. File path to save the generated plot (default: None).\n",
    "    \"\"\"\n",
    "    # Calculate coverage metrics\n",
    "    coverage_metrics = categories_coverage_metrics(interactions_path, items_path, delta)\n",
    "\n",
    "    # Load interactions to get session times\n",
    "    interactions_df = pd.read_csv(interactions_path)\n",
    "\n",
    "    interactions_df = merge_item_cat2(interactions_df, items_path)\n",
    "    interactions_df[\"time\"] = pd.to_datetime(interactions_df[\"time\"], errors=\"coerce\")\n",
    "    interactions_df = interactions_df.dropna(subset=[\"time\"])\n",
    "    interactions_df = interactions_df.sort_values(by=\"time\")\n",
    "    interactions_df[\"session_id\"] = (\n",
    "        interactions_df[\"time\"].diff().dt.total_seconds() > delta\n",
    "    ).cumsum()\n",
    "\n",
    "    session_times = interactions_df.groupby(\"session_id\")[\"time\"].min()\n",
    "\n",
    "    # Calculate like-rate metrics for each session\n",
    "    like_rate_metrics = []\n",
    "    for session_id in interactions_df[\"session_id\"].unique():\n",
    "        session_data = interactions_df[interactions_df[\"session_id\"] == session_id]\n",
    "        session_start = session_data[\"time\"].min()\n",
    "        session_end = session_data[\"time\"].max()\n",
    "        like_rate = compute_mean_ratios(\n",
    "            interactions_path,\n",
    "            delta,\n",
    "            start_time=session_start.strftime(\"%Y-%m-%d %H:%M:%S\"),\n",
    "            end_time=session_end.strftime(\"%Y-%m-%d %H:%M:%S\"),\n",
    "        )\n",
    "        like_rate_metrics.append(like_rate)\n",
    "\n",
    "    # Plot the combined metrics\n",
    "    plt.figure(figsize=(12, 6))\n",
    "\n",
    "    # Plot both metrics on the same y-axis\n",
    "    plt.plot(\n",
    "        session_times,\n",
    "        coverage_metrics,\n",
    "        label=\"Coverage Metric\",\n",
    "        color=\"blue\",\n",
    "        marker=\"o\",\n",
    "    )\n",
    "    plt.plot(\n",
    "        session_times,\n",
    "        like_rate_metrics,\n",
    "        label=\"Like Rate Metric\",\n",
    "        color=\"green\",\n",
    "        marker=\"x\",\n",
    "    )\n",
    "\n",
    "    plt.xlabel(\"Session Start Time\")\n",
    "    plt.ylabel(\"Metric Value (Coverage & Like Rate)\")\n",
    "    plt.title(\"Coverage and Like Rate Metrics Across Sessions\")\n",
    "    plt.legend()\n",
    "    plt.grid()\n",
    "    plt.tight_layout()\n",
    "\n",
    "    # Save or Show Plot\n",
    "    if save_path:\n",
    "        plt.savefig(save_path, format=\"png\")\n",
    "        print(f\"Graph saved at: {save_path}\")\n",
    "    else:\n",
    "        plt.show()\n",
    "\n",
    "\n",
    "# Example usage\n",
    "plot_combined_metrics(\n",
    "    interactions_path=\"../data/interactions.csv\",\n",
    "    items_path=\"../data/items.csv\",\n",
    "    delta=8 * 60 * 60,\n",
    "    save_path=\"combined_metrics.png\",\n",
    ")\n"
   ]
  },
  {
   "cell_type": "code",
   "execution_count": null,
   "metadata": {},
   "outputs": [],
   "source": []
  },
  {
   "cell_type": "code",
   "execution_count": 20,
   "metadata": {},
   "outputs": [],
   "source": [
    "import pandas as pd\n",
    "\n",
    "\n",
    "def plot_global_like_rate(\n",
    "    interactions_path: str,\n",
    "    delta: int,\n",
    "    config: dict = None,\n",
    "):\n",
    "    \"\"\"\n",
    "    Plot the average like-rate over global sessions.\n",
    "\n",
    "    :param interactions_path: Path to the CSV file containing interactions data.\n",
    "    :param delta: Time gap (in seconds) to define a new global session.\n",
    "    :param config: Dictionary with configuration options:\n",
    "                   - start_time: Start of the time range as a string (default: None)\n",
    "                   - end_time: End of the time range as a string (default: None)\n",
    "                   - save_path: File path to save the generated plot (default: None)\n",
    "    \"\"\"\n",
    "    # Default configuration\n",
    "    config = config or {}\n",
    "    start_time = config.get(\"start_time\")\n",
    "    end_time = config.get(\"end_time\")\n",
    "    save_path = config.get(\"save_path\")\n",
    "\n",
    "    # Load the interactions data\n",
    "    interactions = pd.read_csv(interactions_path)\n",
    "    interactions[\"time\"] = pd.to_datetime(interactions[\"time\"], errors=\"coerce\")\n",
    "    interactions = interactions.dropna(subset=[\"time\"])\n",
    "\n",
    "    # Convert start_time and end_time to datetime if provided\n",
    "    if start_time:\n",
    "        start_time = pd.to_datetime(start_time, errors=\"coerce\")\n",
    "        interactions = interactions[interactions[\"time\"] >= start_time]\n",
    "    if end_time:\n",
    "        end_time = pd.to_datetime(end_time, errors=\"coerce\")\n",
    "        interactions = interactions[interactions[\"time\"] <= end_time]\n",
    "\n",
    "    if interactions.empty:\n",
    "        print(\"No valid data available for the specified time range.\")\n",
    "        return\n",
    "\n",
    "    # Sort interactions by time\n",
    "    interactions = interactions.sort_values(by=\"time\")\n",
    "\n",
    "    # Define global sessions based on the delta threshold\n",
    "    interactions[\"session_id\"] = (\n",
    "        interactions[\"time\"].diff().dt.total_seconds() > delta\n",
    "    ).cumsum() + 1\n",
    "\n",
    "    # Compute mean ratios for each session using\n",
    "\n",
    "    session_ids = interactions[\"session_id\"].unique()\n",
    "    session_like_rates = []\n",
    "    session_times = []\n",
    "    session_interactions_counts = []\n",
    "\n",
    "    for session_id in session_ids:\n",
    "        session_data = interactions[interactions[\"session_id\"] == session_id]\n",
    "        session_start = session_data[\"time\"].min()\n",
    "        session_end = session_data[\"time\"].max()\n",
    "        interaction_count = len(session_data)\n",
    "\n",
    "        like_rate = compute_mean_ratios(\n",
    "            interactions_path=interactions_path,\n",
    "            eps=delta,\n",
    "            start_time=str(session_start),\n",
    "            end_time=str(session_end),\n",
    "        )\n",
    "        session_like_rates.append((session_id, like_rate))\n",
    "        session_times.append((session_start, session_end))\n",
    "        session_interactions_counts.append(interaction_count)\n",
    "\n",
    "    # Plot the average like-rate over sessions\n",
    "    session_ids, like_rates = zip(*session_like_rates)\n",
    "    plt.figure(figsize=(12, 6))\n",
    "    plt.plot(\n",
    "        session_ids,\n",
    "        like_rates,\n",
    "        label=f\"Global Like Rate (delta={delta // 3600}h)\",\n",
    "        marker=\"o\",\n",
    "    )\n",
    "\n",
    "    # Annotate session start, end times, and interaction counts on the graph\n",
    "    for i, ((start, end), count) in enumerate(\n",
    "        zip(session_times, session_interactions_counts)\n",
    "    ):\n",
    "        # Adjust position of text annotation to avoid overlapping\n",
    "        offset = 0.02 if i % 2 == 0 else -0.02\n",
    "        plt.text(\n",
    "            session_ids[i],\n",
    "            like_rates[i] + offset,\n",
    "            f\"{start.strftime('%Y-%m-%d %H:%M')}\\n{end.strftime('%Y-%m-%d %H:%M')}\\n{count} interactions\",\n",
    "            fontsize=9,\n",
    "            ha=\"center\",\n",
    "        )\n",
    "\n",
    "    plt.xlabel(\"Session ID\")\n",
    "    plt.ylabel(\"Average Like Rate\")\n",
    "    plt.title(\"Average Like Rate Across Global Sessions\")\n",
    "    plt.grid()\n",
    "    plt.legend()\n",
    "    plt.tight_layout()\n",
    "\n",
    "    # Ensure x-axis is in integer format without duplicate values\n",
    "    plt.xticks(session_ids, [int(x) for x in session_ids])\n",
    "\n",
    "    if save_path:\n",
    "        plt.savefig(save_path, format=\"png\")\n",
    "        print(f\"Graph saved at: {save_path}\")\n",
    "    else:\n",
    "        plt.show()\n",
    "\n",
    "\n",
    "# Example usage\n",
    "# plot_global_like_rate(\"interactions.csv\", delta=3600, config={\"save_path\": \"like_rate.png\"})\n"
   ]
  },
  {
   "cell_type": "code",
   "execution_count": 21,
   "metadata": {},
   "outputs": [
    {
     "data": {
      "image/png": "[encoded data removed]",
      "text/plain": [
       "<Figure size 1200x600 with 1 Axes>"
      ]
     },
     "metadata": {},
     "output_type": "display_data"
    }
   ],
   "source": [
    "# Example usage\n",
    "plot_global_like_rate(\"../data/interactions.csv\", delta=8 * 60 * 60)"
   ]
  },
  {
   "cell_type": "code",
   "execution_count": 33,
   "metadata": {},
   "outputs": [],
   "source": [
    "import pandas as pd\n",
    "import plotly.graph_objects as go\n",
    "\n",
    "\n",
    "def plot_global_like_rate(\n",
    "    interactions_path: str,\n",
    "    delta: int,\n",
    "    config: dict = None,\n",
    "):\n",
    "    \"\"\"\n",
    "    Plot the average like-rate over global sessions.\n",
    "\n",
    "    :param interactions_path: Path to the CSV file containing interactions data.\n",
    "    :param delta: Time gap (in seconds) to define a new global session.\n",
    "    :param config: Dictionary with configuration options:\n",
    "                   - start_time: Start of the time range as a string (default: None)\n",
    "                   - end_time: End of the time range as a string (default: None)\n",
    "                   - save_path: File path to save the generated plot (default: None)\n",
    "    \"\"\"\n",
    "    # Default configuration\n",
    "    config = config or {}\n",
    "    start_time = config.get(\"start_time\")\n",
    "    end_time = config.get(\"end_time\")\n",
    "    save_path = config.get(\"save_path\")\n",
    "\n",
    "    # Load the interactions data\n",
    "    interactions = pd.read_csv(interactions_path)\n",
    "    interactions[\"time\"] = pd.to_datetime(interactions[\"time\"], errors=\"coerce\")\n",
    "    interactions = interactions.dropna(subset=[\"time\"])\n",
    "\n",
    "    # Convert start_time and end_time to datetime if provided\n",
    "    if start_time:\n",
    "        start_time = pd.to_datetime(start_time, errors=\"coerce\")\n",
    "        interactions = interactions[interactions[\"time\"] >= start_time]\n",
    "    if end_time:\n",
    "        end_time = pd.to_datetime(end_time, errors=\"coerce\")\n",
    "        interactions = interactions[interactions[\"time\"] <= end_time]\n",
    "\n",
    "    if interactions.empty:\n",
    "        print(\"No valid data available for the specified time range.\")\n",
    "        return\n",
    "\n",
    "    # Sort interactions by time\n",
    "    interactions = interactions.sort_values(by=\"time\")\n",
    "\n",
    "    # Define global sessions based on the delta threshold\n",
    "    interactions[\"session_id\"] = (\n",
    "        interactions[\"time\"].diff().dt.total_seconds() > delta\n",
    "    ).cumsum() + 1\n",
    "\n",
    "    # Compute mean ratios for each session\n",
    "    session_ids = interactions[\"session_id\"].unique()\n",
    "    session_like_rates = []\n",
    "    session_labels = []\n",
    "    session_interactions_counts = []\n",
    "\n",
    "    for session_id in session_ids:\n",
    "        session_data = interactions[interactions[\"session_id\"] == session_id]\n",
    "        session_start = session_data[\"time\"].min()\n",
    "        session_end = session_data[\"time\"].max()\n",
    "        interaction_count = len(session_data)\n",
    "\n",
    "        like_rate = compute_mean_ratios(\n",
    "            interactions_path=interactions_path,\n",
    "            eps=delta,\n",
    "            start_time=str(session_start),\n",
    "            end_time=str(session_end),\n",
    "        )\n",
    "        session_like_rates.append(like_rate)\n",
    "        session_labels.append(\n",
    "            f\"{session_start.strftime('%b %d')}<br>{session_start.strftime('%H:%M')} - {session_end.strftime('%H:%M')}<br>{interaction_count} interactions\"\n",
    "        )\n",
    "        session_interactions_counts.append(interaction_count)\n",
    "\n",
    "    # Prepare the data for Plotly\n",
    "    fig = go.Figure()\n",
    "\n",
    "    # Add the line plot\n",
    "    fig.add_trace(\n",
    "        go.Scatter(\n",
    "            x=session_ids,\n",
    "            y=session_like_rates,\n",
    "            mode=\"lines+markers\",\n",
    "            marker=dict(color=\"blue\", size=8),\n",
    "            line=dict(color=\"blue\", width=2),\n",
    "            name=f\"Global Like Rate (delta={delta // 3600}h)\",\n",
    "        )\n",
    "    )\n",
    "\n",
    "    # Update x-axis labels with session start and end times\n",
    "    fig.update_layout(\n",
    "        title=\"Like Rate Across Global Sessions\",\n",
    "        xaxis_title=\"Session ID (Start - End Times)\",\n",
    "        yaxis_title=\"Average Like Rate\",\n",
    "        template=\"plotly_white\",\n",
    "        legend=dict(title=\"Legend\"),\n",
    "        font=dict(size=12),\n",
    "        xaxis=dict(\n",
    "            tickmode=\"array\", tickvals=list(session_ids), ticktext=session_labels\n",
    "        ),\n",
    "        width=800,  # Adjust width here to make the plot narrower\n",
    "    )\n",
    "\n",
    "    if save_path:\n",
    "        fig.write_image(save_path)\n",
    "        print(f\"Graph saved at: {save_path}\")\n",
    "    else:\n",
    "        fig.show()\n",
    "\n",
    "\n",
    "# Example usage\n",
    "# plot_global_like_rate(\"interactions.csv\", delta=3600, config={\"save_path\": \"like_rate.png\"})\n"
   ]
  },
  {
   "cell_type": "code",
   "execution_count": 38,
   "metadata": {},
   "outputs": [
    {
     "data": {
      "application/vnd.plotly.v1+json": {
       "config": {
        "plotlyServerURL": "https://plot.ly"
       },
       "data": [
        {
         "line": {
          "color": "blue",
          "width": 2
         },
         "marker": {
          "color": "blue",
          "size": 8
         },
         "mode": "lines+markers",
         "name": "Global Like Rate (delta=6h)",
         "type": "scatter",
         "x": [
          1,
          2,
          3,
          4
         ],
         "y": [
          0.3214045685831388,
          0.31546231546231546,
          0.5172631531941528,
          0.6213485272596543
         ]
        }
       ],
       "layout": {
        "font": {
         "size": 12
        },
        "legend": {
         "title": {
          "text": "Legend"
         }
        },
        "template": {
         "data": {
          "bar": [
           {
            "error_x": {
             "color": "#2a3f5f"
            },
            "error_y": {
             "color": "#2a3f5f"
            },
            "marker": {
             "line": {
              "color": "white",
              "width": 0.5
             },
             "pattern": {
              "fillmode": "overlay",
              "size": 10,
              "solidity": 0.2
             }
            },
            "type": "bar"
           }
          ],
          "barpolar": [
           {
            "marker": {
             "line": {
              "color": "white",
              "width": 0.5
             },
             "pattern": {
              "fillmode": "overlay",
              "size": 10,
              "solidity": 0.2
             }
            },
            "type": "barpolar"
           }
          ],
          "carpet": [
           {
            "aaxis": {
             "endlinecolor": "#2a3f5f",
             "gridcolor": "#C8D4E3",
             "linecolor": "#C8D4E3",
             "minorgridcolor": "#C8D4E3",
             "startlinecolor": "#2a3f5f"
            },
            "baxis": {
             "endlinecolor": "#2a3f5f",
             "gridcolor": "#C8D4E3",
             "linecolor": "#C8D4E3",
             "minorgridcolor": "#C8D4E3",
             "startlinecolor": "#2a3f5f"
            },
            "type": "carpet"
           }
          ],
          "choropleth": [
           {
            "colorbar": {
             "outlinewidth": 0,
             "ticks": ""
            },
            "type": "choropleth"
           }
          ],
          "contour": [
           {
            "colorbar": {
             "outlinewidth": 0,
             "ticks": ""
            },
            "colorscale": [
             [
              0,
              "#0d0887"
             ],
             [
              0.1111111111111111,
              "#46039f"
             ],
             [
              0.2222222222222222,
              "#7201a8"
             ],
             [
              0.3333333333333333,
              "#9c179e"
             ],
             [
              0.4444444444444444,
              "#bd3786"
             ],
             [
              0.5555555555555556,
              "#d8576b"
             ],
             [
              0.6666666666666666,
              "#ed7953"
             ],
             [
              0.7777777777777778,
              "#fb9f3a"
             ],
             [
              0.8888888888888888,
              "#fdca26"
             ],
             [
              1,
              "#f0f921"
             ]
            ],
            "type": "contour"
           }
          ],
          "contourcarpet": [
           {
            "colorbar": {
             "outlinewidth": 0,
             "ticks": ""
            },
            "type": "contourcarpet"
           }
          ],
          "heatmap": [
           {
            "colorbar": {
             "outlinewidth": 0,
             "ticks": ""
            },
            "colorscale": [
             [
              0,
              "#0d0887"
             ],
             [
              0.1111111111111111,
              "#46039f"
             ],
             [
              0.2222222222222222,
              "#7201a8"
             ],
             [
              0.3333333333333333,
              "#9c179e"
             ],
             [
              0.4444444444444444,
              "#bd3786"
             ],
             [
              0.5555555555555556,
              "#d8576b"
             ],
             [
              0.6666666666666666,
              "#ed7953"
             ],
             [
              0.7777777777777778,
              "#fb9f3a"
             ],
             [
              0.8888888888888888,
              "#fdca26"
             ],
             [
              1,
              "#f0f921"
             ]
            ],
            "type": "heatmap"
           }
          ],
          "heatmapgl": [
           {
            "colorbar": {
             "outlinewidth": 0,
             "ticks": ""
            },
            "colorscale": [
             [
              0,
              "#0d0887"
             ],
             [
              0.1111111111111111,
              "#46039f"
             ],
             [
              0.2222222222222222,
              "#7201a8"
             ],
             [
              0.3333333333333333,
              "#9c179e"
             ],
             [
              0.4444444444444444,
              "#bd3786"
             ],
             [
              0.5555555555555556,
              "#d8576b"
             ],
             [
              0.6666666666666666,
              "#ed7953"
             ],
             [
              0.7777777777777778,
              "#fb9f3a"
             ],
             [
              0.8888888888888888,
              "#fdca26"
             ],
             [
              1,
              "#f0f921"
             ]
            ],
            "type": "heatmapgl"
           }
          ],
          "histogram": [
           {
            "marker": {
             "pattern": {
              "fillmode": "overlay",
              "size": 10,
              "solidity": 0.2
             }
            },
            "type": "histogram"
           }
          ],
          "histogram2d": [
           {
            "colorbar": {
             "outlinewidth": 0,
             "ticks": ""
            },
            "colorscale": [
             [
              0,
              "#0d0887"
             ],
             [
              0.1111111111111111,
              "#46039f"
             ],
             [
              0.2222222222222222,
              "#7201a8"
             ],
             [
              0.3333333333333333,
              "#9c179e"
             ],
             [
              0.4444444444444444,
              "#bd3786"
             ],
             [
              0.5555555555555556,
              "#d8576b"
             ],
             [
              0.6666666666666666,
              "#ed7953"
             ],
             [
              0.7777777777777778,
              "#fb9f3a"
             ],
             [
              0.8888888888888888,
              "#fdca26"
             ],
             [
              1,
              "#f0f921"
             ]
            ],
            "type": "histogram2d"
           }
          ],
          "histogram2dcontour": [
           {
            "colorbar": {
             "outlinewidth": 0,
             "ticks": ""
            },
            "colorscale": [
             [
              0,
              "#0d0887"
             ],
             [
              0.1111111111111111,
              "#46039f"
             ],
             [
              0.2222222222222222,
              "#7201a8"
             ],
             [
              0.3333333333333333,
              "#9c179e"
             ],
             [
              0.4444444444444444,
              "#bd3786"
             ],
             [
              0.5555555555555556,
              "#d8576b"
             ],
             [
              0.6666666666666666,
              "#ed7953"
             ],
             [
              0.7777777777777778,
              "#fb9f3a"
             ],
             [
              0.8888888888888888,
              "#fdca26"
             ],
             [
              1,
              "#f0f921"
             ]
            ],
            "type": "histogram2dcontour"
           }
          ],
          "mesh3d": [
           {
            "colorbar": {
             "outlinewidth": 0,
             "ticks": ""
            },
            "type": "mesh3d"
           }
          ],
          "parcoords": [
           {
            "line": {
             "colorbar": {
              "outlinewidth": 0,
              "ticks": ""
             }
            },
            "type": "parcoords"
           }
          ],
          "pie": [
           {
            "automargin": true,
            "type": "pie"
           }
          ],
          "scatter": [
           {
            "fillpattern": {
             "fillmode": "overlay",
             "size": 10,
             "solidity": 0.2
            },
            "type": "scatter"
           }
          ],
          "scatter3d": [
           {
            "line": {
             "colorbar": {
              "outlinewidth": 0,
              "ticks": ""
             }
            },
            "marker": {
             "colorbar": {
              "outlinewidth": 0,
              "ticks": ""
             }
            },
            "type": "scatter3d"
           }
          ],
          "scattercarpet": [
           {
            "marker": {
             "colorbar": {
              "outlinewidth": 0,
              "ticks": ""
             }
            },
            "type": "scattercarpet"
           }
          ],
          "scattergeo": [
           {
            "marker": {
             "colorbar": {
              "outlinewidth": 0,
              "ticks": ""
             }
            },
            "type": "scattergeo"
           }
          ],
          "scattergl": [
           {
            "marker": {
             "colorbar": {
              "outlinewidth": 0,
              "ticks": ""
             }
            },
            "type": "scattergl"
           }
          ],
          "scattermapbox": [
           {
            "marker": {
             "colorbar": {
              "outlinewidth": 0,
              "ticks": ""
             }
            },
            "type": "scattermapbox"
           }
          ],
          "scatterpolar": [
           {
            "marker": {
             "colorbar": {
              "outlinewidth": 0,
              "ticks": ""
             }
            },
            "type": "scatterpolar"
           }
          ],
          "scatterpolargl": [
           {
            "marker": {
             "colorbar": {
              "outlinewidth": 0,
              "ticks": ""
             }
            },
            "type": "scatterpolargl"
           }
          ],
          "scatterternary": [
           {
            "marker": {
             "colorbar": {
              "outlinewidth": 0,
              "ticks": ""
             }
            },
            "type": "scatterternary"
           }
          ],
          "surface": [
           {
            "colorbar": {
             "outlinewidth": 0,
             "ticks": ""
            },
            "colorscale": [
             [
              0,
              "#0d0887"
             ],
             [
              0.1111111111111111,
              "#46039f"
             ],
             [
              0.2222222222222222,
              "#7201a8"
             ],
             [
              0.3333333333333333,
              "#9c179e"
             ],
             [
              0.4444444444444444,
              "#bd3786"
             ],
             [
              0.5555555555555556,
              "#d8576b"
             ],
             [
              0.6666666666666666,
              "#ed7953"
             ],
             [
              0.7777777777777778,
              "#fb9f3a"
             ],
             [
              0.8888888888888888,
              "#fdca26"
             ],
             [
              1,
              "#f0f921"
             ]
            ],
            "type": "surface"
           }
          ],
          "table": [
           {
            "cells": {
             "fill": {
              "color": "#EBF0F8"
             },
             "line": {
              "color": "white"
             }
            },
            "header": {
             "fill": {
              "color": "#C8D4E3"
             },
             "line": {
              "color": "white"
             }
            },
            "type": "table"
           }
          ]
         },
         "layout": {
          "annotationdefaults": {
           "arrowcolor": "#2a3f5f",
           "arrowhead": 0,
           "arrowwidth": 1
          },
          "autotypenumbers": "strict",
          "coloraxis": {
           "colorbar": {
            "outlinewidth": 0,
            "ticks": ""
           }
          },
          "colorscale": {
           "diverging": [
            [
             0,
             "#8e0152"
            ],
            [
             0.1,
             "#c51b7d"
            ],
            [
             0.2,
             "#de77ae"
            ],
            [
             0.3,
             "#f1b6da"
            ],
            [
             0.4,
             "#fde0ef"
            ],
            [
             0.5,
             "#f7f7f7"
            ],
            [
             0.6,
             "#e6f5d0"
            ],
            [
             0.7,
             "#b8e186"
            ],
            [
             0.8,
             "#7fbc41"
            ],
            [
             0.9,
             "#4d9221"
            ],
            [
             1,
             "#276419"
            ]
           ],
           "sequential": [
            [
             0,
             "#0d0887"
            ],
            [
             0.1111111111111111,
             "#46039f"
            ],
            [
             0.2222222222222222,
             "#7201a8"
            ],
            [
             0.3333333333333333,
             "#9c179e"
            ],
            [
             0.4444444444444444,
             "#bd3786"
            ],
            [
             0.5555555555555556,
             "#d8576b"
            ],
            [
             0.6666666666666666,
             "#ed7953"
            ],
            [
             0.7777777777777778,
             "#fb9f3a"
            ],
            [
             0.8888888888888888,
             "#fdca26"
            ],
            [
             1,
             "#f0f921"
            ]
           ],
           "sequentialminus": [
            [
             0,
             "#0d0887"
            ],
            [
             0.1111111111111111,
             "#46039f"
            ],
            [
             0.2222222222222222,
             "#7201a8"
            ],
            [
             0.3333333333333333,
             "#9c179e"
            ],
            [
             0.4444444444444444,
             "#bd3786"
            ],
            [
             0.5555555555555556,
             "#d8576b"
            ],
            [
             0.6666666666666666,
             "#ed7953"
            ],
            [
             0.7777777777777778,
             "#fb9f3a"
            ],
            [
             0.8888888888888888,
             "#fdca26"
            ],
            [
             1,
             "#f0f921"
            ]
           ]
          },
          "colorway": [
           "#636efa",
           "#EF553B",
           "#00cc96",
           "#ab63fa",
           "#FFA15A",
           "#19d3f3",
           "#FF6692",
           "#B6E880",
           "#FF97FF",
           "#FECB52"
          ],
          "font": {
           "color": "#2a3f5f"
          },
          "geo": {
           "bgcolor": "white",
           "lakecolor": "white",
           "landcolor": "white",
           "showlakes": true,
           "showland": true,
           "subunitcolor": "#C8D4E3"
          },
          "hoverlabel": {
           "align": "left"
          },
          "hovermode": "closest",
          "mapbox": {
           "style": "light"
          },
          "paper_bgcolor": "white",
          "plot_bgcolor": "white",
          "polar": {
           "angularaxis": {
            "gridcolor": "#EBF0F8",
            "linecolor": "#EBF0F8",
            "ticks": ""
           },
           "bgcolor": "white",
           "radialaxis": {
            "gridcolor": "#EBF0F8",
            "linecolor": "#EBF0F8",
            "ticks": ""
           }
          },
          "scene": {
           "xaxis": {
            "backgroundcolor": "white",
            "gridcolor": "#DFE8F3",
            "gridwidth": 2,
            "linecolor": "#EBF0F8",
            "showbackground": true,
            "ticks": "",
            "zerolinecolor": "#EBF0F8"
           },
           "yaxis": {
            "backgroundcolor": "white",
            "gridcolor": "#DFE8F3",
            "gridwidth": 2,
            "linecolor": "#EBF0F8",
            "showbackground": true,
            "ticks": "",
            "zerolinecolor": "#EBF0F8"
           },
           "zaxis": {
            "backgroundcolor": "white",
            "gridcolor": "#DFE8F3",
            "gridwidth": 2,
            "linecolor": "#EBF0F8",
            "showbackground": true,
            "ticks": "",
            "zerolinecolor": "#EBF0F8"
           }
          },
          "shapedefaults": {
           "line": {
            "color": "#2a3f5f"
           }
          },
          "ternary": {
           "aaxis": {
            "gridcolor": "#DFE8F3",
            "linecolor": "#A2B1C6",
            "ticks": ""
           },
           "baxis": {
            "gridcolor": "#DFE8F3",
            "linecolor": "#A2B1C6",
            "ticks": ""
           },
           "bgcolor": "white",
           "caxis": {
            "gridcolor": "#DFE8F3",
            "linecolor": "#A2B1C6",
            "ticks": ""
           }
          },
          "title": {
           "x": 0.05
          },
          "xaxis": {
           "automargin": true,
           "gridcolor": "#EBF0F8",
           "linecolor": "#EBF0F8",
           "ticks": "",
           "title": {
            "standoff": 15
           },
           "zerolinecolor": "#EBF0F8",
           "zerolinewidth": 2
          },
          "yaxis": {
           "automargin": true,
           "gridcolor": "#EBF0F8",
           "linecolor": "#EBF0F8",
           "ticks": "",
           "title": {
            "standoff": 15
           },
           "zerolinecolor": "#EBF0F8",
           "zerolinewidth": 2
          }
         }
        },
        "title": {
         "text": "Like Rate Across Global Sessions"
        },
        "width": 800,
        "xaxis": {
         "tickmode": "array",
         "ticktext": [
          "Dec 10<br>12:25 - 21:03<br>1780 interactions",
          "Dec 11<br>07:01 - 18:06<br>94 interactions",
          "Dec 12<br>06:39 - 16:00<br>2928 interactions",
          "Dec 13<br>08:00 - 07:02<br>7878 interactions"
         ],
         "tickvals": [
          1,
          2,
          3,
          4
         ],
         "title": {
          "text": "Session ID (Start - End Times)"
         }
        },
        "yaxis": {
         "title": {
          "text": "Average Like Rate"
         }
        }
       }
      }
     },
     "metadata": {},
     "output_type": "display_data"
    }
   ],
   "source": [
    "# Example usage\n",
    "plot_global_like_rate(\"../data/interactions2.csv\", delta=6 * 60 * 60)"
   ]
  },
  {
   "cell_type": "code",
   "execution_count": null,
   "metadata": {},
   "outputs": [],
   "source": []
  }
 ],
 "metadata": {
  "kernelspec": {
   "display_name": "Python 3",
   "language": "python",
   "name": "python3"
  },
  "language_info": {
   "codemirror_mode": {
    "name": "ipython",
    "version": 3
   },
   "file_extension": ".py",
   "mimetype": "text/x-python",
   "name": "python",
   "nbconvert_exporter": "python",
   "pygments_lexer": "ipython3",
   "version": "3.10.12"
  }
 },
 "nbformat": 4,
 "nbformat_minor": 2
}
