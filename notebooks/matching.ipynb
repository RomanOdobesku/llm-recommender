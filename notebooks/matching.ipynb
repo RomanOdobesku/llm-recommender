{
 "cells": [
  {
   "cell_type": "code",
   "execution_count": 1,
   "metadata": {
    "execution": {
     "iopub.execute_input": "2024-12-13T23:12:14.590863Z",
     "iopub.status.busy": "2024-12-13T23:12:14.590070Z",
     "iopub.status.idle": "2024-12-13T23:12:31.628866Z",
     "shell.execute_reply": "2024-12-13T23:12:31.628135Z",
     "shell.execute_reply.started": "2024-12-13T23:12:14.590827Z"
    },
    "trusted": true
   },
   "outputs": [
    {
     "name": "stdout",
     "output_type": "stream",
     "text": [
      "Collecting langchain\n",
      "  Downloading langchain-0.3.11-py3-none-any.whl.metadata (7.1 kB)\n",
      "Collecting langchain-community\n",
      "  Downloading langchain_community-0.3.11-py3-none-any.whl.metadata (2.9 kB)\n",
      "Collecting sentence-transformers\n",
      "  Downloading sentence_transformers-3.3.1-py3-none-any.whl.metadata (10 kB)\n",
      "Collecting faiss-cpu\n",
      "  Downloading faiss_cpu-1.9.0.post1-cp310-cp310-manylinux_2_17_x86_64.manylinux2014_x86_64.whl.metadata (4.4 kB)\n",
      "Requirement already satisfied: PyYAML>=5.3 in /opt/conda/lib/python3.10/site-packages (from langchain) (6.0.2)\n",
      "Requirement already satisfied: SQLAlchemy<3,>=1.4 in /opt/conda/lib/python3.10/site-packages (from langchain) (2.0.30)\n",
      "Requirement already satisfied: aiohttp<4.0.0,>=3.8.3 in /opt/conda/lib/python3.10/site-packages (from langchain) (3.9.5)\n",
      "Requirement already satisfied: async-timeout<5.0.0,>=4.0.0 in /opt/conda/lib/python3.10/site-packages (from langchain) (4.0.3)\n",
      "Collecting langchain-core<0.4.0,>=0.3.24 (from langchain)\n",
      "  Downloading langchain_core-0.3.24-py3-none-any.whl.metadata (6.3 kB)\n",
      "Collecting langchain-text-splitters<0.4.0,>=0.3.0 (from langchain)\n",
      "  Downloading langchain_text_splitters-0.3.2-py3-none-any.whl.metadata (2.3 kB)\n",
      "Collecting langsmith<0.3,>=0.1.17 (from langchain)\n",
      "  Downloading langsmith-0.2.3-py3-none-any.whl.metadata (14 kB)\n",
      "Requirement already satisfied: numpy<2,>=1.22.4 in /opt/conda/lib/python3.10/site-packages (from langchain) (1.26.4)\n",
      "Requirement already satisfied: pydantic<3.0.0,>=2.7.4 in /opt/conda/lib/python3.10/site-packages (from langchain) (2.10.1)\n",
      "Requirement already satisfied: requests<3,>=2 in /opt/conda/lib/python3.10/site-packages (from langchain) (2.32.3)\n",
      "Requirement already satisfied: tenacity!=8.4.0,<10,>=8.1.0 in /opt/conda/lib/python3.10/site-packages (from langchain) (8.3.0)\n",
      "Requirement already satisfied: dataclasses-json<0.7,>=0.5.7 in /opt/conda/lib/python3.10/site-packages (from langchain-community) (0.6.7)\n",
      "Collecting httpx-sse<0.5.0,>=0.4.0 (from langchain-community)\n",
      "  Downloading httpx_sse-0.4.0-py3-none-any.whl.metadata (9.0 kB)\n",
      "Collecting pydantic-settings<3.0.0,>=2.4.0 (from langchain-community)\n",
      "  Downloading pydantic_settings-2.7.0-py3-none-any.whl.metadata (3.5 kB)\n",
      "Requirement already satisfied: transformers<5.0.0,>=4.41.0 in /opt/conda/lib/python3.10/site-packages (from sentence-transformers) (4.46.3)\n",
      "Requirement already satisfied: tqdm in /opt/conda/lib/python3.10/site-packages (from sentence-transformers) (4.66.4)\n",
      "Requirement already satisfied: torch>=1.11.0 in /opt/conda/lib/python3.10/site-packages (from sentence-transformers) (2.4.0)\n",
      "Requirement already satisfied: scikit-learn in /opt/conda/lib/python3.10/site-packages (from sentence-transformers) (1.2.2)\n",
      "Requirement already satisfied: scipy in /opt/conda/lib/python3.10/site-packages (from sentence-transformers) (1.14.1)\n",
      "Requirement already satisfied: huggingface-hub>=0.20.0 in /opt/conda/lib/python3.10/site-packages (from sentence-transformers) (0.26.2)\n",
      "Requirement already satisfied: Pillow in /opt/conda/lib/python3.10/site-packages (from sentence-transformers) (10.3.0)\n",
      "Requirement already satisfied: packaging in /opt/conda/lib/python3.10/site-packages (from faiss-cpu) (21.3)\n",
      "Requirement already satisfied: aiosignal>=1.1.2 in /opt/conda/lib/python3.10/site-packages (from aiohttp<4.0.0,>=3.8.3->langchain) (1.3.1)\n",
      "Requirement already satisfied: attrs>=17.3.0 in /opt/conda/lib/python3.10/site-packages (from aiohttp<4.0.0,>=3.8.3->langchain) (23.2.0)\n",
      "Requirement already satisfied: frozenlist>=1.1.1 in /opt/conda/lib/python3.10/site-packages (from aiohttp<4.0.0,>=3.8.3->langchain) (1.4.1)\n",
      "Requirement already satisfied: multidict<7.0,>=4.5 in /opt/conda/lib/python3.10/site-packages (from aiohttp<4.0.0,>=3.8.3->langchain) (6.0.5)\n",
      "Requirement already satisfied: yarl<2.0,>=1.0 in /opt/conda/lib/python3.10/site-packages (from aiohttp<4.0.0,>=3.8.3->langchain) (1.9.4)\n",
      "Requirement already satisfied: marshmallow<4.0.0,>=3.18.0 in /opt/conda/lib/python3.10/site-packages (from dataclasses-json<0.7,>=0.5.7->langchain-community) (3.23.1)\n",
      "Requirement already satisfied: typing-inspect<1,>=0.4.0 in /opt/conda/lib/python3.10/site-packages (from dataclasses-json<0.7,>=0.5.7->langchain-community) (0.9.0)\n",
      "Requirement already satisfied: filelock in /opt/conda/lib/python3.10/site-packages (from huggingface-hub>=0.20.0->sentence-transformers) (3.15.1)\n",
      "Requirement already satisfied: fsspec>=2023.5.0 in /opt/conda/lib/python3.10/site-packages (from huggingface-hub>=0.20.0->sentence-transformers) (2024.6.0)\n",
      "Requirement already satisfied: typing-extensions>=3.7.4.3 in /opt/conda/lib/python3.10/site-packages (from huggingface-hub>=0.20.0->sentence-transformers) (4.12.2)\n",
      "Requirement already satisfied: jsonpatch<2.0,>=1.33 in /opt/conda/lib/python3.10/site-packages (from langchain-core<0.4.0,>=0.3.24->langchain) (1.33)\n",
      "Collecting packaging (from faiss-cpu)\n",
      "  Downloading packaging-24.2-py3-none-any.whl.metadata (3.2 kB)\n",
      "Requirement already satisfied: httpx<1,>=0.23.0 in /opt/conda/lib/python3.10/site-packages (from langsmith<0.3,>=0.1.17->langchain) (0.27.0)\n",
      "Requirement already satisfied: orjson<4.0.0,>=3.9.14 in /opt/conda/lib/python3.10/site-packages (from langsmith<0.3,>=0.1.17->langchain) (3.10.4)\n",
      "Collecting requests-toolbelt<2.0.0,>=1.0.0 (from langsmith<0.3,>=0.1.17->langchain)\n",
      "  Downloading requests_toolbelt-1.0.0-py2.py3-none-any.whl.metadata (14 kB)\n",
      "Requirement already satisfied: annotated-types>=0.6.0 in /opt/conda/lib/python3.10/site-packages (from pydantic<3.0.0,>=2.7.4->langchain) (0.7.0)\n",
      "Requirement already satisfied: pydantic-core==2.27.1 in /opt/conda/lib/python3.10/site-packages (from pydantic<3.0.0,>=2.7.4->langchain) (2.27.1)\n",
      "Requirement already satisfied: python-dotenv>=0.21.0 in /opt/conda/lib/python3.10/site-packages (from pydantic-settings<3.0.0,>=2.4.0->langchain-community) (1.0.1)\n",
      "Requirement already satisfied: charset-normalizer<4,>=2 in /opt/conda/lib/python3.10/site-packages (from requests<3,>=2->langchain) (3.3.2)\n",
      "Requirement already satisfied: idna<4,>=2.5 in /opt/conda/lib/python3.10/site-packages (from requests<3,>=2->langchain) (3.7)\n",
      "Requirement already satisfied: urllib3<3,>=1.21.1 in /opt/conda/lib/python3.10/site-packages (from requests<3,>=2->langchain) (1.26.18)\n",
      "Requirement already satisfied: certifi>=2017.4.17 in /opt/conda/lib/python3.10/site-packages (from requests<3,>=2->langchain) (2024.6.2)\n",
      "Requirement already satisfied: greenlet!=0.4.17 in /opt/conda/lib/python3.10/site-packages (from SQLAlchemy<3,>=1.4->langchain) (3.0.3)\n",
      "Requirement already satisfied: sympy in /opt/conda/lib/python3.10/site-packages (from torch>=1.11.0->sentence-transformers) (1.13.3)\n",
      "Requirement already satisfied: networkx in /opt/conda/lib/python3.10/site-packages (from torch>=1.11.0->sentence-transformers) (3.3)\n",
      "Requirement already satisfied: jinja2 in /opt/conda/lib/python3.10/site-packages (from torch>=1.11.0->sentence-transformers) (3.1.4)\n",
      "Requirement already satisfied: regex!=2019.12.17 in /opt/conda/lib/python3.10/site-packages (from transformers<5.0.0,>=4.41.0->sentence-transformers) (2024.5.15)\n",
      "Requirement already satisfied: tokenizers<0.21,>=0.20 in /opt/conda/lib/python3.10/site-packages (from transformers<5.0.0,>=4.41.0->sentence-transformers) (0.20.3)\n",
      "Requirement already satisfied: safetensors>=0.4.1 in /opt/conda/lib/python3.10/site-packages (from transformers<5.0.0,>=4.41.0->sentence-transformers) (0.4.5)\n",
      "Requirement already satisfied: joblib>=1.1.1 in /opt/conda/lib/python3.10/site-packages (from scikit-learn->sentence-transformers) (1.4.2)\n",
      "Requirement already satisfied: threadpoolctl>=2.0.0 in /opt/conda/lib/python3.10/site-packages (from scikit-learn->sentence-transformers) (3.5.0)\n",
      "Requirement already satisfied: anyio in /opt/conda/lib/python3.10/site-packages (from httpx<1,>=0.23.0->langsmith<0.3,>=0.1.17->langchain) (4.4.0)\n",
      "Requirement already satisfied: httpcore==1.* in /opt/conda/lib/python3.10/site-packages (from httpx<1,>=0.23.0->langsmith<0.3,>=0.1.17->langchain) (1.0.5)\n",
      "Requirement already satisfied: sniffio in /opt/conda/lib/python3.10/site-packages (from httpx<1,>=0.23.0->langsmith<0.3,>=0.1.17->langchain) (1.3.1)\n",
      "Requirement already satisfied: h11<0.15,>=0.13 in /opt/conda/lib/python3.10/site-packages (from httpcore==1.*->httpx<1,>=0.23.0->langsmith<0.3,>=0.1.17->langchain) (0.14.0)\n",
      "Requirement already satisfied: jsonpointer>=1.9 in /opt/conda/lib/python3.10/site-packages (from jsonpatch<2.0,>=1.33->langchain-core<0.4.0,>=0.3.24->langchain) (2.4)\n",
      "Requirement already satisfied: mypy-extensions>=0.3.0 in /opt/conda/lib/python3.10/site-packages (from typing-inspect<1,>=0.4.0->dataclasses-json<0.7,>=0.5.7->langchain-community) (1.0.0)\n",
      "Requirement already satisfied: MarkupSafe>=2.0 in /opt/conda/lib/python3.10/site-packages (from jinja2->torch>=1.11.0->sentence-transformers) (2.1.5)\n",
      "Requirement already satisfied: mpmath<1.4,>=1.1.0 in /opt/conda/lib/python3.10/site-packages (from sympy->torch>=1.11.0->sentence-transformers) (1.3.0)\n",
      "Requirement already satisfied: exceptiongroup>=1.0.2 in /opt/conda/lib/python3.10/site-packages (from anyio->httpx<1,>=0.23.0->langsmith<0.3,>=0.1.17->langchain) (1.2.0)\n",
      "Downloading langchain-0.3.11-py3-none-any.whl (1.0 MB)\n",
      "\u001b[2K   \u001b[90m━━━━━━━━━━━━━━━━━━━━━━━━━━━━━━━━━━━━━━━━\u001b[0m \u001b[32m1.0/1.0 MB\u001b[0m \u001b[31m21.0 MB/s\u001b[0m eta \u001b[36m0:00:00\u001b[0m00:01\u001b[0m\n",
      "\u001b[?25hDownloading langchain_community-0.3.11-py3-none-any.whl (2.5 MB)\n",
      "\u001b[2K   \u001b[90m━━━━━━━━━━━━━━━━━━━━━━━━━━━━━━━━━━━━━━━━\u001b[0m \u001b[32m2.5/2.5 MB\u001b[0m \u001b[31m76.0 MB/s\u001b[0m eta \u001b[36m0:00:00\u001b[0m\n",
      "\u001b[?25hDownloading sentence_transformers-3.3.1-py3-none-any.whl (268 kB)\n",
      "\u001b[2K   \u001b[90m━━━━━━━━━━━━━━━━━━━━━━━━━━━━━━━━━━━━━━━━\u001b[0m \u001b[32m268.8/268.8 kB\u001b[0m \u001b[31m17.6 MB/s\u001b[0m eta \u001b[36m0:00:00\u001b[0m\n",
      "\u001b[?25hDownloading faiss_cpu-1.9.0.post1-cp310-cp310-manylinux_2_17_x86_64.manylinux2014_x86_64.whl (27.5 MB)\n",
      "\u001b[2K   \u001b[90m━━━━━━━━━━━━━━━━━━━━━━━━━━━━━━━━━━━━━━━━\u001b[0m \u001b[32m27.5/27.5 MB\u001b[0m \u001b[31m74.0 MB/s\u001b[0m eta \u001b[36m0:00:00\u001b[0m:00:01\u001b[0m00:01\u001b[0m\n",
      "\u001b[?25hDownloading httpx_sse-0.4.0-py3-none-any.whl (7.8 kB)\n",
      "Downloading langchain_core-0.3.24-py3-none-any.whl (410 kB)\n",
      "\u001b[2K   \u001b[90m━━━━━━━━━━━━━━━━━━━━━━━━━━━━━━━━━━━━━━━━\u001b[0m \u001b[32m410.6/410.6 kB\u001b[0m \u001b[31m23.3 MB/s\u001b[0m eta \u001b[36m0:00:00\u001b[0m\n",
      "\u001b[?25hDownloading langchain_text_splitters-0.3.2-py3-none-any.whl (25 kB)\n",
      "Downloading langsmith-0.2.3-py3-none-any.whl (320 kB)\n",
      "\u001b[2K   \u001b[90m━━━━━━━━━━━━━━━━━━━━━━━━━━━━━━━━━━━━━━━━\u001b[0m \u001b[32m320.7/320.7 kB\u001b[0m \u001b[31m19.0 MB/s\u001b[0m eta \u001b[36m0:00:00\u001b[0m\n",
      "\u001b[?25hDownloading packaging-24.2-py3-none-any.whl (65 kB)\n",
      "\u001b[2K   \u001b[90m━━━━━━━━━━━━━━━━━━━━━━━━━━━━━━━━━━━━━━━━\u001b[0m \u001b[32m65.5/65.5 kB\u001b[0m \u001b[31m5.0 MB/s\u001b[0m eta \u001b[36m0:00:00\u001b[0m\n",
      "\u001b[?25hDownloading pydantic_settings-2.7.0-py3-none-any.whl (29 kB)\n",
      "Downloading requests_toolbelt-1.0.0-py2.py3-none-any.whl (54 kB)\n",
      "\u001b[2K   \u001b[90m━━━━━━━━━━━━━━━━━━━━━━━━━━━━━━━━━━━━━━━━\u001b[0m \u001b[32m54.5/54.5 kB\u001b[0m \u001b[31m4.0 MB/s\u001b[0m eta \u001b[36m0:00:00\u001b[0m\n",
      "\u001b[?25hInstalling collected packages: packaging, httpx-sse, requests-toolbelt, faiss-cpu, pydantic-settings, langsmith, langchain-core, sentence-transformers, langchain-text-splitters, langchain, langchain-community\n",
      "  Attempting uninstall: packaging\n",
      "    Found existing installation: packaging 21.3\n",
      "    Uninstalling packaging-21.3:\n",
      "      Successfully uninstalled packaging-21.3\n",
      "  Attempting uninstall: requests-toolbelt\n",
      "    Found existing installation: requests-toolbelt 0.10.1\n",
      "    Uninstalling requests-toolbelt-0.10.1:\n",
      "      Successfully uninstalled requests-toolbelt-0.10.1\n",
      "\u001b[31mERROR: pip's dependency resolver does not currently take into account all the packages that are installed. This behaviour is the source of the following dependency conflicts.\n",
      "cudf 24.10.1 requires cubinlinker, which is not installed.\n",
      "cudf 24.10.1 requires cupy-cuda11x>=12.0.0, which is not installed.\n",
      "cudf 24.10.1 requires libcudf==24.10.*, which is not installed.\n",
      "cudf 24.10.1 requires ptxcompiler, which is not installed.\n",
      "cuml 24.10.0 requires cupy-cuda11x>=12.0.0, which is not installed.\n",
      "cuml 24.10.0 requires cuvs==24.10.*, which is not installed.\n",
      "cuml 24.10.0 requires nvidia-cublas, which is not installed.\n",
      "cuml 24.10.0 requires nvidia-cufft, which is not installed.\n",
      "cuml 24.10.0 requires nvidia-curand, which is not installed.\n",
      "cuml 24.10.0 requires nvidia-cusolver, which is not installed.\n",
      "cuml 24.10.0 requires nvidia-cusparse, which is not installed.\n",
      "dask-cudf 24.10.1 requires cupy-cuda11x>=12.0.0, which is not installed.\n",
      "pylibcudf 24.10.1 requires libcudf==24.10.*, which is not installed.\n",
      "cudf 24.10.1 requires cuda-python<12.0a0,>=11.7.1, but you have cuda-python 12.6.2.post1 which is incompatible.\n",
      "cudf 24.10.1 requires pandas<2.2.3dev0,>=2.0, but you have pandas 2.2.3 which is incompatible.\n",
      "dask-cudf 24.10.1 requires pandas<2.2.3dev0,>=2.0, but you have pandas 2.2.3 which is incompatible.\n",
      "distributed 2024.9.0 requires dask==2024.9.0, but you have dask 2024.11.2 which is incompatible.\n",
      "google-cloud-bigquery 2.34.4 requires packaging<22.0dev,>=14.3, but you have packaging 24.2 which is incompatible.\n",
      "jupyterlab 4.3.1 requires jupyter-lsp>=2.0.0, but you have jupyter-lsp 1.5.1 which is incompatible.\n",
      "jupyterlab-lsp 5.1.0 requires jupyter-lsp>=2.0.0, but you have jupyter-lsp 1.5.1 which is incompatible.\n",
      "kfp 2.5.0 requires google-cloud-storage<3,>=2.2.1, but you have google-cloud-storage 1.44.0 which is incompatible.\n",
      "kfp 2.5.0 requires requests-toolbelt<1,>=0.8.0, but you have requests-toolbelt 1.0.0 which is incompatible.\n",
      "libpysal 4.9.2 requires shapely>=2.0.1, but you have shapely 1.8.5.post1 which is incompatible.\n",
      "mlxtend 0.23.3 requires scikit-learn>=1.3.1, but you have scikit-learn 1.2.2 which is incompatible.\n",
      "plotnine 0.14.3 requires matplotlib>=3.8.0, but you have matplotlib 3.7.5 which is incompatible.\n",
      "pylibcudf 24.10.1 requires cuda-python<12.0a0,>=11.7.1, but you have cuda-python 12.6.2.post1 which is incompatible.\n",
      "rapids-dask-dependency 24.10.0a0 requires dask==2024.9.0, but you have dask 2024.11.2 which is incompatible.\n",
      "rapids-dask-dependency 24.10.0a0 requires dask-expr==1.1.14, but you have dask-expr 1.1.19 which is incompatible.\n",
      "thinc 8.3.2 requires numpy<2.1.0,>=2.0.0; python_version >= \"3.9\", but you have numpy 1.26.4 which is incompatible.\n",
      "ydata-profiling 4.12.0 requires scipy<1.14,>=1.4.1, but you have scipy 1.14.1 which is incompatible.\u001b[0m\u001b[31m\n",
      "\u001b[0mSuccessfully installed faiss-cpu-1.9.0.post1 httpx-sse-0.4.0 langchain-0.3.11 langchain-community-0.3.11 langchain-core-0.3.24 langchain-text-splitters-0.3.2 langsmith-0.2.3 packaging-24.2 pydantic-settings-2.7.0 requests-toolbelt-1.0.0 sentence-transformers-3.3.1\n"
     ]
    }
   ],
   "source": [
    "!pip install langchain langchain-community sentence-transformers faiss-cpu\n",
    "\n",
    "from langchain.vectorstores import FAISS\n",
    "from langchain.embeddings import HuggingFaceEmbeddings\n",
    "from langchain.schema import Document\n",
    "import pandas as pd\n",
    "from tqdm import tqdm"
   ]
  },
  {
   "cell_type": "code",
   "execution_count": 2,
   "metadata": {
    "execution": {
     "iopub.execute_input": "2024-12-13T23:12:31.630954Z",
     "iopub.status.busy": "2024-12-13T23:12:31.630547Z",
     "iopub.status.idle": "2024-12-13T23:12:31.642470Z",
     "shell.execute_reply": "2024-12-13T23:12:31.641546Z",
     "shell.execute_reply.started": "2024-12-13T23:12:31.630926Z"
    },
    "trusted": true
   },
   "outputs": [],
   "source": [
    "available_categories = ['Уход за волосами', 'Уход за лицом', 'Уход за телом', 'Макияж', 'Маникюр и педикюр', 'Парфюмерия', 'Загар и защита от солнца', 'Мужская косметика', 'Детская косметика и парфюмерия', 'Беременным и кормящим', 'Аппаратная косметология и массаж', 'Ароматерапия', 'Оборудование и материалы для тату-салона', 'Мебель и оборудование для салонов красоты', 'Для кошек', 'Для собак', 'Для грызунов и хорьков', 'Для птиц', 'Для рыб и рептилий', 'Для лошадей', 'Ветаптека', 'Фермерское хозяйство', 'Ветеринарное оборудование', 'Лекарственные средства', 'Витамины и БАДы', 'Парафармацевтика', 'Оптика', 'Медицинские приборы', 'Медицинское оборудование', 'Аксессуары и комплектующие', 'Медицинские изделия и расходные материалы', 'Одежда и текстиль медицинские', 'Медицинские инструменты', 'Материалы и средства стоматологические', 'Товары для гигиены', 'Товары для реабилитации', 'Ортопедия', 'Ручные массажеры и аппликаторы', 'Мебель медицинская', 'Женщинам', 'Мужчинам', 'Детям', 'Уход и аксессуары', 'Бытовая химия', 'Личная гигиена', 'Туризм и отдых на природе', 'Рыбалка', 'Охота и стрельба', 'Лодки и лодочные моторы', 'Одежда для рыбалки и охоты', 'Обувь для рыбалки и охоты', 'Тактическая одежда и аксессуары', 'Наборы для выживания', 'Автомобили новые', 'Климатическая техника', 'Техника для кухни', 'Техника для дома', 'Техника для красоты и здоровья', 'Крупная бытовая техника', 'Техника для общепита', 'Женщинам', 'Мужчинам', 'Детям', 'Униформа и рабочая одежда', 'Уход за одеждой', 'Электронные сертификаты', 'Онлайн-подписки', 'Игры и игровые подписки', 'Программное обеспечение', 'Облачные хранилища', 'Услуги', 'Садовая мебель', 'Компьютерная и офисная мебель', 'Мягкая мебель', 'Столы и стулья', 'Мебель для хранения', 'Мебель для спальни и комплектующие', 'Мебель для кухни', 'Мебель для ванной', 'Бескаркасная мебель', 'Детская мебель', 'Мебель для бизнеса', 'Сейфы и архивные шкафы', 'Телефоны и смарт-часы', 'Наушники и аудиотехника', 'Ноутбуки, планшеты и электронные книги', 'Телевизоры и видеотехника', 'Комплектующие для ПК', 'Компьютеры и периферия', 'Игровые приставки и ноутбуки', 'Офисная техника', 'Фото и видеокамеры', 'Охранные системы и видеонаблюдение', 'Умный дом', 'Квадрокоптеры и аксессуары', 'Навигаторы', 'Оптические приборы', 'Часы и электронные будильники', 'Аксессуары для электроники', 'Запчасти для легковых автомобилей', 'Автоаксессуары и принадлежности', 'Масла и автохимия', 'Шины и диски', 'Автозвук', 'Транспортные средства', 'Уход за автомобилем', 'Электроника для автомобиля', 'Инструменты и оборудование', 'Гараж и автосервис', 'Аккумуляторы и аксессуары', 'Мототовары', 'Запчасти для грузовиков и спецтехники', 'Автолитература', 'Коллекционирование', 'Посуда и утварь', 'Предметы военной истории', 'Предметы интерьера', 'Предметы быта', 'Мебель', 'Украшения', 'Часы наручные', 'Канцелярия', 'Приборы и инструменты', 'Живопись и графика', 'Виниловые пластинки', 'Галантерея', 'Товары для курения', 'Музыкальные инструменты', 'Религиозная атрибутика', 'Кольца', 'Серьги', 'Браслеты', 'Украшения на шею', 'Комплекты украшений', 'Шармы', 'Броши и значки', 'Пирсинг', 'Часы', 'Детские украшения', 'Запонки и зажимы', 'Сувениры', 'Шнурки', 'Аксессуары для волос', 'Религиозные украшения', 'Нехудожественная литература', 'Бизнес-литература', 'Художественная литература', 'Детям и родителям', 'Учебная литература', 'Электронные книги', 'Букинистика', 'Комиксы', 'Манга', 'Печать по требованию', 'Подарочные издания книг', 'Журналы и газеты', 'Литература на иностранных языках', 'Электронные аудиокниги', 'Подписки на электронные книги и аудиокниги', 'Антикварные книги', 'Книги б/у', 'Блокноты и ежедневники', 'Буклеты, листовки и брошюры', 'Товары для школы и обучения', 'Игрушки и игры', 'Спорт и игры на улице', 'Подгузники и гигиена', 'Детская комната', 'Коляски и автокресла', 'Детское питание', 'Товары для кормления', 'Товары для мам', 'Посуда и кухонные принадлежности', 'Текстиль', 'Освещение', 'Декор и интерьер', 'Дача и сад', 'Цветы, растения и горшки', 'Хозяйственные товары', 'Хранение вещей', 'Товары для бань и саун', 'Товары для праздников','Религия и эзотерика', 'Ритуальные товары', 'Женщинам', 'Мужчинам', 'Детям', 'Путешествия', 'Игровые жанры', 'PlayStation', 'Nintendo', 'Xbox', 'Игровые приставки', 'PC', 'Mobile gaming', 'Ретро-консоли', 'Игровые картриджи', 'Игровая атрибутика', 'Игровые наушники', 'Геймпады', 'Очки виртуальной реальности', 'Рули и педали', 'Аксессуары для игровых приставок', 'Аксессуары для киберспорта', 'Аккумуляторы и зарядки', 'Сумки и чехлы', 'Запчасти для игровых консолей', 'Музыка', 'Виниловые пластинки', 'Видео', 'Письменные принадлежности', 'Бумага', 'Бумажная продукция', 'Папки и файлы', 'Обложки', 'Демонстрационные доски', 'Офисные принадлежности', 'Подставки и визитницы', 'Печати и штампы', 'Калькуляторы', 'Картриджи для лазерных принтеров', 'Картриджи для струйных принтеров', 'Чертежные принадлежности', 'Оборудование и принадлежности для торговли', 'Полиграфическое оборудование', 'Сублимационная печать']"
   ]
  },
  {
   "cell_type": "code",
   "execution_count": 3,
   "metadata": {
    "execution": {
     "iopub.execute_input": "2024-12-13T23:12:31.644019Z",
     "iopub.status.busy": "2024-12-13T23:12:31.643657Z",
     "iopub.status.idle": "2024-12-13T23:12:34.850927Z",
     "shell.execute_reply": "2024-12-13T23:12:34.850032Z",
     "shell.execute_reply.started": "2024-12-13T23:12:31.643985Z"
    },
    "trusted": true
   },
   "outputs": [
    {
     "name": "stdout",
     "output_type": "stream",
     "text": [
      "Using device: cuda\n"
     ]
    }
   ],
   "source": [
    "import torch\n",
    "device = torch.device(\"cuda\" if torch.cuda.is_available() else \"cpu\")\n",
    "print(f\"Using device: {device}\")"
   ]
  },
  {
   "cell_type": "code",
   "execution_count": null,
   "metadata": {
    "execution": {
     "iopub.execute_input": "2024-12-13T23:12:34.853103Z",
     "iopub.status.busy": "2024-12-13T23:12:34.852659Z"
    },
    "trusted": true
   },
   "outputs": [
    {
     "name": "stderr",
     "output_type": "stream",
     "text": [
      "/tmp/ipykernel_23/71589224.py:3: LangChainDeprecationWarning: The class `HuggingFaceEmbeddings` was deprecated in LangChain 0.2.2 and will be removed in 1.0. An updated version of the class exists in the :class:`~langchain-huggingface package and should be used instead. To use it run `pip install -U :class:`~langchain-huggingface` and import as `from :class:`~langchain_huggingface import HuggingFaceEmbeddings``.\n",
      "  embedding_model = HuggingFaceEmbeddings(model_name=\"BAAI/bge-m3\", model_kwargs=model_kwargs)\n"
     ]
    },
    {
     "data": {
      "application/vnd.jupyter.widget-view+json": {
       "model_id": "f1d6f764dfdd487782cae13caa4c1725",
       "version_major": 2,
       "version_minor": 0
      },
      "text/plain": [
       "modules.json:   0%|          | 0.00/349 [00:00<?, ?B/s]"
      ]
     },
     "metadata": {},
     "output_type": "display_data"
    },
    {
     "data": {
      "application/vnd.jupyter.widget-view+json": {
       "model_id": "a0e70f3e30bc4abfba64c2feeba45f6a",
       "version_major": 2,
       "version_minor": 0
      },
      "text/plain": [
       "config_sentence_transformers.json:   0%|          | 0.00/123 [00:00<?, ?B/s]"
      ]
     },
     "metadata": {},
     "output_type": "display_data"
    },
    {
     "data": {
      "application/vnd.jupyter.widget-view+json": {
       "model_id": "a35fa8e35d6a490aa0823ef19f3a382d",
       "version_major": 2,
       "version_minor": 0
      },
      "text/plain": [
       "README.md:   0%|          | 0.00/15.8k [00:00<?, ?B/s]"
      ]
     },
     "metadata": {},
     "output_type": "display_data"
    },
    {
     "data": {
      "application/vnd.jupyter.widget-view+json": {
       "model_id": "22e2168c640641bfb9cdc4124e526cf1",
       "version_major": 2,
       "version_minor": 0
      },
      "text/plain": [
       "sentence_bert_config.json:   0%|          | 0.00/54.0 [00:00<?, ?B/s]"
      ]
     },
     "metadata": {},
     "output_type": "display_data"
    },
    {
     "data": {
      "application/vnd.jupyter.widget-view+json": {
       "model_id": "60a71ef97e9941528a7cfa619818c5dc",
       "version_major": 2,
       "version_minor": 0
      },
      "text/plain": [
       "config.json:   0%|          | 0.00/687 [00:00<?, ?B/s]"
      ]
     },
     "metadata": {},
     "output_type": "display_data"
    },
    {
     "data": {
      "application/vnd.jupyter.widget-view+json": {
       "model_id": "2bacba38b3924bd18d96ff05f89862b3",
       "version_major": 2,
       "version_minor": 0
      },
      "text/plain": [
       "pytorch_model.bin:   0%|          | 0.00/2.27G [00:00<?, ?B/s]"
      ]
     },
     "metadata": {},
     "output_type": "display_data"
    }
   ],
   "source": [
    "model_kwargs = {'device': device}\n",
    "embedding_model = HuggingFaceEmbeddings(model_name=\"BAAI/bge-m3\", model_kwargs=model_kwargs)"
   ]
  },
  {
   "cell_type": "code",
   "execution_count": null,
   "metadata": {
    "trusted": true
   },
   "outputs": [],
   "source": [
    "available_category_vectors = embedding_model.embed_documents(available_categories)"
   ]
  },
  {
   "cell_type": "code",
   "execution_count": null,
   "metadata": {
    "trusted": true
   },
   "outputs": [],
   "source": [
    "faiss_index = FAISS.from_texts(available_categories, embedding_model)"
   ]
  },
  {
   "cell_type": "code",
   "execution_count": null,
   "metadata": {
    "trusted": true
   },
   "outputs": [],
   "source": [
    "import json\n",
    "\n",
    "# matching\n",
    "predictions_path = \"/kaggle/input/llm-rec-final/pairs_final.json\"\n",
    "new_predictions_path = \"predicted_categories.json\"\n",
    "predicted_categories_map = {}\n",
    "\n",
    "with open(predictions_path, \"r\", encoding=\"utf-8\") as f:\n",
    "    predictions = json.load(f)\n",
    "\n",
    "for i, prediction in tqdm(enumerate(predictions), total=len(predictions), desc=\"Processing Predictions\"):\n",
    "    categories_to_match = prediction[2].split(\"; \")\n",
    "    prediction[-1] = categories_to_match\n",
    "    arr = []\n",
    "    for cat in categories_to_match:\n",
    "        arr.append(faiss_index.similarity_search(cat, k=1)[0].page_content)\n",
    "    prediction.append(arr)\n",
    "    predictions[i] = prediction\n",
    "\n",
    "with open(new_predictions_path, \"w\", encoding=\"utf-8\") as file:\n",
    "    json.dump(predictions, file, ensure_ascii=False, indent=4)\n",
    "\n",
    "print(predictions)"
   ]
  },
  {
   "cell_type": "code",
   "execution_count": null,
   "metadata": {},
   "outputs": [],
   "source": [
    "# remove cycles\n",
    "with open(\"predicted_categories.json\", \"r\", encoding=\"utf-8\") as f:\n",
    "    predictions = json.load(f)\n",
    "\n",
    "count = 0\n",
    "for i,pred in enumerate(predictions):\n",
    "    filtered_arr = [c for c in pred[3] if c != pred[0] and c != pred[1]]\n",
    "    pred[3] = filtered_arr\n",
    "    predictions[i] = pred\n",
    "    if (pred[0] in pred[2] or pred[1] in pred[2] or pred[0] in pred[3] or pred[1] in pred[3]):\n",
    "        count += 1\n",
    "        print(filtered_arr)\n",
    "\n",
    "with open(\"predicted_categories.json\", \"w\", encoding=\"utf-8\") as file:\n",
    "    json.dump(predictions, file, ensure_ascii=False, indent=4)"
   ]
  }
 ],
 "metadata": {
  "kaggle": {
   "accelerator": "gpu",
   "dataSources": [
    {
     "datasetId": 6291542,
     "sourceId": 10184408,
     "sourceType": "datasetVersion"
    },
    {
     "datasetId": 6298324,
     "sourceId": 10193457,
     "sourceType": "datasetVersion"
    }
   ],
   "dockerImageVersionId": 30804,
   "isGpuEnabled": true,
   "isInternetEnabled": true,
   "language": "python",
   "sourceType": "notebook"
  },
  "kernelspec": {
   "display_name": "Python 3",
   "language": "python",
   "name": "python3"
  },
  "language_info": {
   "codemirror_mode": {
    "name": "ipython",
    "version": 3
   },
   "file_extension": ".py",
   "mimetype": "text/x-python",
   "name": "python",
   "nbconvert_exporter": "python",
   "pygments_lexer": "ipython3",
   "version": "3.10.14"
  }
 },
 "nbformat": 4,
 "nbformat_minor": 4
}
